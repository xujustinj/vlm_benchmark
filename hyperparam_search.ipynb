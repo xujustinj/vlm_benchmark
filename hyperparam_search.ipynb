{
 "cells": [
  {
   "cell_type": "code",
   "execution_count": 1,
   "metadata": {},
   "outputs": [
    {
     "name": "stderr",
     "output_type": "stream",
     "text": [
      "/home/rob/vlm_benchmark/FewShotTestHandler.py:5: TqdmExperimentalWarning: Using `tqdm.autonotebook.tqdm` in notebook mode. Use `tqdm.tqdm` instead to force console mode (e.g. in jupyter console)\n",
      "  from tqdm.autonotebook import tqdm\n"
     ]
    }
   ],
   "source": [
    "import numpy as np\n",
    "import os, sys\n",
    "import importlib\n",
    "from tqdm.notebook import tqdm, trange\n",
    "import pandas as pd\n",
    "import json\n",
    "import itertools\n",
    "from IPython.display import display, HTML, clear_output\n",
    "import matplotlib.pyplot as plt\n",
    "%matplotlib inline\n",
    "\n",
    "from FewShotTestHandler import FewShotTestHandler, optimize_hyperparameters, find_hyperparameters, dataframe_format\n",
    "from dataset import DatasetHandler\n",
    "from similarity_metrics import Similarity\n",
    "from plotting_utils import plot\n",
    "\n",
    "ENV = os.environ[\"CONDA_DEFAULT_ENV\"]\n",
    "pd.options.display.max_rows = 200"
   ]
  },
  {
   "cell_type": "code",
   "execution_count": 2,
   "metadata": {},
   "outputs": [
    {
     "name": "stdout",
     "output_type": "stream",
     "text": [
      "Requirement already satisfied: scikit-optimize in /home/rob/miniconda3/envs/videoclip/lib/python3.8/site-packages (0.9.0)\n",
      "Requirement already satisfied: scipy>=0.19.1 in /home/rob/miniconda3/envs/videoclip/lib/python3.8/site-packages (from scikit-optimize) (1.9.0)\n",
      "Requirement already satisfied: numpy>=1.13.3 in /home/rob/miniconda3/envs/videoclip/lib/python3.8/site-packages (from scikit-optimize) (1.23.1)\n",
      "Requirement already satisfied: joblib>=0.11 in /home/rob/miniconda3/envs/videoclip/lib/python3.8/site-packages (from scikit-optimize) (1.1.0)\n",
      "Requirement already satisfied: scikit-learn>=0.20.0 in /home/rob/miniconda3/envs/videoclip/lib/python3.8/site-packages (from scikit-optimize) (1.1.2)\n",
      "Requirement already satisfied: pyaml>=16.9 in /home/rob/miniconda3/envs/videoclip/lib/python3.8/site-packages (from scikit-optimize) (21.10.1)\n",
      "Requirement already satisfied: PyYAML in /home/rob/miniconda3/envs/videoclip/lib/python3.8/site-packages (from pyaml>=16.9->scikit-optimize) (6.0)\n",
      "Requirement already satisfied: threadpoolctl>=2.0.0 in /home/rob/miniconda3/envs/videoclip/lib/python3.8/site-packages (from scikit-learn>=0.20.0->scikit-optimize) (3.1.0)\n"
     ]
    }
   ],
   "source": [
    "!pip install scikit-optimize\n",
    "import skopt\n",
    "import skopt.plots"
   ]
  },
  {
   "cell_type": "markdown",
   "metadata": {},
   "source": [
    "### Settings"
   ]
  },
  {
   "cell_type": "code",
   "execution_count": 3,
   "metadata": {},
   "outputs": [
    {
     "name": "stdout",
     "output_type": "stream",
     "text": [
      "PATH IS: video_clip/MMPT_updated/projects/retri/videoclip/how2.yaml\n",
      "CKPT SAVE DIR: video_clip/MMPT_updated/runs/retri/videoclip\n"
     ]
    },
    {
     "name": "stderr",
     "output_type": "stream",
     "text": [
      "Some weights of the model checkpoint at bert-base-uncased were not used when initializing MMBertForEncoder: ['bert.encoder.layer.7.attention.self.key.weight', 'bert.encoder.layer.8.output.LayerNorm.weight', 'bert.encoder.layer.6.attention.self.value.weight', 'bert.encoder.layer.9.attention.self.value.weight', 'bert.encoder.layer.9.attention.output.dense.weight', 'bert.encoder.layer.9.attention.self.key.bias', 'bert.encoder.layer.6.attention.self.value.bias', 'bert.encoder.layer.9.attention.self.query.bias', 'bert.encoder.layer.10.attention.output.LayerNorm.weight', 'bert.encoder.layer.7.attention.self.query.bias', 'bert.encoder.layer.8.attention.output.LayerNorm.weight', 'bert.encoder.layer.11.attention.output.dense.weight', 'bert.encoder.layer.6.output.dense.weight', 'bert.encoder.layer.6.intermediate.dense.bias', 'bert.encoder.layer.10.attention.output.dense.weight', 'bert.encoder.layer.10.attention.output.LayerNorm.bias', 'cls.predictions.transform.LayerNorm.bias', 'bert.encoder.layer.8.intermediate.dense.bias', 'cls.predictions.transform.dense.bias', 'bert.encoder.layer.10.output.dense.weight', 'bert.encoder.layer.9.attention.output.LayerNorm.weight', 'bert.encoder.layer.11.attention.self.key.weight', 'bert.encoder.layer.11.attention.self.key.bias', 'bert.encoder.layer.11.output.LayerNorm.bias', 'bert.encoder.layer.7.output.LayerNorm.bias', 'bert.encoder.layer.6.attention.output.LayerNorm.weight', 'bert.encoder.layer.11.output.dense.weight', 'bert.encoder.layer.7.attention.output.dense.bias', 'bert.encoder.layer.9.attention.output.LayerNorm.bias', 'bert.encoder.layer.7.output.LayerNorm.weight', 'cls.predictions.transform.LayerNorm.weight', 'bert.encoder.layer.7.attention.self.value.bias', 'bert.encoder.layer.10.output.dense.bias', 'bert.encoder.layer.9.attention.self.key.weight', 'bert.encoder.layer.11.attention.self.query.bias', 'bert.encoder.layer.8.intermediate.dense.weight', 'bert.encoder.layer.8.attention.output.LayerNorm.bias', 'bert.encoder.layer.6.attention.self.key.weight', 'bert.encoder.layer.10.output.LayerNorm.bias', 'bert.encoder.layer.11.attention.output.LayerNorm.bias', 'bert.encoder.layer.7.intermediate.dense.weight', 'bert.encoder.layer.11.attention.self.query.weight', 'bert.encoder.layer.10.output.LayerNorm.weight', 'bert.encoder.layer.6.output.LayerNorm.weight', 'bert.encoder.layer.8.output.LayerNorm.bias', 'bert.encoder.layer.9.intermediate.dense.weight', 'bert.encoder.layer.6.attention.self.query.weight', 'bert.encoder.layer.11.attention.output.dense.bias', 'bert.encoder.layer.9.attention.output.dense.bias', 'bert.encoder.layer.8.output.dense.weight', 'bert.encoder.layer.7.attention.self.query.weight', 'bert.encoder.layer.8.output.dense.bias', 'bert.encoder.layer.10.attention.self.query.bias', 'bert.encoder.layer.9.intermediate.dense.bias', 'bert.encoder.layer.10.attention.self.query.weight', 'bert.encoder.layer.11.intermediate.dense.bias', 'bert.encoder.layer.7.output.dense.weight', 'bert.encoder.layer.9.output.dense.bias', 'bert.encoder.layer.8.attention.self.query.weight', 'bert.encoder.layer.6.intermediate.dense.weight', 'bert.encoder.layer.7.attention.self.value.weight', 'bert.encoder.layer.8.attention.self.value.weight', 'bert.encoder.layer.6.output.LayerNorm.bias', 'bert.encoder.layer.10.attention.self.key.weight', 'bert.encoder.layer.6.attention.self.query.bias', 'bert.encoder.layer.8.attention.self.value.bias', 'bert.encoder.layer.6.output.dense.bias', 'bert.encoder.layer.9.attention.self.query.weight', 'bert.encoder.layer.11.output.dense.bias', 'bert.encoder.layer.8.attention.self.query.bias', 'bert.encoder.layer.8.attention.output.dense.weight', 'cls.predictions.transform.dense.weight', 'bert.encoder.layer.7.attention.output.LayerNorm.bias', 'bert.encoder.layer.7.attention.output.dense.weight', 'bert.encoder.layer.6.attention.output.dense.bias', 'bert.encoder.layer.7.output.dense.bias', 'bert.encoder.layer.9.output.LayerNorm.bias', 'bert.encoder.layer.9.output.LayerNorm.weight', 'bert.encoder.layer.7.intermediate.dense.bias', 'bert.encoder.layer.11.attention.output.LayerNorm.weight', 'bert.encoder.layer.8.attention.output.dense.bias', 'bert.encoder.layer.10.intermediate.dense.weight', 'bert.encoder.layer.11.attention.self.value.weight', 'bert.encoder.layer.11.output.LayerNorm.weight', 'bert.encoder.layer.11.intermediate.dense.weight', 'cls.seq_relationship.weight', 'cls.seq_relationship.bias', 'bert.encoder.layer.7.attention.output.LayerNorm.weight', 'bert.encoder.layer.6.attention.self.key.bias', 'bert.encoder.layer.9.attention.self.value.bias', 'bert.encoder.layer.6.attention.output.LayerNorm.bias', 'bert.encoder.layer.10.attention.self.value.bias', 'bert.encoder.layer.7.attention.self.key.bias', 'bert.encoder.layer.9.output.dense.weight', 'cls.predictions.decoder.weight', 'bert.encoder.layer.6.attention.output.dense.weight', 'bert.encoder.layer.10.intermediate.dense.bias', 'bert.encoder.layer.10.attention.output.dense.bias', 'bert.encoder.layer.10.attention.self.key.bias', 'bert.encoder.layer.8.attention.self.key.weight', 'bert.encoder.layer.10.attention.self.value.weight', 'cls.predictions.bias', 'bert.encoder.layer.8.attention.self.key.bias', 'bert.encoder.layer.11.attention.self.value.bias']\n",
      "- This IS expected if you are initializing MMBertForEncoder from the checkpoint of a model trained on another task or with another architecture (e.g. initializing a BertForSequenceClassification model from a BertForPreTraining model).\n",
      "- This IS NOT expected if you are initializing MMBertForEncoder from the checkpoint of a model that you expect to be exactly identical (initializing a BertForSequenceClassification model from a BertForSequenceClassification model).\n",
      "Some weights of MMBertForEncoder were not initialized from the model checkpoint at bert-base-uncased and are newly initialized: ['videomlp.LayerNorm.bias', 'videomlp.LayerNorm.weight', 'videomlp.linear1.bias', 'videomlp.linear2.weight', 'videomlp.linear1.weight', 'videomlp.linear2.bias']\n",
      "You should probably TRAIN this model on a down-stream task to be able to use it for predictions and inference.\n",
      "Some weights of the model checkpoint at bert-base-uncased were not used when initializing BertModel: ['cls.predictions.decoder.weight', 'cls.predictions.transform.LayerNorm.bias', 'cls.seq_relationship.weight', 'cls.predictions.transform.dense.bias', 'cls.seq_relationship.bias', 'cls.predictions.transform.LayerNorm.weight', 'cls.predictions.transform.dense.weight', 'cls.predictions.bias']\n",
      "- This IS expected if you are initializing BertModel from the checkpoint of a model trained on another task or with another architecture (e.g. initializing a BertForSequenceClassification model from a BertForPreTraining model).\n",
      "- This IS NOT expected if you are initializing BertModel from the checkpoint of a model that you expect to be exactly identical (initializing a BertForSequenceClassification model from a BertForSequenceClassification model).\n"
     ]
    }
   ],
   "source": [
    "# VLM Params - vlm.____ keys are passed into VLM constructor\n",
    "if ENV == \"VLM_CLIP\":\n",
    "    from CLIP.CLIPVLM import ClipVLM as VLM\n",
    "    vlm = VLM(num_frames=10)\n",
    "elif ENV == \"VLM_MILES\":\n",
    "    from MILES.wrapper import MILES_SimilarityVLM as VLM\n",
    "    vlm = VLM()\n",
    "elif ENV == \"videoclip\":\n",
    "    from video_clip.video_clip import VideoClipVLM as VLM\n",
    "    vlm = VLM(num_seconds=4, sample_strat=\"spread\", use_cuda=True)\n",
    "elif ENV == \"VLM_UNIVL\":\n",
    "    from UNIVL.wrapper import UniVL_SimilarityVLM as VLM\n",
    "    vlm = VLM()\n",
    "elif ENV == \"VLM_VTTWINS\":\n",
    "    from VTTWINS.wrapper import VTTWINS_SimilarityVLM as VLM\n",
    "    vlm = VLM()\n",
    "else:\n",
    "    raise NotImplementedError"
   ]
  },
  {
   "cell_type": "code",
   "execution_count": 4,
   "metadata": {},
   "outputs": [],
   "source": [
    "if False:\n",
    "    from classifier import TipAdapterFewShotClassifier as Classifier\n",
    "    HYPERPARAM_SPACE = [\n",
    "        skopt.space.Real(0.1, 1000, name=\"alpha\", prior=\"log-uniform\"),\n",
    "        skopt.space.Real(0.1, 100, name=\"beta\", prior=\"log-uniform\"),\n",
    "        skopt.space.Real(1e-5, 1e-1, name=\"finetune_lr\", prior=\"log-uniform\"),\n",
    "        skopt.space.Integer(0, 30, name=\"finetune_epochs\"),\n",
    "        skopt.space.Real(1e-4, 1, name=\"weight_decay\", prior=\"log-uniform\")\n",
    "    ]\n",
    "if True:\n",
    "    from classifier.coop import CoopFewShotClassifier as Classifier\n",
    "    HYPERPARAM_SPACE = [\n",
    "        skopt.space.Real(1e-5, 1e-1, name=\"lr\", prior=\"log-uniform\"),\n",
    "        #skopt.space.Integer(8, 32, name=\"context_len\"),\n",
    "        skopt.space.Integer(0, 1, name=\"random_augment\"),\n",
    "        skopt.space.Integer(5, 30, name=\"epochs\"),\n",
    "        skopt.space.Integer(1, 8, name=\"batch_size\")\n",
    "    ]"
   ]
  },
  {
   "cell_type": "code",
   "execution_count": 5,
   "metadata": {},
   "outputs": [
    {
     "data": {
      "application/vnd.jupyter.widget-view+json": {
       "model_id": "7cc2e12e87f54ac296656de3d3c4b8da",
       "version_major": 2,
       "version_minor": 0
      },
      "text/plain": [
       "  0%|          | 0/1100 [00:00<?, ?it/s]"
      ]
     },
     "metadata": {},
     "output_type": "display_data"
    },
    {
     "data": {
      "application/vnd.jupyter.widget-view+json": {
       "model_id": "dbb8060b35904e3aaa5a79dc8122a500",
       "version_major": 2,
       "version_minor": 0
      },
      "text/plain": [
       "  0%|          | 0/100 [00:00<?, ?it/s]"
      ]
     },
     "metadata": {},
     "output_type": "display_data"
    }
   ],
   "source": [
    "DATASET = \"smsm\"\n",
    "query_dataset = DatasetHandler(DATASET, \"val\")\n",
    "support_dataset = DatasetHandler(DATASET, \"train\")\n",
    "query_dataset.fill_cache(vlm)\n",
    "#support_dataset.fill_cache(vlm)\n",
    "\n",
    "N_WAY = 100\n",
    "N_SUPPORT_LIST = [4] #[0, 1, 2, 4, 8, 16, 32, 64]\n",
    "N_QUERY = None\n",
    "N_EPISODES = 4\n",
    "\n",
    "TESTHANDLER_RESULTS_FILE = f\"TEMP.hyperparam_search.{query_dataset.id()}.csv\"\n",
    "test_handler = FewShotTestHandler(TESTHANDLER_RESULTS_FILE)\n",
    "\n",
    "SKOPT_RESULTS_FILE = f\"TEMP.hyperparam_search.{vlm.__class__.__name__}.{query_dataset.id()}.{'_'.join([str(x) for x in N_SUPPORT_LIST])}_shot.pkl\"\n",
    "SKOPT_N_CALLS = 1000"
   ]
  },
  {
   "cell_type": "markdown",
   "metadata": {},
   "source": [
    "### Run SKOPT Hyperparameter Search"
   ]
  },
  {
   "cell_type": "code",
   "execution_count": 6,
   "metadata": {},
   "outputs": [
    {
     "data": {
      "application/vnd.jupyter.widget-view+json": {
       "model_id": "d860cb6fa17f4212b25b4474983cdf40",
       "version_major": 2,
       "version_minor": 0
      },
      "text/plain": [
       "  0%|          | 0/1000 [00:00<?, ?it/s]"
      ]
     },
     "metadata": {},
     "output_type": "display_data"
    },
    {
     "data": {
      "application/vnd.jupyter.widget-view+json": {
       "model_id": "b0b22f561d274c11b0afbbbf1c3c3b67",
       "version_major": 2,
       "version_minor": 0
      },
      "text/plain": [
       "  0%|          | 0/4 [00:00<?, ?it/s]"
      ]
     },
     "metadata": {},
     "output_type": "display_data"
    },
    {
     "name": "stderr",
     "output_type": "stream",
     "text": [
      "/home/rob/miniconda3/envs/videoclip/lib/python3.8/site-packages/transformers/modeling_utils.py:713: FutureWarning: The `device` argument is deprecated and will be removed in v5 of Transformers.\n",
      "  warnings.warn(\n",
      "/home/rob/miniconda3/envs/videoclip/lib/python3.8/site-packages/torchvision/transforms/functional_tensor.py:892: UserWarning: __floordiv__ is deprecated, and its behavior will change in a future version of pytorch. It currently rounds toward 0 (like the 'trunc' function NOT 'floor'). This results in incorrect rounding for negative values. To keep the current behavior, use torch.div(a, b, rounding_mode='trunc'), or for actual floor division, use torch.div(a, b, rounding_mode='floor').\n",
      "  step = nonzero_hist[:-1].sum() // 255\n",
      "/home/rob/miniconda3/envs/videoclip/lib/python3.8/site-packages/torchvision/transforms/functional_tensor.py:896: UserWarning: __floordiv__ is deprecated, and its behavior will change in a future version of pytorch. It currently rounds toward 0 (like the 'trunc' function NOT 'floor'). This results in incorrect rounding for negative values. To keep the current behavior, use torch.div(a, b, rounding_mode='trunc'), or for actual floor division, use torch.div(a, b, rounding_mode='floor').\n",
      "  lut = (torch.cumsum(hist, 0) + (step // 2)) // step\n",
      "/home/rob/miniconda3/envs/videoclip/lib/python3.8/site-packages/torch/optim/lr_scheduler.py:156: UserWarning: The epoch parameter in `scheduler.step()` was not necessary and is being deprecated where possible. Please use `scheduler.step()` to step the scheduler. During the deprecation, if epoch is different from None, the closed form is used instead of the new chainable form, where available. Please open an issue if you are unable to replicate your use case: https://github.com/pytorch/pytorch/issues/new/choose.\n",
      "  warnings.warn(EPOCH_DEPRECATION_WARNING, UserWarning)\n"
     ]
    },
    {
     "name": "stdout",
     "output_type": "stream",
     "text": [
      "Epoch     0: Acc = 0.025, Loss = 4.602\n",
      "Epoch     1: Acc = 0.020, Loss = 4.617\n",
      "Epoch     2: Acc = 0.022, Loss = 4.585\n",
      "Epoch     3: Acc = 0.018, Loss = 4.579\n",
      "Epoch     4: Acc = 0.018, Loss = 4.529\n",
      "Epoch     5: Acc = 0.030, Loss = 4.527\n",
      "Epoch     6: Acc = 0.025, Loss = 4.527\n",
      "Epoch     7: Acc = 0.030, Loss = 4.506\n",
      "Epoch     8: Acc = 0.037, Loss = 4.486\n",
      "Epoch     9: Acc = 0.020, Loss = 4.488\n",
      "Epoch    10: Acc = 0.027, Loss = 4.494\n",
      "Epoch    11: Acc = 0.043, Loss = 4.504\n",
      "Epoch    12: Acc = 0.015, Loss = 4.477\n",
      "Epoch    13: Acc = 0.020, Loss = 4.480\n",
      "Epoch    14: Acc = 0.040, Loss = 4.440\n",
      "Epoch    15: Acc = 0.035, Loss = 4.455\n",
      "Epoch    16: Acc = 0.055, Loss = 4.436\n",
      "Epoch    17: Acc = 0.030, Loss = 4.481\n",
      "Epoch     0: Acc = 0.027, Loss = 4.595\n",
      "Epoch     1: Acc = 0.030, Loss = 4.631\n",
      "Epoch     2: Acc = 0.030, Loss = 4.555\n",
      "Epoch     3: Acc = 0.047, Loss = 4.498\n",
      "Epoch     4: Acc = 0.027, Loss = 4.515\n",
      "Epoch     5: Acc = 0.043, Loss = 4.499\n",
      "Epoch     6: Acc = 0.032, Loss = 4.501\n",
      "Epoch     7: Acc = 0.052, Loss = 4.474\n",
      "Epoch     8: Acc = 0.035, Loss = 4.523\n",
      "Epoch     9: Acc = 0.032, Loss = 4.481\n",
      "Epoch    10: Acc = 0.040, Loss = 4.488\n",
      "Epoch    11: Acc = 0.035, Loss = 4.486\n",
      "Epoch    12: Acc = 0.040, Loss = 4.482\n",
      "Epoch    13: Acc = 0.040, Loss = 4.439\n",
      "Epoch    14: Acc = 0.047, Loss = 4.413\n",
      "Epoch    15: Acc = 0.062, Loss = 4.391\n",
      "Epoch    16: Acc = 0.047, Loss = 4.443\n",
      "Epoch    17: Acc = 0.060, Loss = 4.400\n",
      "Epoch     0: Acc = 0.027, Loss = 4.634\n",
      "Epoch     1: Acc = 0.027, Loss = 4.597\n",
      "Epoch     2: Acc = 0.040, Loss = 4.514\n",
      "Epoch     3: Acc = 0.027, Loss = 4.538\n",
      "Epoch     4: Acc = 0.040, Loss = 4.526\n",
      "Epoch     5: Acc = 0.035, Loss = 4.543\n",
      "Epoch     6: Acc = 0.040, Loss = 4.511\n",
      "Epoch     7: Acc = 0.022, Loss = 4.494\n",
      "Epoch     8: Acc = 0.040, Loss = 4.492\n",
      "Epoch     9: Acc = 0.050, Loss = 4.490\n",
      "Epoch    10: Acc = 0.043, Loss = 4.449\n",
      "Epoch    11: Acc = 0.045, Loss = 4.492\n",
      "Epoch    12: Acc = 0.032, Loss = 4.442\n",
      "Epoch    13: Acc = 0.052, Loss = 4.450\n",
      "Epoch    14: Acc = 0.060, Loss = 4.401\n",
      "Epoch    15: Acc = 0.043, Loss = 4.428\n",
      "Epoch    16: Acc = 0.067, Loss = 4.410\n",
      "Epoch    17: Acc = 0.045, Loss = 4.443\n",
      "Epoch     0: Acc = 0.018, Loss = 4.621\n",
      "Epoch     1: Acc = 0.015, Loss = 4.622\n",
      "Epoch     2: Acc = 0.012, Loss = 4.575\n",
      "Epoch     3: Acc = 0.035, Loss = 4.567\n",
      "Epoch     4: Acc = 0.035, Loss = 4.517\n",
      "Epoch     5: Acc = 0.037, Loss = 4.543\n",
      "Epoch     6: Acc = 0.030, Loss = 4.530\n",
      "Epoch     7: Acc = 0.035, Loss = 4.504\n",
      "Epoch     8: Acc = 0.045, Loss = 4.514\n",
      "Epoch     9: Acc = 0.030, Loss = 4.486\n",
      "Epoch    10: Acc = 0.032, Loss = 4.492\n",
      "Epoch    11: Acc = 0.035, Loss = 4.500\n",
      "Epoch    12: Acc = 0.043, Loss = 4.421\n",
      "Epoch    13: Acc = 0.032, Loss = 4.474\n",
      "Epoch    14: Acc = 0.025, Loss = 4.432\n",
      "Epoch    15: Acc = 0.037, Loss = 4.437\n",
      "Epoch    16: Acc = 0.040, Loss = 4.467\n",
      "Epoch    17: Acc = 0.027, Loss = 4.530\n"
     ]
    },
    {
     "data": {
      "application/vnd.jupyter.widget-view+json": {
       "model_id": "c720707a14e1454d80fa04f8d8a43002",
       "version_major": 2,
       "version_minor": 0
      },
      "text/plain": [
       "  0%|          | 0/4 [00:00<?, ?it/s]"
      ]
     },
     "metadata": {},
     "output_type": "display_data"
    },
    {
     "name": "stderr",
     "output_type": "stream",
     "text": [
      "/home/rob/miniconda3/envs/videoclip/lib/python3.8/site-packages/transformers/modeling_utils.py:713: FutureWarning: The `device` argument is deprecated and will be removed in v5 of Transformers.\n",
      "  warnings.warn(\n",
      "/home/rob/miniconda3/envs/videoclip/lib/python3.8/site-packages/torch/optim/lr_scheduler.py:156: UserWarning: The epoch parameter in `scheduler.step()` was not necessary and is being deprecated where possible. Please use `scheduler.step()` to step the scheduler. During the deprecation, if epoch is different from None, the closed form is used instead of the new chainable form, where available. Please open an issue if you are unable to replicate your use case: https://github.com/pytorch/pytorch/issues/new/choose.\n",
      "  warnings.warn(EPOCH_DEPRECATION_WARNING, UserWarning)\n"
     ]
    },
    {
     "name": "stdout",
     "output_type": "stream",
     "text": [
      "Epoch     0: Acc = 0.032, Loss = 4.523\n",
      "Epoch     1: Acc = 0.032, Loss = 4.521\n",
      "Epoch     2: Acc = 0.030, Loss = 4.519\n",
      "Epoch     3: Acc = 0.030, Loss = 4.516\n",
      "Epoch     4: Acc = 0.035, Loss = 4.514\n",
      "Epoch     5: Acc = 0.035, Loss = 4.512\n",
      "Epoch     6: Acc = 0.035, Loss = 4.510\n",
      "Epoch     7: Acc = 0.035, Loss = 4.509\n",
      "Epoch     8: Acc = 0.035, Loss = 4.507\n",
      "Epoch     9: Acc = 0.035, Loss = 4.507\n",
      "Epoch    10: Acc = 0.035, Loss = 4.506\n",
      "Epoch    11: Acc = 0.035, Loss = 4.506\n",
      "Epoch    12: Acc = 0.035, Loss = 4.506\n",
      "Epoch     0: Acc = 0.032, Loss = 4.551\n",
      "Epoch     1: Acc = 0.035, Loss = 4.548\n",
      "Epoch     2: Acc = 0.037, Loss = 4.544\n",
      "Epoch     3: Acc = 0.037, Loss = 4.539\n",
      "Epoch     4: Acc = 0.037, Loss = 4.535\n",
      "Epoch     5: Acc = 0.037, Loss = 4.532\n",
      "Epoch     6: Acc = 0.035, Loss = 4.528\n",
      "Epoch     7: Acc = 0.035, Loss = 4.526\n",
      "Epoch     8: Acc = 0.037, Loss = 4.524\n",
      "Epoch     9: Acc = 0.037, Loss = 4.523\n",
      "Epoch    10: Acc = 0.037, Loss = 4.522\n",
      "Epoch    11: Acc = 0.037, Loss = 4.521\n",
      "Epoch    12: Acc = 0.037, Loss = 4.521\n",
      "Epoch     0: Acc = 0.055, Loss = 4.521\n",
      "Epoch     1: Acc = 0.057, Loss = 4.519\n",
      "Epoch     2: Acc = 0.055, Loss = 4.516\n",
      "Epoch     3: Acc = 0.057, Loss = 4.512\n",
      "Epoch     4: Acc = 0.057, Loss = 4.509\n",
      "Epoch     5: Acc = 0.060, Loss = 4.506\n",
      "Epoch     6: Acc = 0.060, Loss = 4.504\n",
      "Epoch     7: Acc = 0.060, Loss = 4.502\n",
      "Epoch     8: Acc = 0.060, Loss = 4.500\n",
      "Epoch     9: Acc = 0.062, Loss = 4.499\n",
      "Epoch    10: Acc = 0.062, Loss = 4.499\n",
      "Epoch    11: Acc = 0.062, Loss = 4.498\n",
      "Epoch    12: Acc = 0.062, Loss = 4.498\n",
      "Epoch     0: Acc = 0.045, Loss = 4.496\n",
      "Epoch     1: Acc = 0.045, Loss = 4.495\n",
      "Epoch     2: Acc = 0.045, Loss = 4.493\n",
      "Epoch     3: Acc = 0.045, Loss = 4.491\n",
      "Epoch     4: Acc = 0.045, Loss = 4.490\n",
      "Epoch     5: Acc = 0.047, Loss = 4.488\n",
      "Epoch     6: Acc = 0.047, Loss = 4.487\n",
      "Epoch     7: Acc = 0.047, Loss = 4.486\n",
      "Epoch     8: Acc = 0.047, Loss = 4.485\n",
      "Epoch     9: Acc = 0.047, Loss = 4.485\n",
      "Epoch    10: Acc = 0.047, Loss = 4.485\n",
      "Epoch    11: Acc = 0.047, Loss = 4.484\n",
      "Epoch    12: Acc = 0.047, Loss = 4.484\n"
     ]
    },
    {
     "data": {
      "application/vnd.jupyter.widget-view+json": {
       "model_id": "2804599cb8ad4ca28216d5aaa8af0bf2",
       "version_major": 2,
       "version_minor": 0
      },
      "text/plain": [
       "  0%|          | 0/4 [00:00<?, ?it/s]"
      ]
     },
     "metadata": {},
     "output_type": "display_data"
    },
    {
     "name": "stderr",
     "output_type": "stream",
     "text": [
      "/home/rob/miniconda3/envs/videoclip/lib/python3.8/site-packages/torch/optim/lr_scheduler.py:156: UserWarning: The epoch parameter in `scheduler.step()` was not necessary and is being deprecated where possible. Please use `scheduler.step()` to step the scheduler. During the deprecation, if epoch is different from None, the closed form is used instead of the new chainable form, where available. Please open an issue if you are unable to replicate your use case: https://github.com/pytorch/pytorch/issues/new/choose.\n",
      "  warnings.warn(EPOCH_DEPRECATION_WARNING, UserWarning)\n"
     ]
    },
    {
     "name": "stdout",
     "output_type": "stream",
     "text": [
      "Epoch     0: Acc = 0.040, Loss = 4.493\n",
      "Epoch     1: Acc = 0.037, Loss = 4.448\n",
      "Epoch     2: Acc = 0.067, Loss = 4.354\n",
      "Epoch     3: Acc = 0.065, Loss = 4.297\n",
      "Epoch     4: Acc = 0.065, Loss = 4.253\n",
      "Epoch     5: Acc = 0.065, Loss = 4.209\n",
      "Epoch     6: Acc = 0.062, Loss = 4.165\n",
      "Epoch     7: Acc = 0.057, Loss = 4.121\n",
      "Epoch     8: Acc = 0.065, Loss = 4.075\n",
      "Epoch     9: Acc = 0.067, Loss = 4.031\n",
      "Epoch    10: Acc = 0.078, Loss = 3.991\n",
      "Epoch    11: Acc = 0.082, Loss = 3.957\n",
      "Epoch    12: Acc = 0.090, Loss = 3.928\n",
      "Epoch    13: Acc = 0.095, Loss = 3.905\n",
      "Epoch    14: Acc = 0.093, Loss = 3.890\n",
      "Epoch    15: Acc = 0.100, Loss = 3.882\n",
      "Epoch     0: Acc = 0.037, Loss = 4.517\n",
      "Epoch     1: Acc = 0.045, Loss = 4.483\n",
      "Epoch     2: Acc = 0.037, Loss = 4.411\n",
      "Epoch     3: Acc = 0.045, Loss = 4.366\n",
      "Epoch     4: Acc = 0.052, Loss = 4.327\n",
      "Epoch     5: Acc = 0.070, Loss = 4.286\n",
      "Epoch     6: Acc = 0.082, Loss = 4.242\n",
      "Epoch     7: Acc = 0.075, Loss = 4.198\n",
      "Epoch     8: Acc = 0.085, Loss = 4.149\n",
      "Epoch     9: Acc = 0.085, Loss = 4.105\n",
      "Epoch    10: Acc = 0.095, Loss = 4.059\n",
      "Epoch    11: Acc = 0.107, Loss = 4.021\n",
      "Epoch    12: Acc = 0.115, Loss = 3.988\n",
      "Epoch    13: Acc = 0.107, Loss = 3.965\n",
      "Epoch    14: Acc = 0.115, Loss = 3.947\n",
      "Epoch    15: Acc = 0.117, Loss = 3.938\n",
      "Epoch     0: Acc = 0.040, Loss = 4.563\n",
      "Epoch     1: Acc = 0.050, Loss = 4.480\n",
      "Epoch     2: Acc = 0.057, Loss = 4.392\n",
      "Epoch     3: Acc = 0.057, Loss = 4.344\n",
      "Epoch     4: Acc = 0.072, Loss = 4.301\n",
      "Epoch     5: Acc = 0.080, Loss = 4.258\n",
      "Epoch     6: Acc = 0.082, Loss = 4.214\n",
      "Epoch     7: Acc = 0.080, Loss = 4.174\n",
      "Epoch     8: Acc = 0.093, Loss = 4.135\n",
      "Epoch     9: Acc = 0.107, Loss = 4.107\n",
      "Epoch    10: Acc = 0.102, Loss = 4.078\n",
      "Epoch    11: Acc = 0.110, Loss = 4.053\n",
      "Epoch    12: Acc = 0.120, Loss = 4.033\n",
      "Epoch    13: Acc = 0.117, Loss = 4.017\n",
      "Epoch    14: Acc = 0.117, Loss = 4.007\n",
      "Epoch    15: Acc = 0.117, Loss = 4.002\n",
      "Epoch     0: Acc = 0.040, Loss = 4.511\n",
      "Epoch     1: Acc = 0.045, Loss = 4.457\n",
      "Epoch     2: Acc = 0.060, Loss = 4.375\n",
      "Epoch     3: Acc = 0.072, Loss = 4.324\n",
      "Epoch     4: Acc = 0.075, Loss = 4.283\n",
      "Epoch     5: Acc = 0.072, Loss = 4.244\n",
      "Epoch     6: Acc = 0.080, Loss = 4.212\n",
      "Epoch     7: Acc = 0.080, Loss = 4.183\n",
      "Epoch     8: Acc = 0.087, Loss = 4.152\n",
      "Epoch     9: Acc = 0.087, Loss = 4.123\n",
      "Epoch    10: Acc = 0.087, Loss = 4.097\n",
      "Epoch    11: Acc = 0.100, Loss = 4.074\n",
      "Epoch    12: Acc = 0.107, Loss = 4.055\n",
      "Epoch    13: Acc = 0.110, Loss = 4.041\n",
      "Epoch    14: Acc = 0.112, Loss = 4.031\n",
      "Epoch    15: Acc = 0.110, Loss = 4.026\n"
     ]
    },
    {
     "data": {
      "application/vnd.jupyter.widget-view+json": {
       "model_id": "cc42769357754c4e9178183421494d4b",
       "version_major": 2,
       "version_minor": 0
      },
      "text/plain": [
       "  0%|          | 0/4 [00:00<?, ?it/s]"
      ]
     },
     "metadata": {},
     "output_type": "display_data"
    },
    {
     "name": "stderr",
     "output_type": "stream",
     "text": [
      "/home/rob/miniconda3/envs/videoclip/lib/python3.8/site-packages/torch/optim/lr_scheduler.py:156: UserWarning: The epoch parameter in `scheduler.step()` was not necessary and is being deprecated where possible. Please use `scheduler.step()` to step the scheduler. During the deprecation, if epoch is different from None, the closed form is used instead of the new chainable form, where available. Please open an issue if you are unable to replicate your use case: https://github.com/pytorch/pytorch/issues/new/choose.\n",
      "  warnings.warn(EPOCH_DEPRECATION_WARNING, UserWarning)\n"
     ]
    },
    {
     "name": "stdout",
     "output_type": "stream",
     "text": [
      "Epoch     0: Acc = 0.030, Loss = 4.519\n",
      "Epoch     1: Acc = 0.052, Loss = 4.384\n",
      "Epoch     2: Acc = 0.060, Loss = 4.261\n",
      "Epoch     3: Acc = 0.070, Loss = 4.177\n",
      "Epoch     4: Acc = 0.075, Loss = 4.106\n",
      "Epoch     5: Acc = 0.090, Loss = 4.043\n",
      "Epoch     6: Acc = 0.110, Loss = 3.949\n",
      "Epoch     7: Acc = 0.122, Loss = 3.875\n",
      "Epoch     8: Acc = 0.147, Loss = 3.803\n",
      "Epoch     9: Acc = 0.165, Loss = 3.705\n",
      "Epoch    10: Acc = 0.162, Loss = 3.599\n",
      "Epoch    11: Acc = 0.170, Loss = 3.512\n",
      "Epoch    12: Acc = 0.205, Loss = 3.422\n",
      "Epoch    13: Acc = 0.240, Loss = 3.336\n",
      "Epoch    14: Acc = 0.255, Loss = 3.266\n",
      "Epoch    15: Acc = 0.265, Loss = 3.211\n",
      "Epoch    16: Acc = 0.273, Loss = 3.176\n",
      "Epoch     0: Acc = 0.040, Loss = 4.534\n",
      "Epoch     1: Acc = 0.047, Loss = 4.421\n",
      "Epoch     2: Acc = 0.062, Loss = 4.300\n",
      "Epoch     3: Acc = 0.065, Loss = 4.229\n",
      "Epoch     4: Acc = 0.067, Loss = 4.163\n",
      "Epoch     5: Acc = 0.090, Loss = 4.099\n",
      "Epoch     6: Acc = 0.100, Loss = 4.023\n",
      "Epoch     7: Acc = 0.115, Loss = 3.957\n",
      "Epoch     8: Acc = 0.120, Loss = 3.875\n",
      "Epoch     9: Acc = 0.142, Loss = 3.788\n",
      "Epoch    10: Acc = 0.135, Loss = 3.707\n",
      "Epoch    11: Acc = 0.175, Loss = 3.623\n",
      "Epoch    12: Acc = 0.197, Loss = 3.527\n",
      "Epoch    13: Acc = 0.195, Loss = 3.441\n",
      "Epoch    14: Acc = 0.215, Loss = 3.363\n",
      "Epoch    15: Acc = 0.215, Loss = 3.305\n",
      "Epoch    16: Acc = 0.237, Loss = 3.266\n",
      "Epoch     0: Acc = 0.047, Loss = 4.517\n",
      "Epoch     1: Acc = 0.062, Loss = 4.384\n",
      "Epoch     2: Acc = 0.070, Loss = 4.254\n",
      "Epoch     3: Acc = 0.075, Loss = 4.171\n",
      "Epoch     4: Acc = 0.082, Loss = 4.128\n",
      "Epoch     5: Acc = 0.090, Loss = 4.050\n",
      "Epoch     6: Acc = 0.110, Loss = 3.979\n",
      "Epoch     7: Acc = 0.105, Loss = 3.891\n",
      "Epoch     8: Acc = 0.132, Loss = 3.800\n",
      "Epoch     9: Acc = 0.147, Loss = 3.732\n",
      "Epoch    10: Acc = 0.153, Loss = 3.672\n",
      "Epoch    11: Acc = 0.165, Loss = 3.591\n",
      "Epoch    12: Acc = 0.160, Loss = 3.505\n",
      "Epoch    13: Acc = 0.177, Loss = 3.428\n",
      "Epoch    14: Acc = 0.197, Loss = 3.362\n",
      "Epoch    15: Acc = 0.212, Loss = 3.312\n",
      "Epoch    16: Acc = 0.212, Loss = 3.283\n",
      "Epoch     0: Acc = 0.043, Loss = 4.535\n",
      "Epoch     1: Acc = 0.055, Loss = 4.448\n",
      "Epoch     2: Acc = 0.078, Loss = 4.327\n",
      "Epoch     3: Acc = 0.085, Loss = 4.232\n",
      "Epoch     4: Acc = 0.097, Loss = 4.138\n",
      "Epoch     5: Acc = 0.102, Loss = 4.059\n",
      "Epoch     6: Acc = 0.120, Loss = 3.965\n",
      "Epoch     7: Acc = 0.112, Loss = 3.901\n",
      "Epoch     8: Acc = 0.135, Loss = 3.803\n",
      "Epoch     9: Acc = 0.162, Loss = 3.723\n",
      "Epoch    10: Acc = 0.165, Loss = 3.640\n",
      "Epoch    11: Acc = 0.195, Loss = 3.555\n",
      "Epoch    12: Acc = 0.215, Loss = 3.459\n",
      "Epoch    13: Acc = 0.222, Loss = 3.370\n",
      "Epoch    14: Acc = 0.252, Loss = 3.288\n",
      "Epoch    15: Acc = 0.255, Loss = 3.225\n",
      "Epoch    16: Acc = 0.270, Loss = 3.185\n"
     ]
    },
    {
     "data": {
      "application/vnd.jupyter.widget-view+json": {
       "model_id": "4d957c5a6e1f45cf821a6e5c3488e45a",
       "version_major": 2,
       "version_minor": 0
      },
      "text/plain": [
       "  0%|          | 0/4 [00:00<?, ?it/s]"
      ]
     },
     "metadata": {},
     "output_type": "display_data"
    },
    {
     "name": "stderr",
     "output_type": "stream",
     "text": [
      "/home/rob/miniconda3/envs/videoclip/lib/python3.8/site-packages/torchvision/transforms/functional_tensor.py:892: UserWarning: __floordiv__ is deprecated, and its behavior will change in a future version of pytorch. It currently rounds toward 0 (like the 'trunc' function NOT 'floor'). This results in incorrect rounding for negative values. To keep the current behavior, use torch.div(a, b, rounding_mode='trunc'), or for actual floor division, use torch.div(a, b, rounding_mode='floor').\n",
      "  step = nonzero_hist[:-1].sum() // 255\n",
      "/home/rob/miniconda3/envs/videoclip/lib/python3.8/site-packages/torchvision/transforms/functional_tensor.py:896: UserWarning: __floordiv__ is deprecated, and its behavior will change in a future version of pytorch. It currently rounds toward 0 (like the 'trunc' function NOT 'floor'). This results in incorrect rounding for negative values. To keep the current behavior, use torch.div(a, b, rounding_mode='trunc'), or for actual floor division, use torch.div(a, b, rounding_mode='floor').\n",
      "  lut = (torch.cumsum(hist, 0) + (step // 2)) // step\n",
      "/home/rob/miniconda3/envs/videoclip/lib/python3.8/site-packages/transformers/modeling_utils.py:713: FutureWarning: The `device` argument is deprecated and will be removed in v5 of Transformers.\n",
      "  warnings.warn(\n",
      "/home/rob/miniconda3/envs/videoclip/lib/python3.8/site-packages/torch/optim/lr_scheduler.py:156: UserWarning: The epoch parameter in `scheduler.step()` was not necessary and is being deprecated where possible. Please use `scheduler.step()` to step the scheduler. During the deprecation, if epoch is different from None, the closed form is used instead of the new chainable form, where available. Please open an issue if you are unable to replicate your use case: https://github.com/pytorch/pytorch/issues/new/choose.\n",
      "  warnings.warn(EPOCH_DEPRECATION_WARNING, UserWarning)\n"
     ]
    },
    {
     "name": "stdout",
     "output_type": "stream",
     "text": [
      "Epoch     0: Acc = 0.020, Loss = 4.601\n",
      "Epoch     1: Acc = 0.010, Loss = 4.609\n",
      "Epoch     2: Acc = 0.022, Loss = 4.582\n",
      "Epoch     3: Acc = 0.035, Loss = 4.566\n",
      "Epoch     4: Acc = 0.025, Loss = 4.541\n",
      "Epoch     5: Acc = 0.025, Loss = 4.515\n",
      "Epoch     6: Acc = 0.025, Loss = 4.532\n",
      "Epoch     7: Acc = 0.027, Loss = 4.526\n",
      "Epoch     8: Acc = 0.040, Loss = 4.470\n",
      "Epoch     9: Acc = 0.025, Loss = 4.518\n",
      "Epoch    10: Acc = 0.018, Loss = 4.577\n",
      "Epoch    11: Acc = 0.030, Loss = 4.488\n",
      "Epoch    12: Acc = 0.025, Loss = 4.505\n",
      "Epoch    13: Acc = 0.037, Loss = 4.441\n",
      "Epoch    14: Acc = 0.030, Loss = 4.488\n",
      "Epoch     0: Acc = 0.020, Loss = 4.677\n",
      "Epoch     1: Acc = 0.018, Loss = 4.615\n",
      "Epoch     2: Acc = 0.025, Loss = 4.590\n",
      "Epoch     3: Acc = 0.030, Loss = 4.546\n",
      "Epoch     4: Acc = 0.022, Loss = 4.558\n",
      "Epoch     5: Acc = 0.022, Loss = 4.547\n",
      "Epoch     6: Acc = 0.020, Loss = 4.575\n",
      "Epoch     7: Acc = 0.043, Loss = 4.530\n",
      "Epoch     8: Acc = 0.032, Loss = 4.527\n",
      "Epoch     9: Acc = 0.030, Loss = 4.547\n",
      "Epoch    10: Acc = 0.040, Loss = 4.513\n",
      "Epoch    11: Acc = 0.037, Loss = 4.551\n",
      "Epoch    12: Acc = 0.040, Loss = 4.497\n",
      "Epoch    13: Acc = 0.045, Loss = 4.532\n",
      "Epoch    14: Acc = 0.035, Loss = 4.535\n",
      "Epoch     0: Acc = 0.020, Loss = 4.605\n",
      "Epoch     1: Acc = 0.037, Loss = 4.570\n",
      "Epoch     2: Acc = 0.032, Loss = 4.573\n",
      "Epoch     3: Acc = 0.040, Loss = 4.574\n",
      "Epoch     4: Acc = 0.030, Loss = 4.589\n",
      "Epoch     5: Acc = 0.030, Loss = 4.556\n",
      "Epoch     6: Acc = 0.035, Loss = 4.516\n",
      "Epoch     7: Acc = 0.037, Loss = 4.532\n",
      "Epoch     8: Acc = 0.035, Loss = 4.556\n",
      "Epoch     9: Acc = 0.035, Loss = 4.522\n",
      "Epoch    10: Acc = 0.025, Loss = 4.549\n",
      "Epoch    11: Acc = 0.032, Loss = 4.505\n",
      "Epoch    12: Acc = 0.040, Loss = 4.477\n",
      "Epoch    13: Acc = 0.030, Loss = 4.516\n",
      "Epoch    14: Acc = 0.037, Loss = 4.516\n",
      "Epoch     0: Acc = 0.010, Loss = 4.628\n",
      "Epoch     1: Acc = 0.010, Loss = 4.650\n",
      "Epoch     2: Acc = 0.022, Loss = 4.614\n",
      "Epoch     3: Acc = 0.020, Loss = 4.548\n",
      "Epoch     4: Acc = 0.030, Loss = 4.538\n",
      "Epoch     5: Acc = 0.018, Loss = 4.554\n",
      "Epoch     6: Acc = 0.035, Loss = 4.570\n",
      "Epoch     7: Acc = 0.040, Loss = 4.540\n",
      "Epoch     8: Acc = 0.022, Loss = 4.536\n",
      "Epoch     9: Acc = 0.030, Loss = 4.505\n",
      "Epoch    10: Acc = 0.025, Loss = 4.543\n",
      "Epoch    11: Acc = 0.022, Loss = 4.549\n",
      "Epoch    12: Acc = 0.022, Loss = 4.495\n",
      "Epoch    13: Acc = 0.037, Loss = 4.496\n",
      "Epoch    14: Acc = 0.020, Loss = 4.502\n"
     ]
    },
    {
     "data": {
      "application/vnd.jupyter.widget-view+json": {
       "model_id": "ec38609662984649bf1f151ad6ffca14",
       "version_major": 2,
       "version_minor": 0
      },
      "text/plain": [
       "  0%|          | 0/4 [00:00<?, ?it/s]"
      ]
     },
     "metadata": {},
     "output_type": "display_data"
    },
    {
     "name": "stderr",
     "output_type": "stream",
     "text": [
      "/home/rob/miniconda3/envs/videoclip/lib/python3.8/site-packages/torchvision/transforms/functional_tensor.py:892: UserWarning: __floordiv__ is deprecated, and its behavior will change in a future version of pytorch. It currently rounds toward 0 (like the 'trunc' function NOT 'floor'). This results in incorrect rounding for negative values. To keep the current behavior, use torch.div(a, b, rounding_mode='trunc'), or for actual floor division, use torch.div(a, b, rounding_mode='floor').\n",
      "  step = nonzero_hist[:-1].sum() // 255\n",
      "/home/rob/miniconda3/envs/videoclip/lib/python3.8/site-packages/torchvision/transforms/functional_tensor.py:896: UserWarning: __floordiv__ is deprecated, and its behavior will change in a future version of pytorch. It currently rounds toward 0 (like the 'trunc' function NOT 'floor'). This results in incorrect rounding for negative values. To keep the current behavior, use torch.div(a, b, rounding_mode='trunc'), or for actual floor division, use torch.div(a, b, rounding_mode='floor').\n",
      "  lut = (torch.cumsum(hist, 0) + (step // 2)) // step\n",
      "/home/rob/miniconda3/envs/videoclip/lib/python3.8/site-packages/transformers/modeling_utils.py:713: FutureWarning: The `device` argument is deprecated and will be removed in v5 of Transformers.\n",
      "  warnings.warn(\n",
      "/home/rob/miniconda3/envs/videoclip/lib/python3.8/site-packages/torch/optim/lr_scheduler.py:156: UserWarning: The epoch parameter in `scheduler.step()` was not necessary and is being deprecated where possible. Please use `scheduler.step()` to step the scheduler. During the deprecation, if epoch is different from None, the closed form is used instead of the new chainable form, where available. Please open an issue if you are unable to replicate your use case: https://github.com/pytorch/pytorch/issues/new/choose.\n",
      "  warnings.warn(EPOCH_DEPRECATION_WARNING, UserWarning)\n"
     ]
    },
    {
     "name": "stdout",
     "output_type": "stream",
     "text": [
      "Epoch     0: Acc = 0.025, Loss = 4.612\n",
      "Epoch     1: Acc = 0.010, Loss = 4.591\n",
      "Epoch     2: Acc = 0.032, Loss = 4.527\n",
      "Epoch     3: Acc = 0.035, Loss = 4.467\n",
      "Epoch     4: Acc = 0.020, Loss = 4.483\n",
      "Epoch     5: Acc = 0.045, Loss = 4.496\n",
      "Epoch     6: Acc = 0.062, Loss = 4.446\n",
      "Epoch     7: Acc = 0.040, Loss = 4.404\n",
      "Epoch     8: Acc = 0.047, Loss = 4.396\n",
      "Epoch     9: Acc = 0.045, Loss = 4.353\n",
      "Epoch    10: Acc = 0.050, Loss = 4.347\n",
      "Epoch     0: Acc = 0.010, Loss = 4.616\n",
      "Epoch     1: Acc = 0.043, Loss = 4.583\n",
      "Epoch     2: Acc = 0.015, Loss = 4.583\n",
      "Epoch     3: Acc = 0.032, Loss = 4.556\n",
      "Epoch     4: Acc = 0.030, Loss = 4.533\n",
      "Epoch     5: Acc = 0.032, Loss = 4.487\n",
      "Epoch     6: Acc = 0.047, Loss = 4.464\n",
      "Epoch     7: Acc = 0.035, Loss = 4.483\n",
      "Epoch     8: Acc = 0.040, Loss = 4.422\n",
      "Epoch     9: Acc = 0.045, Loss = 4.429\n",
      "Epoch    10: Acc = 0.015, Loss = 4.441\n",
      "Epoch     0: Acc = 0.022, Loss = 4.645\n",
      "Epoch     1: Acc = 0.020, Loss = 4.633\n",
      "Epoch     2: Acc = 0.012, Loss = 4.570\n",
      "Epoch     3: Acc = 0.045, Loss = 4.533\n",
      "Epoch     4: Acc = 0.045, Loss = 4.489\n",
      "Epoch     5: Acc = 0.020, Loss = 4.550\n",
      "Epoch     6: Acc = 0.035, Loss = 4.504\n",
      "Epoch     7: Acc = 0.032, Loss = 4.444\n",
      "Epoch     8: Acc = 0.037, Loss = 4.438\n",
      "Epoch     9: Acc = 0.032, Loss = 4.429\n",
      "Epoch    10: Acc = 0.047, Loss = 4.350\n",
      "Epoch     0: Acc = 0.018, Loss = 4.675\n",
      "Epoch     1: Acc = 0.015, Loss = 4.594\n",
      "Epoch     2: Acc = 0.032, Loss = 4.533\n",
      "Epoch     3: Acc = 0.045, Loss = 4.523\n",
      "Epoch     4: Acc = 0.035, Loss = 4.473\n",
      "Epoch     5: Acc = 0.030, Loss = 4.466\n",
      "Epoch     6: Acc = 0.050, Loss = 4.431\n"
     ]
    },
    {
     "ename": "KeyboardInterrupt",
     "evalue": "",
     "output_type": "error",
     "traceback": [
      "\u001b[0;31m---------------------------------------------------------------------------\u001b[0m",
      "\u001b[0;31mKeyboardInterrupt\u001b[0m                         Traceback (most recent call last)",
      "\u001b[1;32m/home/rob/vlm_benchmark/hyperparam_search.ipynb Cell 8\u001b[0m in \u001b[0;36m<cell line: 48>\u001b[0;34m()\u001b[0m\n\u001b[1;32m     <a href='vscode-notebook-cell://ssh-remote%2B7b22686f73744e616d65223a22564c4d2d42656e63686d61726b2d4750552d32227d/home/rob/vlm_benchmark/hyperparam_search.ipynb#X10sdnNjb2RlLXJlbW90ZQ%3D%3D?line=45'>46</a>\u001b[0m     y0 \u001b[39m=\u001b[39m \u001b[39mNone\u001b[39;00m\n\u001b[1;32m     <a href='vscode-notebook-cell://ssh-remote%2B7b22686f73744e616d65223a22564c4d2d42656e63686d61726b2d4750552d32227d/home/rob/vlm_benchmark/hyperparam_search.ipynb#X10sdnNjb2RlLXJlbW90ZQ%3D%3D?line=46'>47</a>\u001b[0m skopt_pbar \u001b[39m=\u001b[39m tqdm(total\u001b[39m=\u001b[39mSKOPT_N_CALLS) \n\u001b[0;32m---> <a href='vscode-notebook-cell://ssh-remote%2B7b22686f73744e616d65223a22564c4d2d42656e63686d61726b2d4750552d32227d/home/rob/vlm_benchmark/hyperparam_search.ipynb#X10sdnNjb2RlLXJlbW90ZQ%3D%3D?line=47'>48</a>\u001b[0m skopt_results \u001b[39m=\u001b[39m skopt\u001b[39m.\u001b[39;49mgp_minimize(val_neg_accuracy, HYPERPARAM_SPACE, n_calls\u001b[39m=\u001b[39;49mSKOPT_N_CALLS, callback\u001b[39m=\u001b[39;49mcallback, x0\u001b[39m=\u001b[39;49mx0, y0\u001b[39m=\u001b[39;49my0)\n",
      "File \u001b[0;32m~/miniconda3/envs/videoclip/lib/python3.8/site-packages/skopt/optimizer/gp.py:259\u001b[0m, in \u001b[0;36mgp_minimize\u001b[0;34m(func, dimensions, base_estimator, n_calls, n_random_starts, n_initial_points, initial_point_generator, acq_func, acq_optimizer, x0, y0, random_state, verbose, callback, n_points, n_restarts_optimizer, xi, kappa, noise, n_jobs, model_queue_size)\u001b[0m\n\u001b[1;32m    254\u001b[0m \u001b[39mif\u001b[39;00m base_estimator \u001b[39mis\u001b[39;00m \u001b[39mNone\u001b[39;00m:\n\u001b[1;32m    255\u001b[0m     base_estimator \u001b[39m=\u001b[39m cook_estimator(\n\u001b[1;32m    256\u001b[0m         \u001b[39m\"\u001b[39m\u001b[39mGP\u001b[39m\u001b[39m\"\u001b[39m, space\u001b[39m=\u001b[39mspace, random_state\u001b[39m=\u001b[39mrng\u001b[39m.\u001b[39mrandint(\u001b[39m0\u001b[39m, np\u001b[39m.\u001b[39miinfo(np\u001b[39m.\u001b[39mint32)\u001b[39m.\u001b[39mmax),\n\u001b[1;32m    257\u001b[0m         noise\u001b[39m=\u001b[39mnoise)\n\u001b[0;32m--> 259\u001b[0m \u001b[39mreturn\u001b[39;00m base_minimize(\n\u001b[1;32m    260\u001b[0m     func, space, base_estimator\u001b[39m=\u001b[39;49mbase_estimator,\n\u001b[1;32m    261\u001b[0m     acq_func\u001b[39m=\u001b[39;49macq_func,\n\u001b[1;32m    262\u001b[0m     xi\u001b[39m=\u001b[39;49mxi, kappa\u001b[39m=\u001b[39;49mkappa, acq_optimizer\u001b[39m=\u001b[39;49macq_optimizer, n_calls\u001b[39m=\u001b[39;49mn_calls,\n\u001b[1;32m    263\u001b[0m     n_points\u001b[39m=\u001b[39;49mn_points, n_random_starts\u001b[39m=\u001b[39;49mn_random_starts,\n\u001b[1;32m    264\u001b[0m     n_initial_points\u001b[39m=\u001b[39;49mn_initial_points,\n\u001b[1;32m    265\u001b[0m     initial_point_generator\u001b[39m=\u001b[39;49minitial_point_generator,\n\u001b[1;32m    266\u001b[0m     n_restarts_optimizer\u001b[39m=\u001b[39;49mn_restarts_optimizer,\n\u001b[1;32m    267\u001b[0m     x0\u001b[39m=\u001b[39;49mx0, y0\u001b[39m=\u001b[39;49my0, random_state\u001b[39m=\u001b[39;49mrng, verbose\u001b[39m=\u001b[39;49mverbose,\n\u001b[1;32m    268\u001b[0m     callback\u001b[39m=\u001b[39;49mcallback, n_jobs\u001b[39m=\u001b[39;49mn_jobs, model_queue_size\u001b[39m=\u001b[39;49mmodel_queue_size)\n",
      "File \u001b[0;32m~/miniconda3/envs/videoclip/lib/python3.8/site-packages/skopt/optimizer/base.py:299\u001b[0m, in \u001b[0;36mbase_minimize\u001b[0;34m(func, dimensions, base_estimator, n_calls, n_random_starts, n_initial_points, initial_point_generator, acq_func, acq_optimizer, x0, y0, random_state, verbose, callback, n_points, n_restarts_optimizer, xi, kappa, n_jobs, model_queue_size)\u001b[0m\n\u001b[1;32m    297\u001b[0m \u001b[39mfor\u001b[39;00m n \u001b[39min\u001b[39;00m \u001b[39mrange\u001b[39m(n_calls):\n\u001b[1;32m    298\u001b[0m     next_x \u001b[39m=\u001b[39m optimizer\u001b[39m.\u001b[39mask()\n\u001b[0;32m--> 299\u001b[0m     next_y \u001b[39m=\u001b[39m func(next_x)\n\u001b[1;32m    300\u001b[0m     result \u001b[39m=\u001b[39m optimizer\u001b[39m.\u001b[39mtell(next_x, next_y)\n\u001b[1;32m    301\u001b[0m     result\u001b[39m.\u001b[39mspecs \u001b[39m=\u001b[39m specs\n",
      "File \u001b[0;32m~/miniconda3/envs/videoclip/lib/python3.8/site-packages/skopt/utils.py:789\u001b[0m, in \u001b[0;36muse_named_args.<locals>.decorator.<locals>.wrapper\u001b[0;34m(x)\u001b[0m\n\u001b[1;32m    786\u001b[0m arg_dict \u001b[39m=\u001b[39m {dim\u001b[39m.\u001b[39mname: value \u001b[39mfor\u001b[39;00m dim, value \u001b[39min\u001b[39;00m \u001b[39mzip\u001b[39m(dimensions, x)}\n\u001b[1;32m    788\u001b[0m \u001b[39m# Call the wrapped objective function with the named arguments.\u001b[39;00m\n\u001b[0;32m--> 789\u001b[0m objective_value \u001b[39m=\u001b[39m func(\u001b[39m*\u001b[39;49m\u001b[39m*\u001b[39;49marg_dict)\n\u001b[1;32m    791\u001b[0m \u001b[39mreturn\u001b[39;00m objective_value\n",
      "\u001b[1;32m/home/rob/vlm_benchmark/hyperparam_search.ipynb Cell 8\u001b[0m in \u001b[0;36mval_neg_accuracy\u001b[0;34m(**classifier_params)\u001b[0m\n\u001b[1;32m      <a href='vscode-notebook-cell://ssh-remote%2B7b22686f73744e616d65223a22564c4d2d42656e63686d61726b2d4750552d32227d/home/rob/vlm_benchmark/hyperparam_search.ipynb#X10sdnNjb2RlLXJlbW90ZQ%3D%3D?line=6'>7</a>\u001b[0m accuracies \u001b[39m=\u001b[39m []\n\u001b[1;32m      <a href='vscode-notebook-cell://ssh-remote%2B7b22686f73744e616d65223a22564c4d2d42656e63686d61726b2d4750552d32227d/home/rob/vlm_benchmark/hyperparam_search.ipynb#X10sdnNjb2RlLXJlbW90ZQ%3D%3D?line=7'>8</a>\u001b[0m \u001b[39mfor\u001b[39;00m n_support \u001b[39min\u001b[39;00m N_SUPPORT_LIST:\n\u001b[0;32m----> <a href='vscode-notebook-cell://ssh-remote%2B7b22686f73744e616d65223a22564c4d2d42656e63686d61726b2d4750552d32227d/home/rob/vlm_benchmark/hyperparam_search.ipynb#X10sdnNjb2RlLXJlbW90ZQ%3D%3D?line=8'>9</a>\u001b[0m     test_handler\u001b[39m.\u001b[39;49mrun_few_shot_test(classifier, query_dataset, support_dataset, N_WAY, n_support, N_QUERY, N_EPISODES)\n\u001b[1;32m     <a href='vscode-notebook-cell://ssh-remote%2B7b22686f73744e616d65223a22564c4d2d42656e63686d61726b2d4750552d32227d/home/rob/vlm_benchmark/hyperparam_search.ipynb#X10sdnNjb2RlLXJlbW90ZQ%3D%3D?line=10'>11</a>\u001b[0m     \u001b[39m# Find dataframe row with accuracy from this run\u001b[39;00m\n\u001b[1;32m     <a href='vscode-notebook-cell://ssh-remote%2B7b22686f73744e616d65223a22564c4d2d42656e63686d61726b2d4750552d32227d/home/rob/vlm_benchmark/hyperparam_search.ipynb#X10sdnNjb2RlLXJlbW90ZQ%3D%3D?line=11'>12</a>\u001b[0m     filter_indices \u001b[39m=\u001b[39m np\u001b[39m.\u001b[39mones(\u001b[39mlen\u001b[39m(test_handler\u001b[39m.\u001b[39mresults))\n",
      "File \u001b[0;32m~/vlm_benchmark/FewShotTestHandler.py:65\u001b[0m, in \u001b[0;36mFewShotTestHandler.run_few_shot_test\u001b[0;34m(self, classifier, query_dataset, support_dataset, n_way, n_support, n_query, n_episodes)\u001b[0m\n\u001b[1;32m     62\u001b[0m dataset_iter \u001b[39m=\u001b[39m tqdm(few_shot_dataset, leave\u001b[39m=\u001b[39m\u001b[39mFalse\u001b[39;00m)\n\u001b[1;32m     63\u001b[0m \u001b[39mfor\u001b[39;00m category_names, support_vid_paths, query_vid_paths, query_vid_labels \u001b[39min\u001b[39;00m dataset_iter:\n\u001b[0;32m---> 65\u001b[0m     query_predictions \u001b[39m=\u001b[39m classifier\u001b[39m.\u001b[39;49mpredict(category_names, support_vid_paths, query_vid_paths)\n\u001b[1;32m     67\u001b[0m     \u001b[39m# Compute accuracy for this sampled task\u001b[39;00m\n\u001b[1;32m     68\u001b[0m     correct_predictions \u001b[39m=\u001b[39m np\u001b[39m.\u001b[39msum(query_predictions \u001b[39m==\u001b[39m query_vid_labels)\n",
      "File \u001b[0;32m~/vlm_benchmark/classifier/coop.py:116\u001b[0m, in \u001b[0;36mCoopFewShotClassifier.predict\u001b[0;34m(self, category_names, support_video_paths, query_video_paths)\u001b[0m\n\u001b[1;32m    114\u001b[0m \u001b[39mfor\u001b[39;00m batch_idx, (vid_paths, vid_labels) \u001b[39min\u001b[39;00m \u001b[39menumerate\u001b[39m(train_dataloader):\n\u001b[1;32m    115\u001b[0m     \u001b[39mif\u001b[39;00m \u001b[39mself\u001b[39m\u001b[39m.\u001b[39mrandom_augment:\n\u001b[0;32m--> 116\u001b[0m         vid_embeds \u001b[39m=\u001b[39m torch\u001b[39m.\u001b[39mcat([\n\u001b[1;32m    117\u001b[0m             torch\u001b[39m.\u001b[39mfrom_numpy(\u001b[39mself\u001b[39m\u001b[39m.\u001b[39mvlm\u001b[39m.\u001b[39mvideo_encoder(vid_path, random_augment\u001b[39m=\u001b[39m\u001b[39mTrue\u001b[39;00m))\u001b[39m.\u001b[39munsqueeze(\u001b[39m0\u001b[39m)\u001b[39m.\u001b[39mto(DEVICE)\n\u001b[1;32m    118\u001b[0m             \u001b[39mfor\u001b[39;00m vid_path \u001b[39min\u001b[39;00m vid_paths\n\u001b[1;32m    119\u001b[0m         ], dim\u001b[39m=\u001b[39m\u001b[39m0\u001b[39m)\n\u001b[1;32m    120\u001b[0m     \u001b[39melse\u001b[39;00m: \u001b[39m# Use version of video encoder which can cache results for fast lookup\u001b[39;00m\n\u001b[1;32m    121\u001b[0m         vid_embeds \u001b[39m=\u001b[39m torch\u001b[39m.\u001b[39mcat([\n\u001b[1;32m    122\u001b[0m             torch\u001b[39m.\u001b[39mfrom_numpy(\u001b[39mself\u001b[39m\u001b[39m.\u001b[39mvlm\u001b[39m.\u001b[39mget_video_embeds(vid_path))\u001b[39m.\u001b[39munsqueeze(\u001b[39m0\u001b[39m)\u001b[39m.\u001b[39mto(DEVICE)\n\u001b[1;32m    123\u001b[0m             \u001b[39mfor\u001b[39;00m vid_path \u001b[39min\u001b[39;00m vid_paths\n\u001b[1;32m    124\u001b[0m         ], dim\u001b[39m=\u001b[39m\u001b[39m0\u001b[39m)\n",
      "File \u001b[0;32m~/vlm_benchmark/classifier/coop.py:117\u001b[0m, in \u001b[0;36m<listcomp>\u001b[0;34m(.0)\u001b[0m\n\u001b[1;32m    114\u001b[0m \u001b[39mfor\u001b[39;00m batch_idx, (vid_paths, vid_labels) \u001b[39min\u001b[39;00m \u001b[39menumerate\u001b[39m(train_dataloader):\n\u001b[1;32m    115\u001b[0m     \u001b[39mif\u001b[39;00m \u001b[39mself\u001b[39m\u001b[39m.\u001b[39mrandom_augment:\n\u001b[1;32m    116\u001b[0m         vid_embeds \u001b[39m=\u001b[39m torch\u001b[39m.\u001b[39mcat([\n\u001b[0;32m--> 117\u001b[0m             torch\u001b[39m.\u001b[39mfrom_numpy(\u001b[39mself\u001b[39;49m\u001b[39m.\u001b[39;49mvlm\u001b[39m.\u001b[39;49mvideo_encoder(vid_path, random_augment\u001b[39m=\u001b[39;49m\u001b[39mTrue\u001b[39;49;00m))\u001b[39m.\u001b[39munsqueeze(\u001b[39m0\u001b[39m)\u001b[39m.\u001b[39mto(DEVICE)\n\u001b[1;32m    118\u001b[0m             \u001b[39mfor\u001b[39;00m vid_path \u001b[39min\u001b[39;00m vid_paths\n\u001b[1;32m    119\u001b[0m         ], dim\u001b[39m=\u001b[39m\u001b[39m0\u001b[39m)\n\u001b[1;32m    120\u001b[0m     \u001b[39melse\u001b[39;00m: \u001b[39m# Use version of video encoder which can cache results for fast lookup\u001b[39;00m\n\u001b[1;32m    121\u001b[0m         vid_embeds \u001b[39m=\u001b[39m torch\u001b[39m.\u001b[39mcat([\n\u001b[1;32m    122\u001b[0m             torch\u001b[39m.\u001b[39mfrom_numpy(\u001b[39mself\u001b[39m\u001b[39m.\u001b[39mvlm\u001b[39m.\u001b[39mget_video_embeds(vid_path))\u001b[39m.\u001b[39munsqueeze(\u001b[39m0\u001b[39m)\u001b[39m.\u001b[39mto(DEVICE)\n\u001b[1;32m    123\u001b[0m             \u001b[39mfor\u001b[39;00m vid_path \u001b[39min\u001b[39;00m vid_paths\n\u001b[1;32m    124\u001b[0m         ], dim\u001b[39m=\u001b[39m\u001b[39m0\u001b[39m)\n",
      "File \u001b[0;32m~/vlm_benchmark/video_clip/video_clip.py:276\u001b[0m, in \u001b[0;36mVideoClipVLM.video_encoder\u001b[0;34m(self, video_path, subvideo_start_frame, subvideo_end_frame, random_augment)\u001b[0m\n\u001b[1;32m    268\u001b[0m \u001b[39m\"\"\"\u001b[39;00m\n\u001b[1;32m    269\u001b[0m \u001b[39mLoad, transform and encode a video file into a joint text/video embedding space\u001b[39;00m\n\u001b[1;32m    270\u001b[0m \u001b[39m:param video:\u001b[39;00m\n\u001b[0;32m   (...)\u001b[0m\n\u001b[1;32m    273\u001b[0m \u001b[39m:return:\u001b[39;00m\n\u001b[1;32m    274\u001b[0m \u001b[39m\"\"\"\u001b[39;00m\n\u001b[1;32m    275\u001b[0m video \u001b[39m=\u001b[39m \u001b[39mself\u001b[39m\u001b[39m.\u001b[39mopen_video(video_path, subvideo_start_frame, subvideo_end_frame, random_augment)\n\u001b[0;32m--> 276\u001b[0m video \u001b[39m=\u001b[39m \u001b[39mself\u001b[39;49m\u001b[39m.\u001b[39;49mtransform(video, random_augment)\n\u001b[1;32m    278\u001b[0m \u001b[39mif\u001b[39;00m \u001b[39mself\u001b[39m\u001b[39m.\u001b[39mcuda:\n\u001b[1;32m    279\u001b[0m     video \u001b[39m=\u001b[39m video\u001b[39m.\u001b[39mto(DEVICE)\n",
      "File \u001b[0;32m~/vlm_benchmark/video_clip/video_clip.py:259\u001b[0m, in \u001b[0;36mVideoClipVLM.transform\u001b[0;34m(self, video, random_augment)\u001b[0m\n\u001b[1;32m    253\u001b[0m \u001b[39m\"\"\"\u001b[39;00m\n\u001b[1;32m    254\u001b[0m \u001b[39mTransforms video using model-specific transforms\u001b[39;00m\n\u001b[1;32m    255\u001b[0m \u001b[39m:param video:\u001b[39;00m\n\u001b[1;32m    256\u001b[0m \u001b[39m:return:\u001b[39;00m\n\u001b[1;32m    257\u001b[0m \u001b[39m\"\"\"\u001b[39;00m\n\u001b[1;32m    258\u001b[0m \u001b[39mif\u001b[39;00m random_augment:\n\u001b[0;32m--> 259\u001b[0m     inputs \u001b[39m=\u001b[39m \u001b[39mself\u001b[39;49m\u001b[39m.\u001b[39;49mtrain_transforms(video)\n\u001b[1;32m    260\u001b[0m \u001b[39melse\u001b[39;00m:\n\u001b[1;32m    261\u001b[0m     inputs \u001b[39m=\u001b[39m \u001b[39mself\u001b[39m\u001b[39m.\u001b[39mtransforms(video)\n",
      "File \u001b[0;32m~/miniconda3/envs/videoclip/lib/python3.8/site-packages/torchvision/transforms/transforms.py:60\u001b[0m, in \u001b[0;36mCompose.__call__\u001b[0;34m(self, img)\u001b[0m\n\u001b[1;32m     58\u001b[0m \u001b[39mdef\u001b[39;00m \u001b[39m__call__\u001b[39m(\u001b[39mself\u001b[39m, img):\n\u001b[1;32m     59\u001b[0m     \u001b[39mfor\u001b[39;00m t \u001b[39min\u001b[39;00m \u001b[39mself\u001b[39m\u001b[39m.\u001b[39mtransforms:\n\u001b[0;32m---> 60\u001b[0m         img \u001b[39m=\u001b[39m t(img)\n\u001b[1;32m     61\u001b[0m     \u001b[39mreturn\u001b[39;00m img\n",
      "File \u001b[0;32m~/miniconda3/envs/videoclip/lib/python3.8/site-packages/pytorchvideo/transforms/rand_augment.py:101\u001b[0m, in \u001b[0;36mRandAugment.__call__\u001b[0;34m(self, video)\u001b[0m\n\u001b[1;32m     94\u001b[0m \u001b[39mdef\u001b[39;00m \u001b[39m__call__\u001b[39m(\u001b[39mself\u001b[39m, video: torch\u001b[39m.\u001b[39mTensor) \u001b[39m-\u001b[39m\u001b[39m>\u001b[39m torch\u001b[39m.\u001b[39mTensor:\n\u001b[1;32m     95\u001b[0m     \u001b[39m\"\"\"\u001b[39;00m\n\u001b[1;32m     96\u001b[0m \u001b[39m    Perform RandAugment to the input video tensor.\u001b[39;00m\n\u001b[1;32m     97\u001b[0m \n\u001b[1;32m     98\u001b[0m \u001b[39m    Args:\u001b[39;00m\n\u001b[1;32m     99\u001b[0m \u001b[39m        video (torch.Tensor): Input video tensor with shape (T, C, H, W).\u001b[39;00m\n\u001b[1;32m    100\u001b[0m \u001b[39m    \"\"\"\u001b[39;00m\n\u001b[0;32m--> 101\u001b[0m     \u001b[39mreturn\u001b[39;00m \u001b[39mself\u001b[39;49m\u001b[39m.\u001b[39;49mrandaug_fn(video)\n",
      "File \u001b[0;32m~/miniconda3/envs/videoclip/lib/python3.8/site-packages/torch/nn/modules/module.py:1130\u001b[0m, in \u001b[0;36mModule._call_impl\u001b[0;34m(self, *input, **kwargs)\u001b[0m\n\u001b[1;32m   1126\u001b[0m \u001b[39m# If we don't have any hooks, we want to skip the rest of the logic in\u001b[39;00m\n\u001b[1;32m   1127\u001b[0m \u001b[39m# this function, and just call forward.\u001b[39;00m\n\u001b[1;32m   1128\u001b[0m \u001b[39mif\u001b[39;00m \u001b[39mnot\u001b[39;00m (\u001b[39mself\u001b[39m\u001b[39m.\u001b[39m_backward_hooks \u001b[39mor\u001b[39;00m \u001b[39mself\u001b[39m\u001b[39m.\u001b[39m_forward_hooks \u001b[39mor\u001b[39;00m \u001b[39mself\u001b[39m\u001b[39m.\u001b[39m_forward_pre_hooks \u001b[39mor\u001b[39;00m _global_backward_hooks\n\u001b[1;32m   1129\u001b[0m         \u001b[39mor\u001b[39;00m _global_forward_hooks \u001b[39mor\u001b[39;00m _global_forward_pre_hooks):\n\u001b[0;32m-> 1130\u001b[0m     \u001b[39mreturn\u001b[39;00m forward_call(\u001b[39m*\u001b[39;49m\u001b[39minput\u001b[39;49m, \u001b[39m*\u001b[39;49m\u001b[39m*\u001b[39;49mkwargs)\n\u001b[1;32m   1131\u001b[0m \u001b[39m# Do not call functions when jit is used\u001b[39;00m\n\u001b[1;32m   1132\u001b[0m full_backward_hooks, non_full_backward_hooks \u001b[39m=\u001b[39m [], []\n",
      "File \u001b[0;32m~/miniconda3/envs/videoclip/lib/python3.8/site-packages/pytorchvideo/transforms/transforms.py:410\u001b[0m, in \u001b[0;36mOpSampler.forward\u001b[0;34m(self, x)\u001b[0m\n\u001b[1;32m    405\u001b[0m index_list \u001b[39m=\u001b[39m torch\u001b[39m.\u001b[39mmultinomial(\n\u001b[1;32m    406\u001b[0m     \u001b[39mself\u001b[39m\u001b[39m.\u001b[39mtransforms_prob, depth, replacement\u001b[39m=\u001b[39m\u001b[39mself\u001b[39m\u001b[39m.\u001b[39mreplacement\n\u001b[1;32m    407\u001b[0m )\n\u001b[1;32m    409\u001b[0m \u001b[39mfor\u001b[39;00m index \u001b[39min\u001b[39;00m index_list:\n\u001b[0;32m--> 410\u001b[0m     x \u001b[39m=\u001b[39m \u001b[39mself\u001b[39;49m\u001b[39m.\u001b[39;49mtransforms_list[index](x)\n\u001b[1;32m    412\u001b[0m \u001b[39mreturn\u001b[39;00m x\n",
      "File \u001b[0;32m~/miniconda3/envs/videoclip/lib/python3.8/site-packages/pytorchvideo/transforms/augmentations.py:482\u001b[0m, in \u001b[0;36mAugmentTransform.__call__\u001b[0;34m(self, video)\u001b[0m\n\u001b[1;32m    476\u001b[0m magnitude \u001b[39m=\u001b[39m \u001b[39mself\u001b[39m\u001b[39m.\u001b[39m_get_magnitude()\n\u001b[1;32m    477\u001b[0m level_args \u001b[39m=\u001b[39m (\n\u001b[1;32m    478\u001b[0m     \u001b[39mself\u001b[39m\u001b[39m.\u001b[39mlevel_fn(magnitude, \u001b[39mself\u001b[39m\u001b[39m.\u001b[39mlevel_paras)\n\u001b[1;32m    479\u001b[0m     \u001b[39mif\u001b[39;00m \u001b[39mself\u001b[39m\u001b[39m.\u001b[39mlevel_fn \u001b[39mis\u001b[39;00m \u001b[39mnot\u001b[39;00m \u001b[39mNone\u001b[39;00m\n\u001b[1;32m    480\u001b[0m     \u001b[39melse\u001b[39;00m ()\n\u001b[1;32m    481\u001b[0m )\n\u001b[0;32m--> 482\u001b[0m \u001b[39mreturn\u001b[39;00m \u001b[39mself\u001b[39;49m\u001b[39m.\u001b[39;49mtransform_fn(video, \u001b[39m*\u001b[39;49mlevel_args, \u001b[39m*\u001b[39;49m\u001b[39m*\u001b[39;49m\u001b[39mself\u001b[39;49m\u001b[39m.\u001b[39;49mtransform_hparas)\n",
      "File \u001b[0;32m~/miniconda3/envs/videoclip/lib/python3.8/site-packages/pytorchvideo/transforms/augmentations.py:136\u001b[0m, in \u001b[0;36m_adjust_sharpness\u001b[0;34m(video, factor, **kwargs)\u001b[0m\n\u001b[1;32m    126\u001b[0m \u001b[39mdef\u001b[39;00m \u001b[39m_adjust_sharpness\u001b[39m(video: torch\u001b[39m.\u001b[39mTensor, factor: \u001b[39mfloat\u001b[39m, \u001b[39m*\u001b[39m\u001b[39m*\u001b[39mkwargs) \u001b[39m-\u001b[39m\u001b[39m>\u001b[39m torch\u001b[39m.\u001b[39mTensor:\n\u001b[1;32m    127\u001b[0m     \u001b[39m\"\"\"\u001b[39;00m\n\u001b[1;32m    128\u001b[0m \u001b[39m    Adjust the sharpness of a video.\u001b[39;00m\n\u001b[1;32m    129\u001b[0m \n\u001b[0;32m   (...)\u001b[0m\n\u001b[1;32m    134\u001b[0m \u001b[39m            increases the sharpness by a factor of 2.\u001b[39;00m\n\u001b[1;32m    135\u001b[0m \u001b[39m    \"\"\"\u001b[39;00m\n\u001b[0;32m--> 136\u001b[0m     \u001b[39mreturn\u001b[39;00m torchvision\u001b[39m.\u001b[39;49mtransforms\u001b[39m.\u001b[39;49mfunctional\u001b[39m.\u001b[39;49madjust_sharpness(video, factor)\n",
      "File \u001b[0;32m~/miniconda3/envs/videoclip/lib/python3.8/site-packages/torchvision/transforms/functional.py:1284\u001b[0m, in \u001b[0;36madjust_sharpness\u001b[0;34m(img, sharpness_factor)\u001b[0m\n\u001b[1;32m   1281\u001b[0m \u001b[39mif\u001b[39;00m \u001b[39mnot\u001b[39;00m \u001b[39misinstance\u001b[39m(img, torch\u001b[39m.\u001b[39mTensor):\n\u001b[1;32m   1282\u001b[0m     \u001b[39mreturn\u001b[39;00m F_pil\u001b[39m.\u001b[39madjust_sharpness(img, sharpness_factor)\n\u001b[0;32m-> 1284\u001b[0m \u001b[39mreturn\u001b[39;00m F_t\u001b[39m.\u001b[39;49madjust_sharpness(img, sharpness_factor)\n",
      "File \u001b[0;32m~/miniconda3/envs/videoclip/lib/python3.8/site-packages/torchvision/transforms/functional_tensor.py:863\u001b[0m, in \u001b[0;36madjust_sharpness\u001b[0;34m(img, sharpness_factor)\u001b[0m\n\u001b[1;32m    860\u001b[0m \u001b[39mif\u001b[39;00m img\u001b[39m.\u001b[39msize(\u001b[39m-\u001b[39m\u001b[39m1\u001b[39m) \u001b[39m<\u001b[39m\u001b[39m=\u001b[39m \u001b[39m2\u001b[39m \u001b[39mor\u001b[39;00m img\u001b[39m.\u001b[39msize(\u001b[39m-\u001b[39m\u001b[39m2\u001b[39m) \u001b[39m<\u001b[39m\u001b[39m=\u001b[39m \u001b[39m2\u001b[39m:\n\u001b[1;32m    861\u001b[0m     \u001b[39mreturn\u001b[39;00m img\n\u001b[0;32m--> 863\u001b[0m \u001b[39mreturn\u001b[39;00m _blend(img, _blurred_degenerate_image(img), sharpness_factor)\n",
      "File \u001b[0;32m~/miniconda3/envs/videoclip/lib/python3.8/site-packages/torchvision/transforms/functional_tensor.py:311\u001b[0m, in \u001b[0;36m_blend\u001b[0;34m(img1, img2, ratio)\u001b[0m\n\u001b[1;32m    309\u001b[0m ratio \u001b[39m=\u001b[39m \u001b[39mfloat\u001b[39m(ratio)\n\u001b[1;32m    310\u001b[0m bound \u001b[39m=\u001b[39m \u001b[39m1.0\u001b[39m \u001b[39mif\u001b[39;00m img1\u001b[39m.\u001b[39mis_floating_point() \u001b[39melse\u001b[39;00m \u001b[39m255.0\u001b[39m\n\u001b[0;32m--> 311\u001b[0m \u001b[39mreturn\u001b[39;00m (ratio \u001b[39m*\u001b[39;49m img1 \u001b[39m+\u001b[39;49m (\u001b[39m1.0\u001b[39;49m \u001b[39m-\u001b[39;49m ratio) \u001b[39m*\u001b[39;49m img2)\u001b[39m.\u001b[39mclamp(\u001b[39m0\u001b[39m, bound)\u001b[39m.\u001b[39mto(img1\u001b[39m.\u001b[39mdtype)\n",
      "\u001b[0;31mKeyboardInterrupt\u001b[0m: "
     ]
    }
   ],
   "source": [
    "@skopt.utils.use_named_args(HYPERPARAM_SPACE)\n",
    "def val_neg_accuracy(**classifier_params):\n",
    "    classifier_params = dict(classifier_params)\n",
    "    \n",
    "    classifier = Classifier(vlm, **classifier_params)\n",
    "    \n",
    "    accuracies = []\n",
    "    for n_support in N_SUPPORT_LIST:\n",
    "        test_handler.run_few_shot_test(classifier, query_dataset, support_dataset, N_WAY, n_support, N_QUERY, N_EPISODES)\n",
    "\n",
    "        # Find dataframe row with accuracy from this run\n",
    "        filter_indices = np.ones(len(test_handler.results))\n",
    "        for key, val in dataframe_format(classifier, query_dataset, support_dataset, N_WAY, n_support, N_QUERY, N_EPISODES).items():\n",
    "            if pd.isna(val):\n",
    "                filter_indices = filter_indices & pd.isna(test_handler.results[key])\n",
    "            else:\n",
    "                filter_indices = filter_indices & (test_handler.results[key] == val)\n",
    "        matched_row = test_handler.results[filter_indices]\n",
    "        accuracies.append(matched_row[\"accuracy\"].values[0])\n",
    "        \n",
    "    return -1 * np.mean(accuracies)\n",
    "\n",
    "skopt_pbar = None\n",
    "def callback(current_skopt_results):\n",
    "    skopt.dump(current_skopt_results, SKOPT_RESULTS_FILE)\n",
    "    \n",
    "    best_run_ind = np.argmin(current_skopt_results.func_vals)\n",
    "    postfix_dict = {\n",
    "        \"best_acc\": round(-1 * current_skopt_results.func_vals[best_run_ind], 5)\n",
    "    }\n",
    "    postfix_dict.update({\n",
    "        param_space.name: round(current_skopt_results.x_iters[best_run_ind][i], 5)\n",
    "        for i, param_space in enumerate(HYPERPARAM_SPACE)\n",
    "    })\n",
    "    skopt_pbar.update(1)\n",
    "    skopt_pbar.set_postfix(postfix_dict)\n",
    "\n",
    "\n",
    "\n",
    "if os.path.exists(SKOPT_RESULTS_FILE):\n",
    "    old_skopt_results = skopt.load(SKOPT_RESULTS_FILE)\n",
    "    x0 = old_skopt_results.x_iters\n",
    "    y0 = old_skopt_results.func_vals\n",
    "else:\n",
    "    x0 = None\n",
    "    y0 = None\n",
    "skopt_pbar = tqdm(total=SKOPT_N_CALLS) \n",
    "skopt_results = skopt.gp_minimize(val_neg_accuracy, HYPERPARAM_SPACE, n_calls=SKOPT_N_CALLS, callback=callback, x0=x0, y0=y0)"
   ]
  },
  {
   "cell_type": "markdown",
   "metadata": {},
   "source": [
    "### Plot Hyperparam Search Results"
   ]
  },
  {
   "cell_type": "code",
   "execution_count": null,
   "metadata": {},
   "outputs": [],
   "source": [
    "skopt_results = skopt.load(SKOPT_RESULTS_FILE)"
   ]
  },
  {
   "cell_type": "code",
   "execution_count": null,
   "metadata": {},
   "outputs": [
    {
     "name": "stdout",
     "output_type": "stream",
     "text": [
      "lr                   0.016751266149792866\n",
      "random_augment       0\n"
     ]
    },
    {
     "data": {
      "image/png": "[encoded data removed]",
      "text/plain": [
       "<Figure size 288x288 with 4 Axes>"
      ]
     },
     "metadata": {
      "needs_background": "light"
     },
     "output_type": "display_data"
    }
   ],
   "source": [
    "skopt.plots.plot_objective(skopt_results)\n",
    "for i, hyperparam in enumerate(HYPERPARAM_SPACE):\n",
    "    print(f\"{hyperparam.name:20} {skopt_results.x[i]}\")"
   ]
  },
  {
   "cell_type": "code",
   "execution_count": null,
   "metadata": {},
   "outputs": [
    {
     "ename": "NameError",
     "evalue": "name 'N_SUPPORT_LIST' is not defined",
     "output_type": "error",
     "traceback": [
      "\u001b[0;31m---------------------------------------------------------------------------\u001b[0m",
      "\u001b[0;31mNameError\u001b[0m                                 Traceback (most recent call last)",
      "\u001b[1;32m/home/rob/vlm_benchmark/hyperparam_search.ipynb Cell 12\u001b[0m in \u001b[0;36m<cell line: 4>\u001b[0;34m()\u001b[0m\n\u001b[1;32m      <a href='vscode-notebook-cell://ssh-remote%2B7b22686f73744e616d65223a22564c4d2d42656e63686d61726b227d/home/rob/vlm_benchmark/hyperparam_search.ipynb#X11sdnNjb2RlLXJlbW90ZQ%3D%3D?line=0'>1</a>\u001b[0m averaged_over_support \u001b[39m=\u001b[39m test_handler\u001b[39m.\u001b[39mresults\u001b[39m.\u001b[39mgroupby([col \u001b[39mfor\u001b[39;00m col \u001b[39min\u001b[39;00m test_handler\u001b[39m.\u001b[39mresults\u001b[39m.\u001b[39mcolumns \u001b[39mif\u001b[39;00m col \u001b[39mnot\u001b[39;00m \u001b[39min\u001b[39;00m [\u001b[39m\"\u001b[39m\u001b[39mn_support\u001b[39m\u001b[39m\"\u001b[39m, \u001b[39m\"\u001b[39m\u001b[39maccuracy\u001b[39m\u001b[39m\"\u001b[39m, \u001b[39m\"\u001b[39m\u001b[39maccuracy_std\u001b[39m\u001b[39m\"\u001b[39m]], as_index\u001b[39m=\u001b[39m\u001b[39mFalse\u001b[39;00m, dropna\u001b[39m=\u001b[39m\u001b[39mFalse\u001b[39;00m)\u001b[39m.\u001b[39mmean()\n\u001b[1;32m      <a href='vscode-notebook-cell://ssh-remote%2B7b22686f73744e616d65223a22564c4d2d42656e63686d61726b227d/home/rob/vlm_benchmark/hyperparam_search.ipynb#X11sdnNjb2RlLXJlbW90ZQ%3D%3D?line=2'>3</a>\u001b[0m \u001b[39m# Drop any sets which didn't complete the full list of support values (if interrupted, etc)\u001b[39;00m\n\u001b[0;32m----> <a href='vscode-notebook-cell://ssh-remote%2B7b22686f73744e616d65223a22564c4d2d42656e63686d61726b227d/home/rob/vlm_benchmark/hyperparam_search.ipynb#X11sdnNjb2RlLXJlbW90ZQ%3D%3D?line=3'>4</a>\u001b[0m averaged_over_support \u001b[39m=\u001b[39m averaged_over_support[averaged_over_support[\u001b[39m\"\u001b[39m\u001b[39mn_support\u001b[39m\u001b[39m\"\u001b[39m] \u001b[39m==\u001b[39m np\u001b[39m.\u001b[39mmean(N_SUPPORT_LIST)]\n\u001b[1;32m      <a href='vscode-notebook-cell://ssh-remote%2B7b22686f73744e616d65223a22564c4d2d42656e63686d61726b227d/home/rob/vlm_benchmark/hyperparam_search.ipynb#X11sdnNjb2RlLXJlbW90ZQ%3D%3D?line=5'>6</a>\u001b[0m \u001b[39mfor\u001b[39;00m hyperparam \u001b[39min\u001b[39;00m HYPERPARAM_SPACE:\n\u001b[1;32m      <a href='vscode-notebook-cell://ssh-remote%2B7b22686f73744e616d65223a22564c4d2d42656e63686d61726b227d/home/rob/vlm_benchmark/hyperparam_search.ipynb#X11sdnNjb2RlLXJlbW90ZQ%3D%3D?line=6'>7</a>\u001b[0m     plt\u001b[39m.\u001b[39mscatter(averaged_over_support[\u001b[39mf\u001b[39m\u001b[39m\"\u001b[39m\u001b[39mclassifier.\u001b[39m\u001b[39m{\u001b[39;00mhyperparam\u001b[39m.\u001b[39mname\u001b[39m}\u001b[39;00m\u001b[39m\"\u001b[39m]\u001b[39m.\u001b[39mvalues, averaged_over_support[\u001b[39m\"\u001b[39m\u001b[39maccuracy\u001b[39m\u001b[39m\"\u001b[39m]\u001b[39m.\u001b[39mvalues)\n",
      "\u001b[0;31mNameError\u001b[0m: name 'N_SUPPORT_LIST' is not defined"
     ]
    }
   ],
   "source": [
    "averaged_over_support = test_handler.results.groupby([col for col in test_handler.results.columns if col not in [\"n_support\", \"accuracy\", \"accuracy_std\"]], as_index=False, dropna=False).mean()\n",
    "\n",
    "# Drop any sets which didn't complete the full list of support values (if interrupted, etc)\n",
    "averaged_over_support = averaged_over_support[averaged_over_support[\"n_support\"] == np.mean(N_SUPPORT_LIST)]\n",
    "\n",
    "for hyperparam in HYPERPARAM_SPACE:\n",
    "    plt.scatter(averaged_over_support[f\"classifier.{hyperparam.name}\"].values, averaged_over_support[\"accuracy\"].values)\n",
    "    plt.ylabel(\"accuracy\")\n",
    "    plt.xlabel(hyperparam.name)\n",
    "    plt.title(hyperparam.name)\n",
    "    plt.show()"
   ]
  },
  {
   "cell_type": "code",
   "execution_count": null,
   "metadata": {},
   "outputs": [],
   "source": []
  }
 ],
 "metadata": {
  "kernelspec": {
   "display_name": "Python 3.8.13 ('videoclip')",
   "language": "python",
   "name": "python3"
  },
  "language_info": {
   "codemirror_mode": {
    "name": "ipython",
    "version": 3
   },
   "file_extension": ".py",
   "mimetype": "text/x-python",
   "name": "python",
   "nbconvert_exporter": "python",
   "pygments_lexer": "ipython3",
   "version": "3.8.13"
  },
  "orig_nbformat": 4,
  "vscode": {
   "interpreter": {
    "hash": "576597d045da71b18680487735a015f28433d9aa438b3c061008c825d6c37722"
   }
  }
 },
 "nbformat": 4,
 "nbformat_minor": 2
}
