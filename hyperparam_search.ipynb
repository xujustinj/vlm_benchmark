{
 "cells": [
  {
   "cell_type": "code",
   "execution_count": 1,
   "metadata": {},
   "outputs": [
    {
     "name": "stderr",
     "output_type": "stream",
     "text": [
      "/home/rob/vlm_benchmark/FewShotTestHandler.py:5: TqdmExperimentalWarning: Using `tqdm.autonotebook.tqdm` in notebook mode. Use `tqdm.tqdm` instead to force console mode (e.g. in jupyter console)\n",
      "  from tqdm.autonotebook import tqdm\n"
     ]
    }
   ],
   "source": [
    "import numpy as np\n",
    "import os, sys\n",
    "import importlib\n",
    "from tqdm.notebook import tqdm, trange\n",
    "import pandas as pd\n",
    "import json\n",
    "import itertools\n",
    "from IPython.display import display, HTML, clear_output\n",
    "import matplotlib.pyplot as plt\n",
    "%matplotlib inline\n",
    "\n",
    "from FewShotTestHandler import FewShotTestHandler, optimize_hyperparameters, find_hyperparameters, dataframe_format\n",
    "from dataset import DatasetHandler\n",
    "from similarity_metrics import Similarity\n",
    "from plotting_utils import plot\n",
    "\n",
    "ENV = os.environ[\"CONDA_DEFAULT_ENV\"]\n",
    "pd.options.display.max_rows = 200"
   ]
  },
  {
   "cell_type": "code",
   "execution_count": 2,
   "metadata": {},
   "outputs": [
    {
     "name": "stdout",
     "output_type": "stream",
     "text": [
      "Requirement already satisfied: scikit-optimize in /home/rob/miniconda3/envs/VLM_MILES/lib/python3.9/site-packages (0.9.0)\n",
      "Requirement already satisfied: numpy>=1.13.3 in /home/rob/miniconda3/envs/VLM_MILES/lib/python3.9/site-packages (from scikit-optimize) (1.23.1)\n",
      "Requirement already satisfied: scipy>=0.19.1 in /home/rob/miniconda3/envs/VLM_MILES/lib/python3.9/site-packages (from scikit-optimize) (1.9.0)\n",
      "Requirement already satisfied: joblib>=0.11 in /home/rob/miniconda3/envs/VLM_MILES/lib/python3.9/site-packages (from scikit-optimize) (1.1.0)\n",
      "Requirement already satisfied: pyaml>=16.9 in /home/rob/miniconda3/envs/VLM_MILES/lib/python3.9/site-packages (from scikit-optimize) (21.10.1)\n",
      "Requirement already satisfied: scikit-learn>=0.20.0 in /home/rob/miniconda3/envs/VLM_MILES/lib/python3.9/site-packages (from scikit-optimize) (1.1.2)\n",
      "Requirement already satisfied: PyYAML in /home/rob/miniconda3/envs/VLM_MILES/lib/python3.9/site-packages (from pyaml>=16.9->scikit-optimize) (6.0)\n",
      "Requirement already satisfied: threadpoolctl>=2.0.0 in /home/rob/miniconda3/envs/VLM_MILES/lib/python3.9/site-packages (from scikit-learn>=0.20.0->scikit-optimize) (3.1.0)\n"
     ]
    }
   ],
   "source": [
    "!pip install scikit-optimize\n",
    "import skopt\n",
    "import skopt.plots"
   ]
  },
  {
   "cell_type": "markdown",
   "metadata": {},
   "source": [
    "### Settings"
   ]
  },
  {
   "cell_type": "code",
   "execution_count": 3,
   "metadata": {},
   "outputs": [
    {
     "name": "stderr",
     "output_type": "stream",
     "text": [
      "Some weights of the model checkpoint at distilbert-base-uncased were not used when initializing DistilBertModel: ['vocab_layer_norm.weight', 'vocab_projector.bias', 'vocab_layer_norm.bias', 'vocab_projector.weight', 'vocab_transform.bias', 'vocab_transform.weight']\n",
      "- This IS expected if you are initializing DistilBertModel from the checkpoint of a model trained on another task or with another architecture (e.g. initializing a BertForSequenceClassification model from a BertForPreTraining model).\n",
      "- This IS NOT expected if you are initializing DistilBertModel from the checkpoint of a model that you expect to be exactly identical (initializing a BertForSequenceClassification model from a BertForSequenceClassification model).\n"
     ]
    },
    {
     "name": "stdout",
     "output_type": "stream",
     "text": [
      "######USING ATTENTION STYLE:  frozen-in-time\n"
     ]
    }
   ],
   "source": [
    "# VLM Params - vlm.____ keys are passed into VLM constructor\n",
    "if ENV == \"VLM_CLIP\":\n",
    "    from CLIP.CLIPVLM import ClipVLM as VLM\n",
    "    vlm = VLM(num_frames=10)\n",
    "elif ENV == \"VLM_MILES\":\n",
    "    from MILES.wrapper import MILES_SimilarityVLM as VLM\n",
    "    vlm = VLM()\n",
    "elif ENV == \"videoclip\":\n",
    "    from video_clip.video_clip import VideoClipVLM as VLM\n",
    "    vlm = VLM(num_seconds=4, sample_strat=\"spread\", use_cuda=True)\n",
    "elif ENV == \"VLM_UNIVL\":\n",
    "    from UNIVL.wrapper import UniVL_SimilarityVLM as VLM\n",
    "    vlm = VLM()\n",
    "elif ENV == \"VLM_VTTWINS\":\n",
    "    from VTTWINS.wrapper import VTTWINS_SimilarityVLM as VLM\n",
    "    vlm = VLM()\n",
    "else:\n",
    "    raise NotImplementedError"
   ]
  },
  {
   "cell_type": "code",
   "execution_count": 7,
   "metadata": {},
   "outputs": [],
   "source": [
    "if False:\n",
    "    from classifier import TipAdapterFewShotClassifier as Classifier\n",
    "    HYPERPARAM_SPACE = [\n",
    "        skopt.space.Real(0.1, 1000, name=\"alpha\", prior=\"log-uniform\"),\n",
    "        skopt.space.Real(0.1, 100, name=\"beta\", prior=\"log-uniform\"),\n",
    "        skopt.space.Real(1e-5, 1e-1, name=\"finetune_lr\", prior=\"log-uniform\"),\n",
    "        skopt.space.Integer(0, 30, name=\"finetune_epochs\"),\n",
    "        skopt.space.Real(1e-4, 1, name=\"weight_decay\", prior=\"log-uniform\")\n",
    "    ]\n",
    "if True:\n",
    "    from classifier.coop import CoopFewShotClassifier as Classifier\n",
    "    HYPERPARAM_SPACE = [\n",
    "        skopt.space.Real(1e-5, 1e-1, name=\"lr\", prior=\"log-uniform\"),\n",
    "        #skopt.space.Integer(8, 32, name=\"context_len\"),\n",
    "        skopt.space.Integer(0, 1, name=\"random_augment\")\n",
    "    ]"
   ]
  },
  {
   "cell_type": "code",
   "execution_count": 8,
   "metadata": {},
   "outputs": [
    {
     "data": {
      "application/vnd.jupyter.widget-view+json": {
       "model_id": "0b2264946b4b4244974cd00e087a6b75",
       "version_major": 2,
       "version_minor": 0
      },
      "text/plain": [
       "  0%|          | 0/1100 [00:00<?, ?it/s]"
      ]
     },
     "metadata": {},
     "output_type": "display_data"
    },
    {
     "data": {
      "application/vnd.jupyter.widget-view+json": {
       "model_id": "864167d027f84dfb9c508021d46fbfe3",
       "version_major": 2,
       "version_minor": 0
      },
      "text/plain": [
       "  0%|          | 0/100 [00:00<?, ?it/s]"
      ]
     },
     "metadata": {},
     "output_type": "display_data"
    }
   ],
   "source": [
    "DATASET = \"smsm\"\n",
    "query_dataset = DatasetHandler(DATASET, \"val\")\n",
    "support_dataset = DatasetHandler(DATASET, \"train\")\n",
    "query_dataset.fill_cache(vlm)\n",
    "#support_dataset.fill_cache(vlm)\n",
    "\n",
    "N_WAY = 100\n",
    "N_SUPPORT_LIST = [2] #[0, 1, 2, 4, 8, 16, 32, 64]\n",
    "N_QUERY = None\n",
    "N_EPISODES = 4\n",
    "\n",
    "TESTHANDLER_RESULTS_FILE = f\"TEMP.hyperparam_search.{query_dataset.id()}.csv\"\n",
    "test_handler = FewShotTestHandler(TESTHANDLER_RESULTS_FILE)\n",
    "\n",
    "SKOPT_RESULTS_FILE = f\"TEMP.hyperparam_search.{vlm.__class__.__name__}.{query_dataset.id()}.{'_'.join([str(x) for x in N_SUPPORT_LIST])}_shot.pkl\"\n",
    "SKOPT_N_CALLS = 1000"
   ]
  },
  {
   "cell_type": "markdown",
   "metadata": {},
   "source": [
    "### Run SKOPT Hyperparameter Search"
   ]
  },
  {
   "cell_type": "code",
   "execution_count": 9,
   "metadata": {},
   "outputs": [
    {
     "data": {
      "application/vnd.jupyter.widget-view+json": {
       "model_id": "6eb4a8a097c948f49cdf38d60453bef6",
       "version_major": 2,
       "version_minor": 0
      },
      "text/plain": [
       "  0%|          | 0/1000 [00:00<?, ?it/s]"
      ]
     },
     "metadata": {},
     "output_type": "display_data"
    },
    {
     "data": {
      "application/vnd.jupyter.widget-view+json": {
       "model_id": "d5842c4c8d514c0db11c73b2d061783a",
       "version_major": 2,
       "version_minor": 0
      },
      "text/plain": [
       "  0%|          | 0/2 [00:00<?, ?it/s]"
      ]
     },
     "metadata": {},
     "output_type": "display_data"
    },
    {
     "name": "stdout",
     "output_type": "stream",
     "text": [
      "Epoch     0: Acc = 0.010, Loss = 5.024\n",
      "Epoch     1: Acc = 0.010, Loss = 4.787\n",
      "Epoch     2: Acc = 0.015, Loss = 4.742\n",
      "Epoch     3: Acc = 0.010, Loss = 4.654\n",
      "Epoch     4: Acc = 0.020, Loss = 4.640\n",
      "Epoch     5: Acc = 0.025, Loss = 4.632\n",
      "Epoch     6: Acc = 0.015, Loss = 4.592\n",
      "Epoch     7: Acc = 0.025, Loss = 4.607\n",
      "Epoch     8: Acc = 0.020, Loss = 4.602\n",
      "Epoch     9: Acc = 0.010, Loss = 4.586\n",
      "Epoch     0: Acc = 0.025, Loss = 5.029\n",
      "Epoch     1: Acc = 0.020, Loss = 4.716\n",
      "Epoch     2: Acc = 0.040, Loss = 4.608\n",
      "Epoch     3: Acc = 0.030, Loss = 4.575\n",
      "Epoch     4: Acc = 0.030, Loss = 4.565\n",
      "Epoch     5: Acc = 0.040, Loss = 4.547\n",
      "Epoch     6: Acc = 0.015, Loss = 4.533\n",
      "Epoch     7: Acc = 0.025, Loss = 4.536\n",
      "Epoch     8: Acc = 0.035, Loss = 4.544\n",
      "Epoch     9: Acc = 0.035, Loss = 4.519\n"
     ]
    },
    {
     "data": {
      "application/vnd.jupyter.widget-view+json": {
       "model_id": "1fb5b9a6a91d4f23abbf7161954bbd3d",
       "version_major": 2,
       "version_minor": 0
      },
      "text/plain": [
       "  0%|          | 0/2 [00:00<?, ?it/s]"
      ]
     },
     "metadata": {},
     "output_type": "display_data"
    },
    {
     "name": "stdout",
     "output_type": "stream",
     "text": [
      "Epoch     0: Acc = 0.020, Loss = 4.621\n",
      "Epoch     1: Acc = 0.015, Loss = 4.547\n",
      "Epoch     2: Acc = 0.025, Loss = 4.494\n",
      "Epoch     3: Acc = 0.060, Loss = 4.437\n",
      "Epoch     4: Acc = 0.070, Loss = 4.338\n",
      "Epoch     5: Acc = 0.080, Loss = 4.264\n",
      "Epoch     6: Acc = 0.095, Loss = 4.152\n",
      "Epoch     7: Acc = 0.110, Loss = 4.001\n",
      "Epoch     8: Acc = 0.140, Loss = 3.851\n",
      "Epoch     9: Acc = 0.165, Loss = 3.745\n",
      "Epoch     0: Acc = 0.035, Loss = 4.649\n",
      "Epoch     1: Acc = 0.050, Loss = 4.491\n",
      "Epoch     2: Acc = 0.045, Loss = 4.416\n",
      "Epoch     3: Acc = 0.065, Loss = 4.370\n",
      "Epoch     4: Acc = 0.080, Loss = 4.302\n",
      "Epoch     5: Acc = 0.060, Loss = 4.226\n",
      "Epoch     6: Acc = 0.075, Loss = 4.142\n",
      "Epoch     7: Acc = 0.110, Loss = 4.038\n",
      "Epoch     8: Acc = 0.105, Loss = 3.944\n",
      "Epoch     9: Acc = 0.120, Loss = 3.886\n"
     ]
    },
    {
     "data": {
      "application/vnd.jupyter.widget-view+json": {
       "model_id": "fa77dea42c07460fb6a6cf2950c713ea",
       "version_major": 2,
       "version_minor": 0
      },
      "text/plain": [
       "  0%|          | 0/2 [00:00<?, ?it/s]"
      ]
     },
     "metadata": {},
     "output_type": "display_data"
    },
    {
     "name": "stdout",
     "output_type": "stream",
     "text": [
      "Epoch     0: Acc = 0.035, Loss = 5.232\n",
      "Epoch     1: Acc = 0.035, Loss = 5.081\n",
      "Epoch     2: Acc = 0.040, Loss = 4.976\n",
      "Epoch     3: Acc = 0.045, Loss = 4.904\n",
      "Epoch     4: Acc = 0.035, Loss = 4.856\n",
      "Epoch     5: Acc = 0.035, Loss = 4.824\n",
      "Epoch     6: Acc = 0.035, Loss = 4.805\n",
      "Epoch     7: Acc = 0.035, Loss = 4.794\n",
      "Epoch     8: Acc = 0.035, Loss = 4.788\n",
      "Epoch     9: Acc = 0.035, Loss = 4.786\n",
      "Epoch     0: Acc = 0.030, Loss = 5.528\n",
      "Epoch     1: Acc = 0.040, Loss = 5.241\n",
      "Epoch     2: Acc = 0.035, Loss = 5.059\n",
      "Epoch     3: Acc = 0.035, Loss = 4.950\n",
      "Epoch     4: Acc = 0.040, Loss = 4.883\n",
      "Epoch     5: Acc = 0.035, Loss = 4.844\n",
      "Epoch     6: Acc = 0.030, Loss = 4.822\n",
      "Epoch     7: Acc = 0.030, Loss = 4.809\n",
      "Epoch     8: Acc = 0.030, Loss = 4.802\n",
      "Epoch     9: Acc = 0.030, Loss = 4.799\n"
     ]
    },
    {
     "data": {
      "application/vnd.jupyter.widget-view+json": {
       "model_id": "7db71e688c24465cb2c082a2a32ea4b6",
       "version_major": 2,
       "version_minor": 0
      },
      "text/plain": [
       "  0%|          | 0/2 [00:00<?, ?it/s]"
      ]
     },
     "metadata": {},
     "output_type": "display_data"
    },
    {
     "name": "stdout",
     "output_type": "stream",
     "text": [
      "Epoch     0: Acc = 0.020, Loss = 4.618\n",
      "Epoch     1: Acc = 0.030, Loss = 4.503\n",
      "Epoch     2: Acc = 0.035, Loss = 4.427\n",
      "Epoch     3: Acc = 0.065, Loss = 4.333\n",
      "Epoch     4: Acc = 0.080, Loss = 4.232\n",
      "Epoch     5: Acc = 0.110, Loss = 4.079\n",
      "Epoch     6: Acc = 0.145, Loss = 3.941\n",
      "Epoch     7: Acc = 0.135, Loss = 3.851\n",
      "Epoch     8: Acc = 0.170, Loss = 3.674\n",
      "Epoch     9: Acc = 0.250, Loss = 3.539\n",
      "Epoch     0: Acc = 0.025, Loss = 4.600\n",
      "Epoch     1: Acc = 0.030, Loss = 4.511\n",
      "Epoch     2: Acc = 0.050, Loss = 4.377\n",
      "Epoch     3: Acc = 0.050, Loss = 4.281\n",
      "Epoch     4: Acc = 0.070, Loss = 4.169\n",
      "Epoch     5: Acc = 0.130, Loss = 4.053\n",
      "Epoch     6: Acc = 0.120, Loss = 3.935\n",
      "Epoch     7: Acc = 0.140, Loss = 3.779\n",
      "Epoch     8: Acc = 0.195, Loss = 3.626\n",
      "Epoch     9: Acc = 0.215, Loss = 3.509\n"
     ]
    },
    {
     "data": {
      "application/vnd.jupyter.widget-view+json": {
       "model_id": "35cd2d3b39e643f1980940b0fd6879de",
       "version_major": 2,
       "version_minor": 0
      },
      "text/plain": [
       "  0%|          | 0/2 [00:00<?, ?it/s]"
      ]
     },
     "metadata": {},
     "output_type": "display_data"
    },
    {
     "name": "stdout",
     "output_type": "stream",
     "text": [
      "Epoch     0: Acc = 0.010, Loss = 5.677\n",
      "Epoch     1: Acc = 0.025, Loss = 5.472\n",
      "Epoch     2: Acc = 0.030, Loss = 5.391\n",
      "Epoch     3: Acc = 0.015, Loss = 5.337\n",
      "Epoch     4: Acc = 0.020, Loss = 5.207\n",
      "Epoch     5: Acc = 0.010, Loss = 5.212\n",
      "Epoch     6: Acc = 0.020, Loss = 5.177\n",
      "Epoch     7: Acc = 0.015, Loss = 5.190\n",
      "Epoch     8: Acc = 0.015, Loss = 5.174\n",
      "Epoch     9: Acc = 0.020, Loss = 5.140\n",
      "Epoch     0: Acc = 0.020, Loss = 5.587\n",
      "Epoch     1: Acc = 0.025, Loss = 5.259\n",
      "Epoch     2: Acc = 0.025, Loss = 5.062\n",
      "Epoch     3: Acc = 0.015, Loss = 4.995\n",
      "Epoch     4: Acc = 0.020, Loss = 4.942\n",
      "Epoch     5: Acc = 0.015, Loss = 4.912\n",
      "Epoch     6: Acc = 0.020, Loss = 4.894\n",
      "Epoch     7: Acc = 0.015, Loss = 4.861\n",
      "Epoch     8: Acc = 0.015, Loss = 4.848\n",
      "Epoch     9: Acc = 0.025, Loss = 4.868\n"
     ]
    },
    {
     "data": {
      "application/vnd.jupyter.widget-view+json": {
       "model_id": "2fda996750cd43e1a71c718df375ded9",
       "version_major": 2,
       "version_minor": 0
      },
      "text/plain": [
       "  0%|          | 0/2 [00:00<?, ?it/s]"
      ]
     },
     "metadata": {},
     "output_type": "display_data"
    },
    {
     "name": "stdout",
     "output_type": "stream",
     "text": [
      "Epoch     0: Acc = 0.005, Loss = 4.673\n",
      "Epoch     1: Acc = 0.025, Loss = 4.522\n",
      "Epoch     2: Acc = 0.050, Loss = 4.443\n",
      "Epoch     3: Acc = 0.075, Loss = 4.402\n",
      "Epoch     4: Acc = 0.075, Loss = 4.319\n",
      "Epoch     5: Acc = 0.090, Loss = 4.244\n"
     ]
    },
    {
     "ename": "KeyboardInterrupt",
     "evalue": "",
     "output_type": "error",
     "traceback": [
      "\u001b[0;31m---------------------------------------------------------------------------\u001b[0m",
      "\u001b[0;31mKeyboardInterrupt\u001b[0m                         Traceback (most recent call last)",
      "\u001b[1;32m/home/rob/vlm_benchmark/hyperparam_search.ipynb Cell 8\u001b[0m in \u001b[0;36m<cell line: 48>\u001b[0;34m()\u001b[0m\n\u001b[1;32m     <a href='vscode-notebook-cell://ssh-remote%2B7b22686f73744e616d65223a22564c4d2d42656e63686d61726b2d4750552d32227d/home/rob/vlm_benchmark/hyperparam_search.ipynb#X10sdnNjb2RlLXJlbW90ZQ%3D%3D?line=45'>46</a>\u001b[0m     y0 \u001b[39m=\u001b[39m \u001b[39mNone\u001b[39;00m\n\u001b[1;32m     <a href='vscode-notebook-cell://ssh-remote%2B7b22686f73744e616d65223a22564c4d2d42656e63686d61726b2d4750552d32227d/home/rob/vlm_benchmark/hyperparam_search.ipynb#X10sdnNjb2RlLXJlbW90ZQ%3D%3D?line=46'>47</a>\u001b[0m skopt_pbar \u001b[39m=\u001b[39m tqdm(total\u001b[39m=\u001b[39mSKOPT_N_CALLS) \n\u001b[0;32m---> <a href='vscode-notebook-cell://ssh-remote%2B7b22686f73744e616d65223a22564c4d2d42656e63686d61726b2d4750552d32227d/home/rob/vlm_benchmark/hyperparam_search.ipynb#X10sdnNjb2RlLXJlbW90ZQ%3D%3D?line=47'>48</a>\u001b[0m skopt_results \u001b[39m=\u001b[39m skopt\u001b[39m.\u001b[39;49mgp_minimize(val_neg_accuracy, HYPERPARAM_SPACE, n_calls\u001b[39m=\u001b[39;49mSKOPT_N_CALLS, callback\u001b[39m=\u001b[39;49mcallback, x0\u001b[39m=\u001b[39;49mx0, y0\u001b[39m=\u001b[39;49my0)\n",
      "File \u001b[0;32m~/miniconda3/envs/VLM_MILES/lib/python3.9/site-packages/skopt/optimizer/gp.py:259\u001b[0m, in \u001b[0;36mgp_minimize\u001b[0;34m(func, dimensions, base_estimator, n_calls, n_random_starts, n_initial_points, initial_point_generator, acq_func, acq_optimizer, x0, y0, random_state, verbose, callback, n_points, n_restarts_optimizer, xi, kappa, noise, n_jobs, model_queue_size)\u001b[0m\n\u001b[1;32m    254\u001b[0m \u001b[39mif\u001b[39;00m base_estimator \u001b[39mis\u001b[39;00m \u001b[39mNone\u001b[39;00m:\n\u001b[1;32m    255\u001b[0m     base_estimator \u001b[39m=\u001b[39m cook_estimator(\n\u001b[1;32m    256\u001b[0m         \u001b[39m\"\u001b[39m\u001b[39mGP\u001b[39m\u001b[39m\"\u001b[39m, space\u001b[39m=\u001b[39mspace, random_state\u001b[39m=\u001b[39mrng\u001b[39m.\u001b[39mrandint(\u001b[39m0\u001b[39m, np\u001b[39m.\u001b[39miinfo(np\u001b[39m.\u001b[39mint32)\u001b[39m.\u001b[39mmax),\n\u001b[1;32m    257\u001b[0m         noise\u001b[39m=\u001b[39mnoise)\n\u001b[0;32m--> 259\u001b[0m \u001b[39mreturn\u001b[39;00m base_minimize(\n\u001b[1;32m    260\u001b[0m     func, space, base_estimator\u001b[39m=\u001b[39;49mbase_estimator,\n\u001b[1;32m    261\u001b[0m     acq_func\u001b[39m=\u001b[39;49macq_func,\n\u001b[1;32m    262\u001b[0m     xi\u001b[39m=\u001b[39;49mxi, kappa\u001b[39m=\u001b[39;49mkappa, acq_optimizer\u001b[39m=\u001b[39;49macq_optimizer, n_calls\u001b[39m=\u001b[39;49mn_calls,\n\u001b[1;32m    263\u001b[0m     n_points\u001b[39m=\u001b[39;49mn_points, n_random_starts\u001b[39m=\u001b[39;49mn_random_starts,\n\u001b[1;32m    264\u001b[0m     n_initial_points\u001b[39m=\u001b[39;49mn_initial_points,\n\u001b[1;32m    265\u001b[0m     initial_point_generator\u001b[39m=\u001b[39;49minitial_point_generator,\n\u001b[1;32m    266\u001b[0m     n_restarts_optimizer\u001b[39m=\u001b[39;49mn_restarts_optimizer,\n\u001b[1;32m    267\u001b[0m     x0\u001b[39m=\u001b[39;49mx0, y0\u001b[39m=\u001b[39;49my0, random_state\u001b[39m=\u001b[39;49mrng, verbose\u001b[39m=\u001b[39;49mverbose,\n\u001b[1;32m    268\u001b[0m     callback\u001b[39m=\u001b[39;49mcallback, n_jobs\u001b[39m=\u001b[39;49mn_jobs, model_queue_size\u001b[39m=\u001b[39;49mmodel_queue_size)\n",
      "File \u001b[0;32m~/miniconda3/envs/VLM_MILES/lib/python3.9/site-packages/skopt/optimizer/base.py:299\u001b[0m, in \u001b[0;36mbase_minimize\u001b[0;34m(func, dimensions, base_estimator, n_calls, n_random_starts, n_initial_points, initial_point_generator, acq_func, acq_optimizer, x0, y0, random_state, verbose, callback, n_points, n_restarts_optimizer, xi, kappa, n_jobs, model_queue_size)\u001b[0m\n\u001b[1;32m    297\u001b[0m \u001b[39mfor\u001b[39;00m n \u001b[39min\u001b[39;00m \u001b[39mrange\u001b[39m(n_calls):\n\u001b[1;32m    298\u001b[0m     next_x \u001b[39m=\u001b[39m optimizer\u001b[39m.\u001b[39mask()\n\u001b[0;32m--> 299\u001b[0m     next_y \u001b[39m=\u001b[39m func(next_x)\n\u001b[1;32m    300\u001b[0m     result \u001b[39m=\u001b[39m optimizer\u001b[39m.\u001b[39mtell(next_x, next_y)\n\u001b[1;32m    301\u001b[0m     result\u001b[39m.\u001b[39mspecs \u001b[39m=\u001b[39m specs\n",
      "File \u001b[0;32m~/miniconda3/envs/VLM_MILES/lib/python3.9/site-packages/skopt/utils.py:789\u001b[0m, in \u001b[0;36muse_named_args.<locals>.decorator.<locals>.wrapper\u001b[0;34m(x)\u001b[0m\n\u001b[1;32m    786\u001b[0m arg_dict \u001b[39m=\u001b[39m {dim\u001b[39m.\u001b[39mname: value \u001b[39mfor\u001b[39;00m dim, value \u001b[39min\u001b[39;00m \u001b[39mzip\u001b[39m(dimensions, x)}\n\u001b[1;32m    788\u001b[0m \u001b[39m# Call the wrapped objective function with the named arguments.\u001b[39;00m\n\u001b[0;32m--> 789\u001b[0m objective_value \u001b[39m=\u001b[39m func(\u001b[39m*\u001b[39;49m\u001b[39m*\u001b[39;49marg_dict)\n\u001b[1;32m    791\u001b[0m \u001b[39mreturn\u001b[39;00m objective_value\n",
      "\u001b[1;32m/home/rob/vlm_benchmark/hyperparam_search.ipynb Cell 8\u001b[0m in \u001b[0;36mval_neg_accuracy\u001b[0;34m(**classifier_params)\u001b[0m\n\u001b[1;32m      <a href='vscode-notebook-cell://ssh-remote%2B7b22686f73744e616d65223a22564c4d2d42656e63686d61726b2d4750552d32227d/home/rob/vlm_benchmark/hyperparam_search.ipynb#X10sdnNjb2RlLXJlbW90ZQ%3D%3D?line=6'>7</a>\u001b[0m accuracies \u001b[39m=\u001b[39m []\n\u001b[1;32m      <a href='vscode-notebook-cell://ssh-remote%2B7b22686f73744e616d65223a22564c4d2d42656e63686d61726b2d4750552d32227d/home/rob/vlm_benchmark/hyperparam_search.ipynb#X10sdnNjb2RlLXJlbW90ZQ%3D%3D?line=7'>8</a>\u001b[0m \u001b[39mfor\u001b[39;00m n_support \u001b[39min\u001b[39;00m N_SUPPORT_LIST:\n\u001b[0;32m----> <a href='vscode-notebook-cell://ssh-remote%2B7b22686f73744e616d65223a22564c4d2d42656e63686d61726b2d4750552d32227d/home/rob/vlm_benchmark/hyperparam_search.ipynb#X10sdnNjb2RlLXJlbW90ZQ%3D%3D?line=8'>9</a>\u001b[0m     test_handler\u001b[39m.\u001b[39;49mrun_few_shot_test(classifier, query_dataset, support_dataset, N_WAY, n_support, N_QUERY, N_EPISODES)\n\u001b[1;32m     <a href='vscode-notebook-cell://ssh-remote%2B7b22686f73744e616d65223a22564c4d2d42656e63686d61726b2d4750552d32227d/home/rob/vlm_benchmark/hyperparam_search.ipynb#X10sdnNjb2RlLXJlbW90ZQ%3D%3D?line=10'>11</a>\u001b[0m     \u001b[39m# Find dataframe row with accuracy from this run\u001b[39;00m\n\u001b[1;32m     <a href='vscode-notebook-cell://ssh-remote%2B7b22686f73744e616d65223a22564c4d2d42656e63686d61726b2d4750552d32227d/home/rob/vlm_benchmark/hyperparam_search.ipynb#X10sdnNjb2RlLXJlbW90ZQ%3D%3D?line=11'>12</a>\u001b[0m     filter_indices \u001b[39m=\u001b[39m np\u001b[39m.\u001b[39mones(\u001b[39mlen\u001b[39m(test_handler\u001b[39m.\u001b[39mresults))\n",
      "File \u001b[0;32m~/vlm_benchmark/FewShotTestHandler.py:65\u001b[0m, in \u001b[0;36mFewShotTestHandler.run_few_shot_test\u001b[0;34m(self, classifier, query_dataset, support_dataset, n_way, n_support, n_query, n_episodes)\u001b[0m\n\u001b[1;32m     62\u001b[0m dataset_iter \u001b[39m=\u001b[39m tqdm(few_shot_dataset, leave\u001b[39m=\u001b[39m\u001b[39mFalse\u001b[39;00m)\n\u001b[1;32m     63\u001b[0m \u001b[39mfor\u001b[39;00m category_names, support_vid_paths, query_vid_paths, query_vid_labels \u001b[39min\u001b[39;00m dataset_iter:\n\u001b[0;32m---> 65\u001b[0m     query_predictions \u001b[39m=\u001b[39m classifier\u001b[39m.\u001b[39;49mpredict(category_names, support_vid_paths, query_vid_paths)\n\u001b[1;32m     67\u001b[0m     \u001b[39m# Compute accuracy for this sampled task\u001b[39;00m\n\u001b[1;32m     68\u001b[0m     correct_predictions \u001b[39m=\u001b[39m np\u001b[39m.\u001b[39msum(query_predictions \u001b[39m==\u001b[39m query_vid_labels)\n",
      "File \u001b[0;32m~/vlm_benchmark/classifier/coop.py:93\u001b[0m, in \u001b[0;36mCoopFewShotClassifier.predict\u001b[0;34m(self, category_names, support_video_paths, query_video_paths)\u001b[0m\n\u001b[1;32m     91\u001b[0m \u001b[39mfor\u001b[39;00m batch_idx, (vid_paths, vid_labels) \u001b[39min\u001b[39;00m \u001b[39menumerate\u001b[39m(train_dataloader):\n\u001b[1;32m     92\u001b[0m     \u001b[39mif\u001b[39;00m \u001b[39mself\u001b[39m\u001b[39m.\u001b[39mrandom_augment:\n\u001b[0;32m---> 93\u001b[0m         vid_embeds \u001b[39m=\u001b[39m torch\u001b[39m.\u001b[39mcat([\n\u001b[1;32m     94\u001b[0m             torch\u001b[39m.\u001b[39mfrom_numpy(\u001b[39mself\u001b[39m\u001b[39m.\u001b[39mvlm\u001b[39m.\u001b[39mvideo_encoder(vid_path, random_augment\u001b[39m=\u001b[39m\u001b[39mTrue\u001b[39;00m))\u001b[39m.\u001b[39munsqueeze(\u001b[39m0\u001b[39m)\u001b[39m.\u001b[39mto(DEVICE)\n\u001b[1;32m     95\u001b[0m             \u001b[39mfor\u001b[39;00m vid_path \u001b[39min\u001b[39;00m vid_paths\n\u001b[1;32m     96\u001b[0m         ], dim\u001b[39m=\u001b[39m\u001b[39m0\u001b[39m)\n\u001b[1;32m     97\u001b[0m     \u001b[39melse\u001b[39;00m: \u001b[39m# Use version of video encoder which can cache results for fast lookup\u001b[39;00m\n\u001b[1;32m     98\u001b[0m         vid_embeds \u001b[39m=\u001b[39m torch\u001b[39m.\u001b[39mcat([\n\u001b[1;32m     99\u001b[0m             torch\u001b[39m.\u001b[39mfrom_numpy(\u001b[39mself\u001b[39m\u001b[39m.\u001b[39mvlm\u001b[39m.\u001b[39mget_video_embeds(vid_path))\u001b[39m.\u001b[39munsqueeze(\u001b[39m0\u001b[39m)\u001b[39m.\u001b[39mto(DEVICE)\n\u001b[1;32m    100\u001b[0m             \u001b[39mfor\u001b[39;00m vid_path \u001b[39min\u001b[39;00m vid_paths\n\u001b[1;32m    101\u001b[0m         ], dim\u001b[39m=\u001b[39m\u001b[39m0\u001b[39m)\n",
      "File \u001b[0;32m~/vlm_benchmark/classifier/coop.py:94\u001b[0m, in \u001b[0;36m<listcomp>\u001b[0;34m(.0)\u001b[0m\n\u001b[1;32m     91\u001b[0m \u001b[39mfor\u001b[39;00m batch_idx, (vid_paths, vid_labels) \u001b[39min\u001b[39;00m \u001b[39menumerate\u001b[39m(train_dataloader):\n\u001b[1;32m     92\u001b[0m     \u001b[39mif\u001b[39;00m \u001b[39mself\u001b[39m\u001b[39m.\u001b[39mrandom_augment:\n\u001b[1;32m     93\u001b[0m         vid_embeds \u001b[39m=\u001b[39m torch\u001b[39m.\u001b[39mcat([\n\u001b[0;32m---> 94\u001b[0m             torch\u001b[39m.\u001b[39mfrom_numpy(\u001b[39mself\u001b[39;49m\u001b[39m.\u001b[39;49mvlm\u001b[39m.\u001b[39;49mvideo_encoder(vid_path, random_augment\u001b[39m=\u001b[39;49m\u001b[39mTrue\u001b[39;49;00m))\u001b[39m.\u001b[39munsqueeze(\u001b[39m0\u001b[39m)\u001b[39m.\u001b[39mto(DEVICE)\n\u001b[1;32m     95\u001b[0m             \u001b[39mfor\u001b[39;00m vid_path \u001b[39min\u001b[39;00m vid_paths\n\u001b[1;32m     96\u001b[0m         ], dim\u001b[39m=\u001b[39m\u001b[39m0\u001b[39m)\n\u001b[1;32m     97\u001b[0m     \u001b[39melse\u001b[39;00m: \u001b[39m# Use version of video encoder which can cache results for fast lookup\u001b[39;00m\n\u001b[1;32m     98\u001b[0m         vid_embeds \u001b[39m=\u001b[39m torch\u001b[39m.\u001b[39mcat([\n\u001b[1;32m     99\u001b[0m             torch\u001b[39m.\u001b[39mfrom_numpy(\u001b[39mself\u001b[39m\u001b[39m.\u001b[39mvlm\u001b[39m.\u001b[39mget_video_embeds(vid_path))\u001b[39m.\u001b[39munsqueeze(\u001b[39m0\u001b[39m)\u001b[39m.\u001b[39mto(DEVICE)\n\u001b[1;32m    100\u001b[0m             \u001b[39mfor\u001b[39;00m vid_path \u001b[39min\u001b[39;00m vid_paths\n\u001b[1;32m    101\u001b[0m         ], dim\u001b[39m=\u001b[39m\u001b[39m0\u001b[39m)\n",
      "File \u001b[0;32m~/vlm_benchmark/MILES/wrapper.py:161\u001b[0m, in \u001b[0;36mMILES_SimilarityVLM.video_encoder\u001b[0;34m(self, video_path, subvideo_start_frame, subvideo_end_frame, random_augment)\u001b[0m\n\u001b[1;32m    159\u001b[0m video_len \u001b[39m=\u001b[39m \u001b[39mlen\u001b[39m(video_reader)\n\u001b[1;32m    160\u001b[0m frame_indices \u001b[39m=\u001b[39m \u001b[39mself\u001b[39m\u001b[39m.\u001b[39msample_frame_indices(video_len, subvideo_start_frame, subvideo_end_frame, random_augment)\n\u001b[0;32m--> 161\u001b[0m frames \u001b[39m=\u001b[39m video_reader\u001b[39m.\u001b[39;49mget_batch(frame_indices)\u001b[39m.\u001b[39masnumpy()\n\u001b[1;32m    163\u001b[0m \u001b[39m# Transform\u001b[39;00m\n\u001b[1;32m    164\u001b[0m frames \u001b[39m=\u001b[39m torch\u001b[39m.\u001b[39mfrom_numpy(frames)\u001b[39m.\u001b[39mfloat() \u001b[39m/\u001b[39m \u001b[39m255\u001b[39m\n",
      "File \u001b[0;32m~/miniconda3/envs/VLM_MILES/lib/python3.9/site-packages/decord/video_reader.py:175\u001b[0m, in \u001b[0;36mVideoReader.get_batch\u001b[0;34m(self, indices)\u001b[0m\n\u001b[1;32m    173\u001b[0m \u001b[39massert\u001b[39;00m \u001b[39mself\u001b[39m\u001b[39m.\u001b[39m_handle \u001b[39mis\u001b[39;00m \u001b[39mnot\u001b[39;00m \u001b[39mNone\u001b[39;00m\n\u001b[1;32m    174\u001b[0m indices \u001b[39m=\u001b[39m _nd\u001b[39m.\u001b[39marray(\u001b[39mself\u001b[39m\u001b[39m.\u001b[39m_validate_indices(indices))\n\u001b[0;32m--> 175\u001b[0m arr \u001b[39m=\u001b[39m _CAPI_VideoReaderGetBatch(\u001b[39mself\u001b[39;49m\u001b[39m.\u001b[39;49m_handle, indices)\n\u001b[1;32m    176\u001b[0m \u001b[39mreturn\u001b[39;00m bridge_out(arr)\n",
      "File \u001b[0;32m~/miniconda3/envs/VLM_MILES/lib/python3.9/site-packages/decord/_ffi/_ctypes/function.py:173\u001b[0m, in \u001b[0;36mFunctionBase.__call__\u001b[0;34m(self, *args)\u001b[0m\n\u001b[1;32m    171\u001b[0m ret_val \u001b[39m=\u001b[39m DECORDValue()\n\u001b[1;32m    172\u001b[0m ret_tcode \u001b[39m=\u001b[39m ctypes\u001b[39m.\u001b[39mc_int()\n\u001b[0;32m--> 173\u001b[0m check_call(_LIB\u001b[39m.\u001b[39;49mDECORDFuncCall(\n\u001b[1;32m    174\u001b[0m     \u001b[39mself\u001b[39;49m\u001b[39m.\u001b[39;49mhandle, values, tcodes, ctypes\u001b[39m.\u001b[39;49mc_int(num_args),\n\u001b[1;32m    175\u001b[0m     ctypes\u001b[39m.\u001b[39;49mbyref(ret_val), ctypes\u001b[39m.\u001b[39;49mbyref(ret_tcode)))\n\u001b[1;32m    176\u001b[0m _ \u001b[39m=\u001b[39m temp_args\n\u001b[1;32m    177\u001b[0m _ \u001b[39m=\u001b[39m args\n",
      "\u001b[0;31mKeyboardInterrupt\u001b[0m: "
     ]
    }
   ],
   "source": [
    "@skopt.utils.use_named_args(HYPERPARAM_SPACE)\n",
    "def val_neg_accuracy(**classifier_params):\n",
    "    classifier_params = dict(classifier_params, epochs=10)\n",
    "    \n",
    "    classifier = Classifier(vlm, **classifier_params)\n",
    "    \n",
    "    accuracies = []\n",
    "    for n_support in N_SUPPORT_LIST:\n",
    "        test_handler.run_few_shot_test(classifier, query_dataset, support_dataset, N_WAY, n_support, N_QUERY, N_EPISODES)\n",
    "\n",
    "        # Find dataframe row with accuracy from this run\n",
    "        filter_indices = np.ones(len(test_handler.results))\n",
    "        for key, val in dataframe_format(classifier, query_dataset, support_dataset, N_WAY, n_support, N_QUERY, N_EPISODES).items():\n",
    "            if pd.isna(val):\n",
    "                filter_indices = filter_indices & pd.isna(test_handler.results[key])\n",
    "            else:\n",
    "                filter_indices = filter_indices & (test_handler.results[key] == val)\n",
    "        matched_row = test_handler.results[filter_indices]\n",
    "        accuracies.append(matched_row[\"accuracy\"].values[0])\n",
    "        \n",
    "    return -1 * np.mean(accuracies)\n",
    "\n",
    "skopt_pbar = None\n",
    "def callback(current_skopt_results):\n",
    "    skopt.dump(current_skopt_results, SKOPT_RESULTS_FILE)\n",
    "    \n",
    "    best_run_ind = np.argmin(current_skopt_results.func_vals)\n",
    "    postfix_dict = {\n",
    "        \"best_acc\": round(-1 * current_skopt_results.func_vals[best_run_ind], 5)\n",
    "    }\n",
    "    postfix_dict.update({\n",
    "        param_space.name: round(current_skopt_results.x_iters[best_run_ind][i], 5)\n",
    "        for i, param_space in enumerate(HYPERPARAM_SPACE)\n",
    "    })\n",
    "    skopt_pbar.update(1)\n",
    "    skopt_pbar.set_postfix(postfix_dict)\n",
    "\n",
    "\n",
    "\n",
    "if os.path.exists(SKOPT_RESULTS_FILE):\n",
    "    old_skopt_results = skopt.load(SKOPT_RESULTS_FILE)\n",
    "    x0 = old_skopt_results.x_iters\n",
    "    y0 = old_skopt_results.func_vals\n",
    "else:\n",
    "    x0 = None\n",
    "    y0 = None\n",
    "skopt_pbar = tqdm(total=SKOPT_N_CALLS) \n",
    "skopt_results = skopt.gp_minimize(val_neg_accuracy, HYPERPARAM_SPACE, n_calls=SKOPT_N_CALLS, callback=callback, x0=x0, y0=y0)"
   ]
  },
  {
   "cell_type": "markdown",
   "metadata": {},
   "source": [
    "### Plot Hyperparam Search Results"
   ]
  },
  {
   "cell_type": "code",
   "execution_count": null,
   "metadata": {},
   "outputs": [],
   "source": [
    "skopt_results = skopt.load(SKOPT_RESULTS_FILE)"
   ]
  },
  {
   "cell_type": "code",
   "execution_count": null,
   "metadata": {},
   "outputs": [
    {
     "name": "stdout",
     "output_type": "stream",
     "text": [
      "lr                   0.009999956400033549\n",
      "random_augment       0\n"
     ]
    },
    {
     "data": {
      "image/png": "[encoded data removed]",
      "text/plain": [
       "<Figure size 288x288 with 4 Axes>"
      ]
     },
     "metadata": {
      "needs_background": "light"
     },
     "output_type": "display_data"
    }
   ],
   "source": [
    "skopt.plots.plot_objective(skopt_results)\n",
    "for i, hyperparam in enumerate(HYPERPARAM_SPACE):\n",
    "    print(f\"{hyperparam.name:20} {skopt_results.x[i]}\")"
   ]
  },
  {
   "cell_type": "code",
   "execution_count": null,
   "metadata": {},
   "outputs": [
    {
     "ename": "NameError",
     "evalue": "name 'N_SUPPORT_LIST' is not defined",
     "output_type": "error",
     "traceback": [
      "\u001b[0;31m---------------------------------------------------------------------------\u001b[0m",
      "\u001b[0;31mNameError\u001b[0m                                 Traceback (most recent call last)",
      "\u001b[1;32m/home/rob/vlm_benchmark/hyperparam_search.ipynb Cell 12\u001b[0m in \u001b[0;36m<cell line: 4>\u001b[0;34m()\u001b[0m\n\u001b[1;32m      <a href='vscode-notebook-cell://ssh-remote%2B7b22686f73744e616d65223a22564c4d2d42656e63686d61726b227d/home/rob/vlm_benchmark/hyperparam_search.ipynb#X11sdnNjb2RlLXJlbW90ZQ%3D%3D?line=0'>1</a>\u001b[0m averaged_over_support \u001b[39m=\u001b[39m test_handler\u001b[39m.\u001b[39mresults\u001b[39m.\u001b[39mgroupby([col \u001b[39mfor\u001b[39;00m col \u001b[39min\u001b[39;00m test_handler\u001b[39m.\u001b[39mresults\u001b[39m.\u001b[39mcolumns \u001b[39mif\u001b[39;00m col \u001b[39mnot\u001b[39;00m \u001b[39min\u001b[39;00m [\u001b[39m\"\u001b[39m\u001b[39mn_support\u001b[39m\u001b[39m\"\u001b[39m, \u001b[39m\"\u001b[39m\u001b[39maccuracy\u001b[39m\u001b[39m\"\u001b[39m, \u001b[39m\"\u001b[39m\u001b[39maccuracy_std\u001b[39m\u001b[39m\"\u001b[39m]], as_index\u001b[39m=\u001b[39m\u001b[39mFalse\u001b[39;00m, dropna\u001b[39m=\u001b[39m\u001b[39mFalse\u001b[39;00m)\u001b[39m.\u001b[39mmean()\n\u001b[1;32m      <a href='vscode-notebook-cell://ssh-remote%2B7b22686f73744e616d65223a22564c4d2d42656e63686d61726b227d/home/rob/vlm_benchmark/hyperparam_search.ipynb#X11sdnNjb2RlLXJlbW90ZQ%3D%3D?line=2'>3</a>\u001b[0m \u001b[39m# Drop any sets which didn't complete the full list of support values (if interrupted, etc)\u001b[39;00m\n\u001b[0;32m----> <a href='vscode-notebook-cell://ssh-remote%2B7b22686f73744e616d65223a22564c4d2d42656e63686d61726b227d/home/rob/vlm_benchmark/hyperparam_search.ipynb#X11sdnNjb2RlLXJlbW90ZQ%3D%3D?line=3'>4</a>\u001b[0m averaged_over_support \u001b[39m=\u001b[39m averaged_over_support[averaged_over_support[\u001b[39m\"\u001b[39m\u001b[39mn_support\u001b[39m\u001b[39m\"\u001b[39m] \u001b[39m==\u001b[39m np\u001b[39m.\u001b[39mmean(N_SUPPORT_LIST)]\n\u001b[1;32m      <a href='vscode-notebook-cell://ssh-remote%2B7b22686f73744e616d65223a22564c4d2d42656e63686d61726b227d/home/rob/vlm_benchmark/hyperparam_search.ipynb#X11sdnNjb2RlLXJlbW90ZQ%3D%3D?line=5'>6</a>\u001b[0m \u001b[39mfor\u001b[39;00m hyperparam \u001b[39min\u001b[39;00m HYPERPARAM_SPACE:\n\u001b[1;32m      <a href='vscode-notebook-cell://ssh-remote%2B7b22686f73744e616d65223a22564c4d2d42656e63686d61726b227d/home/rob/vlm_benchmark/hyperparam_search.ipynb#X11sdnNjb2RlLXJlbW90ZQ%3D%3D?line=6'>7</a>\u001b[0m     plt\u001b[39m.\u001b[39mscatter(averaged_over_support[\u001b[39mf\u001b[39m\u001b[39m\"\u001b[39m\u001b[39mclassifier.\u001b[39m\u001b[39m{\u001b[39;00mhyperparam\u001b[39m.\u001b[39mname\u001b[39m}\u001b[39;00m\u001b[39m\"\u001b[39m]\u001b[39m.\u001b[39mvalues, averaged_over_support[\u001b[39m\"\u001b[39m\u001b[39maccuracy\u001b[39m\u001b[39m\"\u001b[39m]\u001b[39m.\u001b[39mvalues)\n",
      "\u001b[0;31mNameError\u001b[0m: name 'N_SUPPORT_LIST' is not defined"
     ]
    }
   ],
   "source": [
    "averaged_over_support = test_handler.results.groupby([col for col in test_handler.results.columns if col not in [\"n_support\", \"accuracy\", \"accuracy_std\"]], as_index=False, dropna=False).mean()\n",
    "\n",
    "# Drop any sets which didn't complete the full list of support values (if interrupted, etc)\n",
    "averaged_over_support = averaged_over_support[averaged_over_support[\"n_support\"] == np.mean(N_SUPPORT_LIST)]\n",
    "\n",
    "for hyperparam in HYPERPARAM_SPACE:\n",
    "    plt.scatter(averaged_over_support[f\"classifier.{hyperparam.name}\"].values, averaged_over_support[\"accuracy\"].values)\n",
    "    plt.ylabel(\"accuracy\")\n",
    "    plt.xlabel(hyperparam.name)\n",
    "    plt.title(hyperparam.name)\n",
    "    plt.show()"
   ]
  },
  {
   "cell_type": "code",
   "execution_count": null,
   "metadata": {},
   "outputs": [],
   "source": []
  }
 ],
 "metadata": {
  "kernelspec": {
   "display_name": "Python 3.9.12 ('VLM_MILES')",
   "language": "python",
   "name": "python3"
  },
  "language_info": {
   "codemirror_mode": {
    "name": "ipython",
    "version": 3
   },
   "file_extension": ".py",
   "mimetype": "text/x-python",
   "name": "python",
   "nbconvert_exporter": "python",
   "pygments_lexer": "ipython3",
   "version": "3.9.12"
  },
  "orig_nbformat": 4,
  "vscode": {
   "interpreter": {
    "hash": "aa12131d24cc94205087ad381a7dfdae34f6e827b859c030f23450f0750c1ff3"
   }
  }
 },
 "nbformat": 4,
 "nbformat_minor": 2
}
