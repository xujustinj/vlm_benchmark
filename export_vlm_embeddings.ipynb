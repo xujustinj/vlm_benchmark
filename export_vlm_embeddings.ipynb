{
 "cells": [
  {
   "cell_type": "code",
   "execution_count": null,
   "metadata": {},
   "outputs": [],
   "source": [
    "import os"
   ]
  },
  {
   "cell_type": "code",
   "execution_count": null,
   "metadata": {},
   "outputs": [],
   "source": [
    "if True:\n",
    "    from video_clip.video_clip import VideoClipVLM\n",
    "    vlm = VideoClipVLM(num_seconds=4, sample_strat=\"spread\")\n",
    "    save_dir = \"videoclip_embeddings\"\n",
    "if False:\n",
    "    from CLIP.CLIPVLM import ClipVLM\n",
    "    vlm = ClipVLM(num_frames=4)\n",
    "    save_dir = \"clip_embeddings\"\n",
    "if False:\n",
    "    from MILES.wrapper import MILES_SimilarityVLM\n",
    "    vlm = MILES_SimilarityVLM()\n",
    "    save_dir = \"miles_embeddings\"\n",
    "\n",
    "from dataset import DatasetHandler\n",
    "datasets = [\n",
    "    DatasetHandler(\"moma_act\", \"test\"),\n",
    "    DatasetHandler(\"moma_sact\", \"test\"),\n",
    "    DatasetHandler(\"kinetics_100\", \"test\")\n",
    "]"
   ]
  },
  {
   "cell_type": "code",
   "execution_count": null,
   "metadata": {},
   "outputs": [],
   "source": [
    "for dataset in datasets:\n",
    "    dataset.export_embeddings(vlm, os.path.join(save_dir, dataset.id()))"
   ]
  },
  {
   "cell_type": "code",
   "execution_count": null,
   "metadata": {},
   "outputs": [],
   "source": []
  }
 ],
 "metadata": {
  "kernelspec": {
   "display_name": "Python 3.8.13 ('videoclip')",
   "language": "python",
   "name": "python3"
  },
  "language_info": {
   "codemirror_mode": {
    "name": "ipython",
    "version": 3
   },
   "file_extension": ".py",
   "mimetype": "text/x-python",
   "name": "python",
   "nbconvert_exporter": "python",
   "pygments_lexer": "ipython3",
   "version": "3.8.13"
  },
  "orig_nbformat": 4,
  "vscode": {
   "interpreter": {
    "hash": "576597d045da71b18680487735a015f28433d9aa438b3c061008c825d6c37722"
   }
  }
 },
 "nbformat": 4,
 "nbformat_minor": 2
}
