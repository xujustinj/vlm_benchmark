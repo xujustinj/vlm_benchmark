{
 "cells": [
  {
   "cell_type": "code",
   "execution_count": null,
   "metadata": {},
   "outputs": [],
   "source": [
    "import numpy as np\n",
    "import os, sys\n",
    "import importlib\n",
    "from tqdm.notebook import tqdm, trange\n",
    "import pandas as pd\n",
    "import json\n",
    "import itertools\n",
    "from IPython.display import display\n",
    "\n",
    "# Import test handler\n",
    "from FewShotTestHandler import FewShotTestHandler\n",
    "\n",
    "# Most common classifier\n",
    "from classifier.WeightedTextFewShotClassifier import WeightedTextFewShotClassifier"
   ]
  },
  {
   "cell_type": "markdown",
   "metadata": {},
   "source": [
    "### Load VLM\n",
    "\n",
    "Note: This notebook must be run using the corresponding conda environment"
   ]
  },
  {
   "cell_type": "code",
   "execution_count": null,
   "metadata": {},
   "outputs": [],
   "source": [
    "if False:\n",
    "    from VTTWINS.wrapper import VTTWINS_SimilarityVLM\n",
    "    vlm = VTTWINS_SimilarityVLM(reset_cache=False)\n",
    "    \n",
    "if False:\n",
    "    from CLIP.CLIPVLM import ClipVLM\n",
    "    vlm = ClipVLM(reset_cache=False)\n",
    "    \n",
    "if True:\n",
    "    from UNIVL.wrapper import UniVL_SimilarityVLM\n",
    "    vlm = UniVL_SimilarityVLM(reset_cache=False)"
   ]
  },
  {
   "cell_type": "markdown",
   "metadata": {},
   "source": [
    "### Test Handler\n",
    "\n",
    "Runs few-shot testing and permanently saves results"
   ]
  },
  {
   "cell_type": "code",
   "execution_count": null,
   "metadata": {},
   "outputs": [],
   "source": [
    "test_handler = FewShotTestHandler()"
   ]
  },
  {
   "cell_type": "markdown",
   "metadata": {},
   "source": [
    "### Run Repeated Tests"
   ]
  },
  {
   "cell_type": "code",
   "execution_count": null,
   "metadata": {},
   "outputs": [],
   "source": [
    "N_WAY_LIST = [5, 10]\n",
    "N_SUPPORT_LIST = [0, 1, 2, 5, 10]\n",
    "TEXT_WEIGHT_LIST = [0.1, 0.5, 1, 2, 5, 10, 20]\n",
    "N_QUERY = 1\n",
    "N_EPISODES = 1000\n",
    "DATASET_SPLIT_PATH = \"/home/datasets/kinetics_100_split/val.txt\""
   ]
  },
  {
   "cell_type": "code",
   "execution_count": null,
   "metadata": {},
   "outputs": [],
   "source": [
    "# Fill VLM Cache for chosen dataset\n",
    "test_handler.fill_cache(vlm, DATASET_SPLIT_PATH)"
   ]
  },
  {
   "cell_type": "code",
   "execution_count": null,
   "metadata": {},
   "outputs": [],
   "source": [
    "# Dynamically display most recent test results\n",
    "disp = display(display_id=True)\n",
    "disp.update(test_handler.results.tail(5))\n",
    "\n",
    "param_list = list(itertools.product(N_WAY_LIST, N_SUPPORT_LIST, TEXT_WEIGHT_LIST))\n",
    "param_list = list(filter(lambda x: not (x[1] == 0 and x[2] != 1), param_list)) # Remove repeated zero-shot tests with different text_weights\n",
    "\n",
    "for n_way, n_support, text_weight in tqdm(param_list):\n",
    "    classifier = WeightedTextFewShotClassifier(vlm, metric=None, text_weight=text_weight)\n",
    "    \n",
    "    test_handler.run_few_shot_test(classifier, DATASET_SPLIT_PATH,\n",
    "                                   n_way=n_way, n_support=n_support, n_query=N_QUERY, n_episodes=N_EPISODES)\n",
    "    disp.update(test_handler.results.tail(5))"
   ]
  },
  {
   "cell_type": "code",
   "execution_count": null,
   "metadata": {},
   "outputs": [],
   "source": []
  }
 ],
 "metadata": {
  "kernelspec": {
   "display_name": "Python 3.6.9 ('VLM_UNIVL')",
   "language": "python",
   "name": "python3"
  },
  "language_info": {
   "codemirror_mode": {
    "name": "ipython",
    "version": 3
   },
   "file_extension": ".py",
   "mimetype": "text/x-python",
   "name": "python",
   "nbconvert_exporter": "python",
   "pygments_lexer": "ipython3",
   "version": "3.6.15"
  },
  "orig_nbformat": 4,
  "vscode": {
   "interpreter": {
    "hash": "6e1e4b5eb516e110c0e069b0b76285a5e02ae070f391cf1185a3b811e49550e8"
   }
  }
 },
 "nbformat": 4,
 "nbformat_minor": 2
}
