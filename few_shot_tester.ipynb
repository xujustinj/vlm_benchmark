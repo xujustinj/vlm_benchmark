{
 "cells": [
  {
   "cell_type": "code",
   "execution_count": 1,
   "metadata": {},
   "outputs": [],
   "source": [
    "import numpy as np\n",
    "import os, sys\n",
    "import importlib\n",
    "from tqdm.notebook import tqdm, trange\n",
    "import pandas as pd\n",
    "import json\n",
    "import itertools\n",
    "from IPython.display import display\n",
    "\n",
    "# Import test handler\n",
    "from FewShotTestHandler import FewShotTestHandler\n",
    "\n",
    "# Most common classifier\n",
    "from classifier.WeightedTextFewShotClassifier import WeightedTextFewShotClassifier"
   ]
  },
  {
   "cell_type": "markdown",
   "metadata": {},
   "source": [
    "### Load VLM\n",
    "\n",
    "Note: This notebook must be run using the corresponding conda environment"
   ]
  },
  {
   "cell_type": "code",
   "execution_count": 2,
   "metadata": {},
   "outputs": [
    {
     "name": "stdout",
     "output_type": "stream",
     "text": [
      "/home/rob/vlm_benchmark/UNIVL/VideoFeatureExtractor\n",
      "Weights from pretrained model not used in S3D: \n",
      "   text_module.word_embd.weight\n",
      "   text_module.fc1.weight\n",
      "   text_module.fc1.bias\n",
      "   text_module.fc2.weight\n",
      "   text_module.fc2.bias\n",
      "/home/rob/vlm_benchmark/UNIVL/UniVL/modules/bert-base-uncased/vocab.txt\n"
     ]
    },
    {
     "name": "stderr",
     "output_type": "stream",
     "text": [
      "Stage-One:True, Stage-Two:False\n"
     ]
    }
   ],
   "source": [
    "if False:\n",
    "    from VTTWINS.wrapper import VTTWINS_SimilarityVLM\n",
    "    vlm = VTTWINS_SimilarityVLM(reset_cache=False)\n",
    "    \n",
    "if False:\n",
    "    from CLIP.CLIPVLM import ClipVLM\n",
    "    vlm = ClipVLM(reset_cache=False)\n",
    "    \n",
    "if True:\n",
    "    from UNIVL.wrapper import UniVL_SimilarityVLM\n",
    "    vlm = UniVL_SimilarityVLM(reset_cache=False)"
   ]
  },
  {
   "cell_type": "markdown",
   "metadata": {},
   "source": [
    "### Test Handler\n",
    "\n",
    "Runs few-shot testing and permanently saves results"
   ]
  },
  {
   "cell_type": "code",
   "execution_count": 3,
   "metadata": {},
   "outputs": [],
   "source": [
    "test_handler = FewShotTestHandler()"
   ]
  },
  {
   "cell_type": "markdown",
   "metadata": {},
   "source": [
    "### Run Repeated Tests"
   ]
  },
  {
   "cell_type": "code",
   "execution_count": 4,
   "metadata": {},
   "outputs": [],
   "source": [
    "N_WAY_LIST = [5, 10]\n",
    "N_SUPPORT_LIST = [0, 1, 2, 5, 10]\n",
    "TEXT_WEIGHT_LIST = [0.1, 0.5, 1, 2, 5, 10, 20]\n",
    "N_QUERY = 1\n",
    "N_EPISODES = 1000\n",
    "DATASET_SPLIT_PATH = \"/home/datasets/kinetics_100_split/val.txt\""
   ]
  },
  {
   "cell_type": "code",
   "execution_count": 5,
   "metadata": {},
   "outputs": [
    {
     "data": {
      "application/vnd.jupyter.widget-view+json": {
       "model_id": "3e619ee9838b494c810f20d43a93a854",
       "version_major": 2,
       "version_minor": 0
      },
      "text/plain": [
       "  0%|          | 0/1200 [00:00<?, ?it/s]"
      ]
     },
     "metadata": {},
     "output_type": "display_data"
    },
    {
     "name": "stdout",
     "output_type": "stream",
     "text": [
      "Decoding video: /home/datasets/kinetics_100/065.baking_cookies/ZK2H5KlcHVM.mp4\n",
      "Decoding video: /home/datasets/kinetics_100/065.baking_cookies/ZK2H5KlcHVM.mp4\n",
      "Decoding video: /home/datasets/kinetics_100/065.baking_cookies/r9YmcA13hFE.mp4\n",
      "Decoding video: /home/datasets/kinetics_100/065.baking_cookies/r9YmcA13hFE.mp4\n",
      "Decoding video: /home/datasets/kinetics_100/065.baking_cookies/FreqqAT1YmU.mp4\n",
      "Decoding video: /home/datasets/kinetics_100/065.baking_cookies/FreqqAT1YmU.mp4\n",
      "Decoding video: /home/datasets/kinetics_100/065.baking_cookies/FWx9d8nPnJY.mp4\n",
      "Decoding video: /home/datasets/kinetics_100/065.baking_cookies/FWx9d8nPnJY.mp4\n"
     ]
    }
   ],
   "source": [
    "# Fill VLM Cache for chosen dataset\n",
    "test_handler.fill_cache(vlm, DATASET_SPLIT_PATH)"
   ]
  },
  {
   "cell_type": "code",
   "execution_count": null,
   "metadata": {},
   "outputs": [
    {
     "data": {
      "text/html": [
       "<div>\n",
       "<style scoped>\n",
       "    .dataframe tbody tr th:only-of-type {\n",
       "        vertical-align: middle;\n",
       "    }\n",
       "\n",
       "    .dataframe tbody tr th {\n",
       "        vertical-align: top;\n",
       "    }\n",
       "\n",
       "    .dataframe thead th {\n",
       "        text-align: right;\n",
       "    }\n",
       "</style>\n",
       "<table border=\"1\" class=\"dataframe\">\n",
       "  <thead>\n",
       "    <tr style=\"text-align: right;\">\n",
       "      <th></th>\n",
       "      <th>vlm_class</th>\n",
       "      <th>vlm.num_frames</th>\n",
       "      <th>vlm.path</th>\n",
       "      <th>vlm.sample_strat</th>\n",
       "      <th>classifier_class</th>\n",
       "      <th>classifier.metric</th>\n",
       "      <th>classifier.text_weight</th>\n",
       "      <th>dataset_split</th>\n",
       "      <th>n_way</th>\n",
       "      <th>n_support</th>\n",
       "      <th>n_query</th>\n",
       "      <th>n_episodes</th>\n",
       "      <th>accuracy</th>\n",
       "    </tr>\n",
       "  </thead>\n",
       "  <tbody>\n",
       "    <tr>\n",
       "      <th>328</th>\n",
       "      <td>ClipVLM</td>\n",
       "      <td>1.0</td>\n",
       "      <td>openai/clip-vit-base-patch32</td>\n",
       "      <td>uniform</td>\n",
       "      <td>WeightedTextFewShotClassifier</td>\n",
       "      <td>COSINE</td>\n",
       "      <td>1.0</td>\n",
       "      <td>/home/datasets/kinetics_100_split/val.txt</td>\n",
       "      <td>10</td>\n",
       "      <td>10</td>\n",
       "      <td>1</td>\n",
       "      <td>1000</td>\n",
       "      <td>0.8144</td>\n",
       "    </tr>\n",
       "    <tr>\n",
       "      <th>329</th>\n",
       "      <td>ClipVLM</td>\n",
       "      <td>1.0</td>\n",
       "      <td>openai/clip-vit-base-patch32</td>\n",
       "      <td>uniform</td>\n",
       "      <td>WeightedTextFewShotClassifier</td>\n",
       "      <td>COSINE</td>\n",
       "      <td>2.0</td>\n",
       "      <td>/home/datasets/kinetics_100_split/val.txt</td>\n",
       "      <td>10</td>\n",
       "      <td>10</td>\n",
       "      <td>1</td>\n",
       "      <td>1000</td>\n",
       "      <td>0.8209</td>\n",
       "    </tr>\n",
       "    <tr>\n",
       "      <th>330</th>\n",
       "      <td>ClipVLM</td>\n",
       "      <td>1.0</td>\n",
       "      <td>openai/clip-vit-base-patch32</td>\n",
       "      <td>uniform</td>\n",
       "      <td>WeightedTextFewShotClassifier</td>\n",
       "      <td>COSINE</td>\n",
       "      <td>5.0</td>\n",
       "      <td>/home/datasets/kinetics_100_split/val.txt</td>\n",
       "      <td>10</td>\n",
       "      <td>10</td>\n",
       "      <td>1</td>\n",
       "      <td>1000</td>\n",
       "      <td>0.8351</td>\n",
       "    </tr>\n",
       "    <tr>\n",
       "      <th>331</th>\n",
       "      <td>ClipVLM</td>\n",
       "      <td>1.0</td>\n",
       "      <td>openai/clip-vit-base-patch32</td>\n",
       "      <td>uniform</td>\n",
       "      <td>WeightedTextFewShotClassifier</td>\n",
       "      <td>COSINE</td>\n",
       "      <td>10.0</td>\n",
       "      <td>/home/datasets/kinetics_100_split/val.txt</td>\n",
       "      <td>10</td>\n",
       "      <td>10</td>\n",
       "      <td>1</td>\n",
       "      <td>1000</td>\n",
       "      <td>0.8524</td>\n",
       "    </tr>\n",
       "    <tr>\n",
       "      <th>332</th>\n",
       "      <td>ClipVLM</td>\n",
       "      <td>1.0</td>\n",
       "      <td>openai/clip-vit-base-patch32</td>\n",
       "      <td>uniform</td>\n",
       "      <td>WeightedTextFewShotClassifier</td>\n",
       "      <td>COSINE</td>\n",
       "      <td>20.0</td>\n",
       "      <td>/home/datasets/kinetics_100_split/val.txt</td>\n",
       "      <td>10</td>\n",
       "      <td>10</td>\n",
       "      <td>1</td>\n",
       "      <td>1000</td>\n",
       "      <td>0.8617</td>\n",
       "    </tr>\n",
       "  </tbody>\n",
       "</table>\n",
       "</div>"
      ],
      "text/plain": [
       "    vlm_class  vlm.num_frames                      vlm.path vlm.sample_strat  \\\n",
       "328   ClipVLM             1.0  openai/clip-vit-base-patch32          uniform   \n",
       "329   ClipVLM             1.0  openai/clip-vit-base-patch32          uniform   \n",
       "330   ClipVLM             1.0  openai/clip-vit-base-patch32          uniform   \n",
       "331   ClipVLM             1.0  openai/clip-vit-base-patch32          uniform   \n",
       "332   ClipVLM             1.0  openai/clip-vit-base-patch32          uniform   \n",
       "\n",
       "                  classifier_class classifier.metric  classifier.text_weight  \\\n",
       "328  WeightedTextFewShotClassifier            COSINE                     1.0   \n",
       "329  WeightedTextFewShotClassifier            COSINE                     2.0   \n",
       "330  WeightedTextFewShotClassifier            COSINE                     5.0   \n",
       "331  WeightedTextFewShotClassifier            COSINE                    10.0   \n",
       "332  WeightedTextFewShotClassifier            COSINE                    20.0   \n",
       "\n",
       "                                 dataset_split  n_way  n_support  n_query  \\\n",
       "328  /home/datasets/kinetics_100_split/val.txt     10         10        1   \n",
       "329  /home/datasets/kinetics_100_split/val.txt     10         10        1   \n",
       "330  /home/datasets/kinetics_100_split/val.txt     10         10        1   \n",
       "331  /home/datasets/kinetics_100_split/val.txt     10         10        1   \n",
       "332  /home/datasets/kinetics_100_split/val.txt     10         10        1   \n",
       "\n",
       "     n_episodes  accuracy  \n",
       "328        1000    0.8144  \n",
       "329        1000    0.8209  \n",
       "330        1000    0.8351  \n",
       "331        1000    0.8524  \n",
       "332        1000    0.8617  "
      ]
     },
     "metadata": {},
     "output_type": "display_data"
    },
    {
     "data": {
      "application/vnd.jupyter.widget-view+json": {
       "model_id": "7d6797427d0d4e7c9813a30dd7d93952",
       "version_major": 2,
       "version_minor": 0
      },
      "text/plain": [
       "  0%|          | 0/58 [00:00<?, ?it/s]"
      ]
     },
     "metadata": {},
     "output_type": "display_data"
    }
   ],
   "source": [
    "# Dynamically display most recent test results\n",
    "disp = display(display_id=True)\n",
    "disp.update(test_handler.results.tail(5))\n",
    "\n",
    "param_list = list(itertools.product(N_WAY_LIST, N_SUPPORT_LIST, TEXT_WEIGHT_LIST))\n",
    "param_list = list(filter(lambda x: not (x[1] == 0 and x[2] != 1), param_list)) # Remove repeated zero-shot tests with different text_weights\n",
    "\n",
    "for n_way, n_support, text_weight in tqdm(param_list):\n",
    "    classifier = WeightedTextFewShotClassifier(vlm, metric=None, text_weight=text_weight)\n",
    "    \n",
    "    test_handler.run_few_shot_test(classifier, DATASET_SPLIT_PATH,\n",
    "                                   n_way=n_way, n_support=n_support, n_query=N_QUERY, n_episodes=N_EPISODES)\n",
    "    disp.update(test_handler.results.tail(5))"
   ]
  },
  {
   "cell_type": "code",
   "execution_count": null,
   "metadata": {},
   "outputs": [],
   "source": []
  }
 ],
 "metadata": {
  "kernelspec": {
   "display_name": "Python 3.6.9 ('VLM_UNIVL')",
   "language": "python",
   "name": "python3"
  },
  "language_info": {
   "codemirror_mode": {
    "name": "ipython",
    "version": 3
   },
   "file_extension": ".py",
   "mimetype": "text/x-python",
   "name": "python",
   "nbconvert_exporter": "python",
   "pygments_lexer": "ipython3",
   "version": "3.6.15"
  },
  "orig_nbformat": 4,
  "vscode": {
   "interpreter": {
    "hash": "6e1e4b5eb516e110c0e069b0b76285a5e02ae070f391cf1185a3b811e49550e8"
   }
  }
 },
 "nbformat": 4,
 "nbformat_minor": 2
}
