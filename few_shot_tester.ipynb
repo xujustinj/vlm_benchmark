{
 "cells": [
  {
   "cell_type": "code",
   "execution_count": 1,
   "metadata": {},
   "outputs": [],
   "source": [
    "import numpy as np\n",
    "import os, sys\n",
    "import importlib\n",
    "from tqdm.notebook import tqdm, trange\n",
    "import pandas as pd\n",
    "import json\n",
    "import itertools\n",
    "from IPython.display import display\n",
    "\n",
    "import torch\n",
    "DEVICE = \"cuda\" if torch.cuda.is_available() else \"cpu\"\n",
    "\n",
    "# Import dataset types\n",
    "from dataset.dataset import FewShotTaskDataset, SequentialVideoDataset, SequentialCategoryNameDataset\n",
    "\n",
    "# Import base classes\n",
    "from SimilarityVLM import SimilarityVLM\n",
    "from classifier.FewShotClassifier import FewShotClassifier"
   ]
  },
  {
   "cell_type": "markdown",
   "metadata": {},
   "source": [
    "## Test Parameters"
   ]
  },
  {
   "cell_type": "markdown",
   "metadata": {},
   "source": [
    "### Choose Dataset to Test"
   ]
  },
  {
   "cell_type": "code",
   "execution_count": 2,
   "metadata": {},
   "outputs": [],
   "source": [
    "DATASET_SPLIT_PATH = \"/home/datasets/kinetics_100_split/test.txt\""
   ]
  },
  {
   "cell_type": "markdown",
   "metadata": {},
   "source": [
    "### Choose Few-Shot Task Parameters"
   ]
  },
  {
   "cell_type": "code",
   "execution_count": 3,
   "metadata": {},
   "outputs": [],
   "source": [
    "N_WAY = 5                       # Number of categories to choose between in each task\n",
    "N_SUPPORT = 10                  # Number of example videos per category per task\n",
    "N_QUERY = 1                     # Number of test videos per category per task\n",
    "N_EPISODES = 1000               # Number of few-shot tasks sampled in one iteration of the dataset"
   ]
  },
  {
   "cell_type": "markdown",
   "metadata": {},
   "source": [
    "## VLM Setup"
   ]
  },
  {
   "cell_type": "markdown",
   "metadata": {},
   "source": [
    "### Load VLM and Few-Shot Classifier\n",
    "\n",
    "Note: This notebook must be run using the corresponding conda environment"
   ]
  },
  {
   "cell_type": "code",
   "execution_count": 4,
   "metadata": {},
   "outputs": [],
   "source": [
    "if True:\n",
    "    from VTTWINS.wrapper import VTTWINS_SimilarityVLM\n",
    "    vlm = VTTWINS_SimilarityVLM(reset_cache=False)\n",
    "    \n",
    "    from classifier.FewShotClassifier import FewShotClassifier\n",
    "    classifier = FewShotClassifier(vlm, metric=None)\n",
    "    \n",
    "if False:\n",
    "    from CLIP.CLIPVLM import ClipVLM\n",
    "    vlm = ClipVLM(reset_cache=False)\n",
    "    \n",
    "    from classifier.FewShotClassifier import FewShotClassifier\n",
    "    classifier = FewShotClassifier(vlm, metric=None)\n",
    "    \n",
    "if False:\n",
    "    from CLIP.CLIPVLM import ClipVLM\n",
    "    vlm = ClipVLM(reset_cache=False)\n",
    "    \n",
    "    from classifier.WeightedTextFewShotClassifier import WeightedTextFewShotClassifier\n",
    "    classifier = WeightedTextFewShotClassifier(vlm, metric=None, text_weight=4)"
   ]
  },
  {
   "cell_type": "markdown",
   "metadata": {},
   "source": [
    "### Fill the Cache"
   ]
  },
  {
   "cell_type": "code",
   "execution_count": 5,
   "metadata": {},
   "outputs": [
    {
     "data": {
      "application/vnd.jupyter.widget-view+json": {
       "model_id": "6cd781e82f2e4b77af8ed550b2e03759",
       "version_major": 2,
       "version_minor": 0
      },
      "text/plain": [
       "  0%|          | 0/2400 [00:00<?, ?it/s]"
      ]
     },
     "metadata": {},
     "output_type": "display_data"
    }
   ],
   "source": [
    "video_dataset = SequentialVideoDataset(DATASET_SPLIT_PATH)\n",
    "\n",
    "try:\n",
    "    for vid_path in tqdm(video_dataset):\n",
    "        if vid_path not in vlm.embed_cache:\n",
    "            vlm.get_video_embeds(vid_path)\n",
    "except KeyboardInterrupt:\n",
    "    pass\n",
    "finally:\n",
    "    vlm.save_cache()"
   ]
  },
  {
   "cell_type": "markdown",
   "metadata": {},
   "source": [
    "## Test Setup"
   ]
  },
  {
   "cell_type": "markdown",
   "metadata": {},
   "source": [
    "### Setup DataFrame for Saving Test Results"
   ]
  },
  {
   "cell_type": "code",
   "execution_count": 6,
   "metadata": {},
   "outputs": [],
   "source": [
    "TEST_RESULTS_PATH = \"test_results.csv\"\n",
    "TEST_RESULTS_COLUMNS = [\"vlm_class\", \"vlm_params\", \"classifier_class\", \"classifier_params\", \"dataset_split\", \"n_way\", \"n_support\", \"n_query\", \"n_episodes\", \"accuracy\"]\n",
    "\n",
    "if os.path.exists(TEST_RESULTS_PATH):\n",
    "    test_results = pd.read_csv(TEST_RESULTS_PATH)\n",
    "else:\n",
    "    test_results = pd.DataFrame(columns=TEST_RESULTS_COLUMNS)"
   ]
  },
  {
   "cell_type": "code",
   "execution_count": 7,
   "metadata": {},
   "outputs": [
    {
     "data": {
      "text/html": [
       "<div>\n",
       "<style scoped>\n",
       "    .dataframe tbody tr th:only-of-type {\n",
       "        vertical-align: middle;\n",
       "    }\n",
       "\n",
       "    .dataframe tbody tr th {\n",
       "        vertical-align: top;\n",
       "    }\n",
       "\n",
       "    .dataframe thead th {\n",
       "        text-align: right;\n",
       "    }\n",
       "</style>\n",
       "<table border=\"1\" class=\"dataframe\">\n",
       "  <thead>\n",
       "    <tr style=\"text-align: right;\">\n",
       "      <th></th>\n",
       "      <th>vlm_class</th>\n",
       "      <th>vlm_params</th>\n",
       "      <th>classifier_class</th>\n",
       "      <th>classifier_params</th>\n",
       "      <th>dataset_split</th>\n",
       "      <th>n_way</th>\n",
       "      <th>n_support</th>\n",
       "      <th>n_query</th>\n",
       "      <th>n_episodes</th>\n",
       "      <th>accuracy</th>\n",
       "    </tr>\n",
       "  </thead>\n",
       "  <tbody>\n",
       "    <tr>\n",
       "      <th>0</th>\n",
       "      <td>ClipVLM</td>\n",
       "      <td>{\"path\": \"openai/clip-vit-base-patch32\", \"num_...</td>\n",
       "      <td>FewShotClassifier</td>\n",
       "      <td>{\"metric\": \"COSINE\"}</td>\n",
       "      <td>/home/datasets/kinetics_100_split/test.txt</td>\n",
       "      <td>5</td>\n",
       "      <td>10</td>\n",
       "      <td>1</td>\n",
       "      <td>1000</td>\n",
       "      <td>0.83000</td>\n",
       "    </tr>\n",
       "    <tr>\n",
       "      <th>1</th>\n",
       "      <td>VTTWINS_SimilarityVLM</td>\n",
       "      <td>{}</td>\n",
       "      <td>FewShotClassifier</td>\n",
       "      <td>{\"metric\": \"DOT\"}</td>\n",
       "      <td>/home/datasets/kinetics_100_split/test.txt</td>\n",
       "      <td>5</td>\n",
       "      <td>10</td>\n",
       "      <td>1</td>\n",
       "      <td>1000</td>\n",
       "      <td>0.75900</td>\n",
       "    </tr>\n",
       "    <tr>\n",
       "      <th>2</th>\n",
       "      <td>ClipVLM</td>\n",
       "      <td>{\"path\": \"openai/clip-vit-base-patch32\", \"num_...</td>\n",
       "      <td>WeightedTextFewShotClassifier</td>\n",
       "      <td>{\"metric\": \"COSINE\", \"text_weight\": 4.0}</td>\n",
       "      <td>/home/datasets/kinetics_100_split/test.txt</td>\n",
       "      <td>5</td>\n",
       "      <td>10</td>\n",
       "      <td>1</td>\n",
       "      <td>1000</td>\n",
       "      <td>0.85580</td>\n",
       "    </tr>\n",
       "    <tr>\n",
       "      <th>3</th>\n",
       "      <td>ClipVLM</td>\n",
       "      <td>{\"path\": \"openai/clip-vit-base-patch32\", \"num_...</td>\n",
       "      <td>WeightedTextFewShotClassifier</td>\n",
       "      <td>{\"metric\": \"COSINE\", \"text_weight\": 1.0}</td>\n",
       "      <td>/home/datasets/kinetics_100_split/test.txt</td>\n",
       "      <td>5</td>\n",
       "      <td>0</td>\n",
       "      <td>1</td>\n",
       "      <td>1000</td>\n",
       "      <td>0.86740</td>\n",
       "    </tr>\n",
       "    <tr>\n",
       "      <th>4</th>\n",
       "      <td>ClipVLM</td>\n",
       "      <td>{\"path\": \"openai/clip-vit-base-patch32\", \"num_...</td>\n",
       "      <td>WeightedTextFewShotClassifier</td>\n",
       "      <td>{\"metric\": \"COSINE\", \"text_weight\": 0.1}</td>\n",
       "      <td>/home/datasets/kinetics_100_split/test.txt</td>\n",
       "      <td>5</td>\n",
       "      <td>1</td>\n",
       "      <td>1</td>\n",
       "      <td>1000</td>\n",
       "      <td>0.72120</td>\n",
       "    </tr>\n",
       "    <tr>\n",
       "      <th>...</th>\n",
       "      <td>...</td>\n",
       "      <td>...</td>\n",
       "      <td>...</td>\n",
       "      <td>...</td>\n",
       "      <td>...</td>\n",
       "      <td>...</td>\n",
       "      <td>...</td>\n",
       "      <td>...</td>\n",
       "      <td>...</td>\n",
       "      <td>...</td>\n",
       "    </tr>\n",
       "    <tr>\n",
       "      <th>123</th>\n",
       "      <td>ClipVLM</td>\n",
       "      <td>{\"path\": \"openai/clip-vit-base-patch32\", \"num_...</td>\n",
       "      <td>WeightedTextFewShotClassifier</td>\n",
       "      <td>{\"metric\": \"COSINE\", \"text_weight\": 1.0}</td>\n",
       "      <td>/home/datasets/kinetics_100_split/test.txt</td>\n",
       "      <td>20</td>\n",
       "      <td>10</td>\n",
       "      <td>1</td>\n",
       "      <td>1000</td>\n",
       "      <td>0.67465</td>\n",
       "    </tr>\n",
       "    <tr>\n",
       "      <th>124</th>\n",
       "      <td>ClipVLM</td>\n",
       "      <td>{\"path\": \"openai/clip-vit-base-patch32\", \"num_...</td>\n",
       "      <td>WeightedTextFewShotClassifier</td>\n",
       "      <td>{\"metric\": \"COSINE\", \"text_weight\": 2.0}</td>\n",
       "      <td>/home/datasets/kinetics_100_split/test.txt</td>\n",
       "      <td>20</td>\n",
       "      <td>10</td>\n",
       "      <td>1</td>\n",
       "      <td>1000</td>\n",
       "      <td>0.68030</td>\n",
       "    </tr>\n",
       "    <tr>\n",
       "      <th>125</th>\n",
       "      <td>ClipVLM</td>\n",
       "      <td>{\"path\": \"openai/clip-vit-base-patch32\", \"num_...</td>\n",
       "      <td>WeightedTextFewShotClassifier</td>\n",
       "      <td>{\"metric\": \"COSINE\", \"text_weight\": 5.0}</td>\n",
       "      <td>/home/datasets/kinetics_100_split/test.txt</td>\n",
       "      <td>20</td>\n",
       "      <td>10</td>\n",
       "      <td>1</td>\n",
       "      <td>1000</td>\n",
       "      <td>0.70970</td>\n",
       "    </tr>\n",
       "    <tr>\n",
       "      <th>126</th>\n",
       "      <td>ClipVLM</td>\n",
       "      <td>{\"path\": \"openai/clip-vit-base-patch32\", \"num_...</td>\n",
       "      <td>WeightedTextFewShotClassifier</td>\n",
       "      <td>{\"metric\": \"COSINE\", \"text_weight\": 10.0}</td>\n",
       "      <td>/home/datasets/kinetics_100_split/test.txt</td>\n",
       "      <td>20</td>\n",
       "      <td>10</td>\n",
       "      <td>1</td>\n",
       "      <td>1000</td>\n",
       "      <td>0.71055</td>\n",
       "    </tr>\n",
       "    <tr>\n",
       "      <th>127</th>\n",
       "      <td>ClipVLM</td>\n",
       "      <td>{\"path\": \"openai/clip-vit-base-patch32\", \"num_...</td>\n",
       "      <td>WeightedTextFewShotClassifier</td>\n",
       "      <td>{\"metric\": \"COSINE\", \"text_weight\": 20.0}</td>\n",
       "      <td>/home/datasets/kinetics_100_split/test.txt</td>\n",
       "      <td>20</td>\n",
       "      <td>10</td>\n",
       "      <td>1</td>\n",
       "      <td>1000</td>\n",
       "      <td>0.71135</td>\n",
       "    </tr>\n",
       "  </tbody>\n",
       "</table>\n",
       "<p>128 rows × 10 columns</p>\n",
       "</div>"
      ],
      "text/plain": [
       "                 vlm_class                                         vlm_params  \\\n",
       "0                  ClipVLM  {\"path\": \"openai/clip-vit-base-patch32\", \"num_...   \n",
       "1    VTTWINS_SimilarityVLM                                                 {}   \n",
       "2                  ClipVLM  {\"path\": \"openai/clip-vit-base-patch32\", \"num_...   \n",
       "3                  ClipVLM  {\"path\": \"openai/clip-vit-base-patch32\", \"num_...   \n",
       "4                  ClipVLM  {\"path\": \"openai/clip-vit-base-patch32\", \"num_...   \n",
       "..                     ...                                                ...   \n",
       "123                ClipVLM  {\"path\": \"openai/clip-vit-base-patch32\", \"num_...   \n",
       "124                ClipVLM  {\"path\": \"openai/clip-vit-base-patch32\", \"num_...   \n",
       "125                ClipVLM  {\"path\": \"openai/clip-vit-base-patch32\", \"num_...   \n",
       "126                ClipVLM  {\"path\": \"openai/clip-vit-base-patch32\", \"num_...   \n",
       "127                ClipVLM  {\"path\": \"openai/clip-vit-base-patch32\", \"num_...   \n",
       "\n",
       "                  classifier_class                          classifier_params  \\\n",
       "0                FewShotClassifier                       {\"metric\": \"COSINE\"}   \n",
       "1                FewShotClassifier                          {\"metric\": \"DOT\"}   \n",
       "2    WeightedTextFewShotClassifier   {\"metric\": \"COSINE\", \"text_weight\": 4.0}   \n",
       "3    WeightedTextFewShotClassifier   {\"metric\": \"COSINE\", \"text_weight\": 1.0}   \n",
       "4    WeightedTextFewShotClassifier   {\"metric\": \"COSINE\", \"text_weight\": 0.1}   \n",
       "..                             ...                                        ...   \n",
       "123  WeightedTextFewShotClassifier   {\"metric\": \"COSINE\", \"text_weight\": 1.0}   \n",
       "124  WeightedTextFewShotClassifier   {\"metric\": \"COSINE\", \"text_weight\": 2.0}   \n",
       "125  WeightedTextFewShotClassifier   {\"metric\": \"COSINE\", \"text_weight\": 5.0}   \n",
       "126  WeightedTextFewShotClassifier  {\"metric\": \"COSINE\", \"text_weight\": 10.0}   \n",
       "127  WeightedTextFewShotClassifier  {\"metric\": \"COSINE\", \"text_weight\": 20.0}   \n",
       "\n",
       "                                  dataset_split  n_way  n_support  n_query  \\\n",
       "0    /home/datasets/kinetics_100_split/test.txt      5         10        1   \n",
       "1    /home/datasets/kinetics_100_split/test.txt      5         10        1   \n",
       "2    /home/datasets/kinetics_100_split/test.txt      5         10        1   \n",
       "3    /home/datasets/kinetics_100_split/test.txt      5          0        1   \n",
       "4    /home/datasets/kinetics_100_split/test.txt      5          1        1   \n",
       "..                                          ...    ...        ...      ...   \n",
       "123  /home/datasets/kinetics_100_split/test.txt     20         10        1   \n",
       "124  /home/datasets/kinetics_100_split/test.txt     20         10        1   \n",
       "125  /home/datasets/kinetics_100_split/test.txt     20         10        1   \n",
       "126  /home/datasets/kinetics_100_split/test.txt     20         10        1   \n",
       "127  /home/datasets/kinetics_100_split/test.txt     20         10        1   \n",
       "\n",
       "     n_episodes  accuracy  \n",
       "0          1000   0.83000  \n",
       "1          1000   0.75900  \n",
       "2          1000   0.85580  \n",
       "3          1000   0.86740  \n",
       "4          1000   0.72120  \n",
       "..          ...       ...  \n",
       "123        1000   0.67465  \n",
       "124        1000   0.68030  \n",
       "125        1000   0.70970  \n",
       "126        1000   0.71055  \n",
       "127        1000   0.71135  \n",
       "\n",
       "[128 rows x 10 columns]"
      ]
     },
     "execution_count": 7,
     "metadata": {},
     "output_type": "execute_result"
    }
   ],
   "source": [
    "test_results"
   ]
  },
  {
   "cell_type": "markdown",
   "metadata": {},
   "source": [
    "### Testing Function"
   ]
  },
  {
   "cell_type": "code",
   "execution_count": 8,
   "metadata": {},
   "outputs": [],
   "source": [
    "'''\n",
    "Runs a few shot test using the given classifier, dataset, and task parameters.\n",
    "Returns the average accuracy over all sampled query videos in all sampled tasks.\n",
    "'''\n",
    "def few_shot_test(classifier: FewShotClassifier, dataset_split_path: str,\n",
    "                  n_way: int, n_support: int, n_query: int = 1, n_episodes: int = 1000) -> float:\n",
    "    \n",
    "    # Load dataset to generate tasks with the desired params\n",
    "    dataset = FewShotTaskDataset(dataset_split_path, n_episodes, n_way, n_support, n_query)\n",
    "    \n",
    "    correct_predictions = 0\n",
    "    total_queries = 0\n",
    "    for vid_paths, category_names in tqdm(dataset, leave=False):\n",
    "        \n",
    "        query_vid_paths = vid_paths[:, n_support:]\n",
    "        if n_support > 0:\n",
    "            support_vid_paths = vid_paths[:, :n_support]\n",
    "        else:\n",
    "            support_vid_paths = None\n",
    "            \n",
    "        query_predictions = classifier.predict(category_names, support_vid_paths, query_vid_paths)\n",
    "        \n",
    "        correct_predictions += np.sum(query_predictions == np.arange(n_way)[:, None])\n",
    "        total_queries += n_way * n_query\n",
    "    \n",
    "    return correct_predictions / total_queries\n",
    "\n",
    "'''\n",
    "Runs the given few-shot test if it has not already been performed,\n",
    "saving the result into a dataframe\n",
    "'''\n",
    "def collect_few_shot_test_results(test_results_df: pd.DataFrame,\n",
    "                                  classifier: FewShotClassifier, dataset_split_path: str,\n",
    "                                  n_way: int, n_support: int, n_query: int = 1, n_episodes: int = 1000,\n",
    "                                  ) -> None:\n",
    "    test_params = {\n",
    "        \"vlm_class\": classifier.vlm.__class__.__name__,\n",
    "        \"vlm_params\": json.dumps(classifier.vlm.params()),\n",
    "        \"classifier_class\": classifier.__class__.__name__,\n",
    "        \"classifier_params\": json.dumps(classifier.params()),\n",
    "        \"dataset_split\": dataset_split_path,\n",
    "        \"n_way\": n_way,\n",
    "        \"n_support\": n_support,\n",
    "        \"n_query\": n_query,\n",
    "        \"n_episodes\": n_episodes\n",
    "    }\n",
    "    \n",
    "    # Abort if test has already been recorded\n",
    "    filtered_tests = test_results_df\n",
    "    for key, val in test_params.items():\n",
    "        filtered_tests = filtered_tests[filtered_tests[key] == val]\n",
    "    if not filtered_tests.empty:\n",
    "        return\n",
    "    \n",
    "    # Run Test\n",
    "    accuracy = few_shot_test(classifier=classifier, dataset_split_path=dataset_split_path,\n",
    "                             n_way=n_way, n_support=n_support, n_query=n_query, n_episodes=n_episodes)\n",
    "    \n",
    "    # Save results\n",
    "    df_row = dict(test_params, accuracy=accuracy)\n",
    "    test_results_df.loc[len(test_results_df)] = df_row"
   ]
  },
  {
   "cell_type": "markdown",
   "metadata": {},
   "source": [
    "## Run Test"
   ]
  },
  {
   "cell_type": "code",
   "execution_count": 9,
   "metadata": {},
   "outputs": [],
   "source": [
    "collect_few_shot_test_results(test_results,\n",
    "                              classifier, DATASET_SPLIT_PATH,\n",
    "                              n_way=N_WAY, n_support=N_SUPPORT, n_query=N_QUERY, n_episodes=N_EPISODES)"
   ]
  },
  {
   "cell_type": "markdown",
   "metadata": {},
   "source": [
    "### Save Updated Test Results"
   ]
  },
  {
   "cell_type": "code",
   "execution_count": 10,
   "metadata": {},
   "outputs": [],
   "source": [
    "test_results.to_csv(TEST_RESULTS_PATH, index=False)"
   ]
  },
  {
   "cell_type": "code",
   "execution_count": 11,
   "metadata": {},
   "outputs": [
    {
     "data": {
      "text/html": [
       "<div>\n",
       "<style scoped>\n",
       "    .dataframe tbody tr th:only-of-type {\n",
       "        vertical-align: middle;\n",
       "    }\n",
       "\n",
       "    .dataframe tbody tr th {\n",
       "        vertical-align: top;\n",
       "    }\n",
       "\n",
       "    .dataframe thead th {\n",
       "        text-align: right;\n",
       "    }\n",
       "</style>\n",
       "<table border=\"1\" class=\"dataframe\">\n",
       "  <thead>\n",
       "    <tr style=\"text-align: right;\">\n",
       "      <th></th>\n",
       "      <th>vlm_class</th>\n",
       "      <th>vlm_params</th>\n",
       "      <th>classifier_class</th>\n",
       "      <th>classifier_params</th>\n",
       "      <th>dataset_split</th>\n",
       "      <th>n_way</th>\n",
       "      <th>n_support</th>\n",
       "      <th>n_query</th>\n",
       "      <th>n_episodes</th>\n",
       "      <th>accuracy</th>\n",
       "    </tr>\n",
       "  </thead>\n",
       "  <tbody>\n",
       "    <tr>\n",
       "      <th>0</th>\n",
       "      <td>ClipVLM</td>\n",
       "      <td>{\"path\": \"openai/clip-vit-base-patch32\", \"num_...</td>\n",
       "      <td>FewShotClassifier</td>\n",
       "      <td>{\"metric\": \"COSINE\"}</td>\n",
       "      <td>/home/datasets/kinetics_100_split/test.txt</td>\n",
       "      <td>5</td>\n",
       "      <td>10</td>\n",
       "      <td>1</td>\n",
       "      <td>1000</td>\n",
       "      <td>0.83000</td>\n",
       "    </tr>\n",
       "    <tr>\n",
       "      <th>1</th>\n",
       "      <td>VTTWINS_SimilarityVLM</td>\n",
       "      <td>{}</td>\n",
       "      <td>FewShotClassifier</td>\n",
       "      <td>{\"metric\": \"DOT\"}</td>\n",
       "      <td>/home/datasets/kinetics_100_split/test.txt</td>\n",
       "      <td>5</td>\n",
       "      <td>10</td>\n",
       "      <td>1</td>\n",
       "      <td>1000</td>\n",
       "      <td>0.75900</td>\n",
       "    </tr>\n",
       "    <tr>\n",
       "      <th>2</th>\n",
       "      <td>ClipVLM</td>\n",
       "      <td>{\"path\": \"openai/clip-vit-base-patch32\", \"num_...</td>\n",
       "      <td>WeightedTextFewShotClassifier</td>\n",
       "      <td>{\"metric\": \"COSINE\", \"text_weight\": 4.0}</td>\n",
       "      <td>/home/datasets/kinetics_100_split/test.txt</td>\n",
       "      <td>5</td>\n",
       "      <td>10</td>\n",
       "      <td>1</td>\n",
       "      <td>1000</td>\n",
       "      <td>0.85580</td>\n",
       "    </tr>\n",
       "    <tr>\n",
       "      <th>3</th>\n",
       "      <td>ClipVLM</td>\n",
       "      <td>{\"path\": \"openai/clip-vit-base-patch32\", \"num_...</td>\n",
       "      <td>WeightedTextFewShotClassifier</td>\n",
       "      <td>{\"metric\": \"COSINE\", \"text_weight\": 1.0}</td>\n",
       "      <td>/home/datasets/kinetics_100_split/test.txt</td>\n",
       "      <td>5</td>\n",
       "      <td>0</td>\n",
       "      <td>1</td>\n",
       "      <td>1000</td>\n",
       "      <td>0.86740</td>\n",
       "    </tr>\n",
       "    <tr>\n",
       "      <th>4</th>\n",
       "      <td>ClipVLM</td>\n",
       "      <td>{\"path\": \"openai/clip-vit-base-patch32\", \"num_...</td>\n",
       "      <td>WeightedTextFewShotClassifier</td>\n",
       "      <td>{\"metric\": \"COSINE\", \"text_weight\": 0.1}</td>\n",
       "      <td>/home/datasets/kinetics_100_split/test.txt</td>\n",
       "      <td>5</td>\n",
       "      <td>1</td>\n",
       "      <td>1</td>\n",
       "      <td>1000</td>\n",
       "      <td>0.72120</td>\n",
       "    </tr>\n",
       "    <tr>\n",
       "      <th>...</th>\n",
       "      <td>...</td>\n",
       "      <td>...</td>\n",
       "      <td>...</td>\n",
       "      <td>...</td>\n",
       "      <td>...</td>\n",
       "      <td>...</td>\n",
       "      <td>...</td>\n",
       "      <td>...</td>\n",
       "      <td>...</td>\n",
       "      <td>...</td>\n",
       "    </tr>\n",
       "    <tr>\n",
       "      <th>123</th>\n",
       "      <td>ClipVLM</td>\n",
       "      <td>{\"path\": \"openai/clip-vit-base-patch32\", \"num_...</td>\n",
       "      <td>WeightedTextFewShotClassifier</td>\n",
       "      <td>{\"metric\": \"COSINE\", \"text_weight\": 1.0}</td>\n",
       "      <td>/home/datasets/kinetics_100_split/test.txt</td>\n",
       "      <td>20</td>\n",
       "      <td>10</td>\n",
       "      <td>1</td>\n",
       "      <td>1000</td>\n",
       "      <td>0.67465</td>\n",
       "    </tr>\n",
       "    <tr>\n",
       "      <th>124</th>\n",
       "      <td>ClipVLM</td>\n",
       "      <td>{\"path\": \"openai/clip-vit-base-patch32\", \"num_...</td>\n",
       "      <td>WeightedTextFewShotClassifier</td>\n",
       "      <td>{\"metric\": \"COSINE\", \"text_weight\": 2.0}</td>\n",
       "      <td>/home/datasets/kinetics_100_split/test.txt</td>\n",
       "      <td>20</td>\n",
       "      <td>10</td>\n",
       "      <td>1</td>\n",
       "      <td>1000</td>\n",
       "      <td>0.68030</td>\n",
       "    </tr>\n",
       "    <tr>\n",
       "      <th>125</th>\n",
       "      <td>ClipVLM</td>\n",
       "      <td>{\"path\": \"openai/clip-vit-base-patch32\", \"num_...</td>\n",
       "      <td>WeightedTextFewShotClassifier</td>\n",
       "      <td>{\"metric\": \"COSINE\", \"text_weight\": 5.0}</td>\n",
       "      <td>/home/datasets/kinetics_100_split/test.txt</td>\n",
       "      <td>20</td>\n",
       "      <td>10</td>\n",
       "      <td>1</td>\n",
       "      <td>1000</td>\n",
       "      <td>0.70970</td>\n",
       "    </tr>\n",
       "    <tr>\n",
       "      <th>126</th>\n",
       "      <td>ClipVLM</td>\n",
       "      <td>{\"path\": \"openai/clip-vit-base-patch32\", \"num_...</td>\n",
       "      <td>WeightedTextFewShotClassifier</td>\n",
       "      <td>{\"metric\": \"COSINE\", \"text_weight\": 10.0}</td>\n",
       "      <td>/home/datasets/kinetics_100_split/test.txt</td>\n",
       "      <td>20</td>\n",
       "      <td>10</td>\n",
       "      <td>1</td>\n",
       "      <td>1000</td>\n",
       "      <td>0.71055</td>\n",
       "    </tr>\n",
       "    <tr>\n",
       "      <th>127</th>\n",
       "      <td>ClipVLM</td>\n",
       "      <td>{\"path\": \"openai/clip-vit-base-patch32\", \"num_...</td>\n",
       "      <td>WeightedTextFewShotClassifier</td>\n",
       "      <td>{\"metric\": \"COSINE\", \"text_weight\": 20.0}</td>\n",
       "      <td>/home/datasets/kinetics_100_split/test.txt</td>\n",
       "      <td>20</td>\n",
       "      <td>10</td>\n",
       "      <td>1</td>\n",
       "      <td>1000</td>\n",
       "      <td>0.71135</td>\n",
       "    </tr>\n",
       "  </tbody>\n",
       "</table>\n",
       "<p>128 rows × 10 columns</p>\n",
       "</div>"
      ],
      "text/plain": [
       "                 vlm_class                                         vlm_params  \\\n",
       "0                  ClipVLM  {\"path\": \"openai/clip-vit-base-patch32\", \"num_...   \n",
       "1    VTTWINS_SimilarityVLM                                                 {}   \n",
       "2                  ClipVLM  {\"path\": \"openai/clip-vit-base-patch32\", \"num_...   \n",
       "3                  ClipVLM  {\"path\": \"openai/clip-vit-base-patch32\", \"num_...   \n",
       "4                  ClipVLM  {\"path\": \"openai/clip-vit-base-patch32\", \"num_...   \n",
       "..                     ...                                                ...   \n",
       "123                ClipVLM  {\"path\": \"openai/clip-vit-base-patch32\", \"num_...   \n",
       "124                ClipVLM  {\"path\": \"openai/clip-vit-base-patch32\", \"num_...   \n",
       "125                ClipVLM  {\"path\": \"openai/clip-vit-base-patch32\", \"num_...   \n",
       "126                ClipVLM  {\"path\": \"openai/clip-vit-base-patch32\", \"num_...   \n",
       "127                ClipVLM  {\"path\": \"openai/clip-vit-base-patch32\", \"num_...   \n",
       "\n",
       "                  classifier_class                          classifier_params  \\\n",
       "0                FewShotClassifier                       {\"metric\": \"COSINE\"}   \n",
       "1                FewShotClassifier                          {\"metric\": \"DOT\"}   \n",
       "2    WeightedTextFewShotClassifier   {\"metric\": \"COSINE\", \"text_weight\": 4.0}   \n",
       "3    WeightedTextFewShotClassifier   {\"metric\": \"COSINE\", \"text_weight\": 1.0}   \n",
       "4    WeightedTextFewShotClassifier   {\"metric\": \"COSINE\", \"text_weight\": 0.1}   \n",
       "..                             ...                                        ...   \n",
       "123  WeightedTextFewShotClassifier   {\"metric\": \"COSINE\", \"text_weight\": 1.0}   \n",
       "124  WeightedTextFewShotClassifier   {\"metric\": \"COSINE\", \"text_weight\": 2.0}   \n",
       "125  WeightedTextFewShotClassifier   {\"metric\": \"COSINE\", \"text_weight\": 5.0}   \n",
       "126  WeightedTextFewShotClassifier  {\"metric\": \"COSINE\", \"text_weight\": 10.0}   \n",
       "127  WeightedTextFewShotClassifier  {\"metric\": \"COSINE\", \"text_weight\": 20.0}   \n",
       "\n",
       "                                  dataset_split  n_way  n_support  n_query  \\\n",
       "0    /home/datasets/kinetics_100_split/test.txt      5         10        1   \n",
       "1    /home/datasets/kinetics_100_split/test.txt      5         10        1   \n",
       "2    /home/datasets/kinetics_100_split/test.txt      5         10        1   \n",
       "3    /home/datasets/kinetics_100_split/test.txt      5          0        1   \n",
       "4    /home/datasets/kinetics_100_split/test.txt      5          1        1   \n",
       "..                                          ...    ...        ...      ...   \n",
       "123  /home/datasets/kinetics_100_split/test.txt     20         10        1   \n",
       "124  /home/datasets/kinetics_100_split/test.txt     20         10        1   \n",
       "125  /home/datasets/kinetics_100_split/test.txt     20         10        1   \n",
       "126  /home/datasets/kinetics_100_split/test.txt     20         10        1   \n",
       "127  /home/datasets/kinetics_100_split/test.txt     20         10        1   \n",
       "\n",
       "     n_episodes  accuracy  \n",
       "0          1000   0.83000  \n",
       "1          1000   0.75900  \n",
       "2          1000   0.85580  \n",
       "3          1000   0.86740  \n",
       "4          1000   0.72120  \n",
       "..          ...       ...  \n",
       "123        1000   0.67465  \n",
       "124        1000   0.68030  \n",
       "125        1000   0.70970  \n",
       "126        1000   0.71055  \n",
       "127        1000   0.71135  \n",
       "\n",
       "[128 rows x 10 columns]"
      ]
     },
     "execution_count": 11,
     "metadata": {},
     "output_type": "execute_result"
    }
   ],
   "source": [
    "test_results"
   ]
  },
  {
   "cell_type": "markdown",
   "metadata": {},
   "source": [
    "### Repeated Test"
   ]
  },
  {
   "cell_type": "code",
   "execution_count": 12,
   "metadata": {},
   "outputs": [
    {
     "data": {
      "text/html": [
       "<div>\n",
       "<style scoped>\n",
       "    .dataframe tbody tr th:only-of-type {\n",
       "        vertical-align: middle;\n",
       "    }\n",
       "\n",
       "    .dataframe tbody tr th {\n",
       "        vertical-align: top;\n",
       "    }\n",
       "\n",
       "    .dataframe thead th {\n",
       "        text-align: right;\n",
       "    }\n",
       "</style>\n",
       "<table border=\"1\" class=\"dataframe\">\n",
       "  <thead>\n",
       "    <tr style=\"text-align: right;\">\n",
       "      <th></th>\n",
       "      <th>vlm_class</th>\n",
       "      <th>vlm_params</th>\n",
       "      <th>classifier_class</th>\n",
       "      <th>classifier_params</th>\n",
       "      <th>dataset_split</th>\n",
       "      <th>n_way</th>\n",
       "      <th>n_support</th>\n",
       "      <th>n_query</th>\n",
       "      <th>n_episodes</th>\n",
       "      <th>accuracy</th>\n",
       "    </tr>\n",
       "  </thead>\n",
       "  <tbody>\n",
       "    <tr>\n",
       "      <th>205</th>\n",
       "      <td>VTTWINS_SimilarityVLM</td>\n",
       "      <td>{}</td>\n",
       "      <td>WeightedTextFewShotClassifier</td>\n",
       "      <td>{\"metric\": \"DOT\", \"text_weight\": 5.0}</td>\n",
       "      <td>/home/datasets/kinetics_100_split/test.txt</td>\n",
       "      <td>20</td>\n",
       "      <td>5</td>\n",
       "      <td>1</td>\n",
       "      <td>1000</td>\n",
       "      <td>0.54705</td>\n",
       "    </tr>\n",
       "    <tr>\n",
       "      <th>206</th>\n",
       "      <td>VTTWINS_SimilarityVLM</td>\n",
       "      <td>{}</td>\n",
       "      <td>WeightedTextFewShotClassifier</td>\n",
       "      <td>{\"metric\": \"DOT\", \"text_weight\": 10.0}</td>\n",
       "      <td>/home/datasets/kinetics_100_split/test.txt</td>\n",
       "      <td>20</td>\n",
       "      <td>5</td>\n",
       "      <td>1</td>\n",
       "      <td>1000</td>\n",
       "      <td>0.54840</td>\n",
       "    </tr>\n",
       "    <tr>\n",
       "      <th>207</th>\n",
       "      <td>VTTWINS_SimilarityVLM</td>\n",
       "      <td>{}</td>\n",
       "      <td>WeightedTextFewShotClassifier</td>\n",
       "      <td>{\"metric\": \"DOT\", \"text_weight\": 20.0}</td>\n",
       "      <td>/home/datasets/kinetics_100_split/test.txt</td>\n",
       "      <td>20</td>\n",
       "      <td>5</td>\n",
       "      <td>1</td>\n",
       "      <td>1000</td>\n",
       "      <td>0.54920</td>\n",
       "    </tr>\n",
       "    <tr>\n",
       "      <th>208</th>\n",
       "      <td>VTTWINS_SimilarityVLM</td>\n",
       "      <td>{}</td>\n",
       "      <td>WeightedTextFewShotClassifier</td>\n",
       "      <td>{\"metric\": \"DOT\", \"text_weight\": 0.1}</td>\n",
       "      <td>/home/datasets/kinetics_100_split/test.txt</td>\n",
       "      <td>20</td>\n",
       "      <td>10</td>\n",
       "      <td>1</td>\n",
       "      <td>1000</td>\n",
       "      <td>0.65050</td>\n",
       "    </tr>\n",
       "    <tr>\n",
       "      <th>209</th>\n",
       "      <td>VTTWINS_SimilarityVLM</td>\n",
       "      <td>{}</td>\n",
       "      <td>WeightedTextFewShotClassifier</td>\n",
       "      <td>{\"metric\": \"DOT\", \"text_weight\": 0.5}</td>\n",
       "      <td>/home/datasets/kinetics_100_split/test.txt</td>\n",
       "      <td>20</td>\n",
       "      <td>10</td>\n",
       "      <td>1</td>\n",
       "      <td>1000</td>\n",
       "      <td>0.58440</td>\n",
       "    </tr>\n",
       "    <tr>\n",
       "      <th>210</th>\n",
       "      <td>VTTWINS_SimilarityVLM</td>\n",
       "      <td>{}</td>\n",
       "      <td>WeightedTextFewShotClassifier</td>\n",
       "      <td>{\"metric\": \"DOT\", \"text_weight\": 1.0}</td>\n",
       "      <td>/home/datasets/kinetics_100_split/test.txt</td>\n",
       "      <td>20</td>\n",
       "      <td>10</td>\n",
       "      <td>1</td>\n",
       "      <td>1000</td>\n",
       "      <td>0.57450</td>\n",
       "    </tr>\n",
       "    <tr>\n",
       "      <th>211</th>\n",
       "      <td>VTTWINS_SimilarityVLM</td>\n",
       "      <td>{}</td>\n",
       "      <td>WeightedTextFewShotClassifier</td>\n",
       "      <td>{\"metric\": \"DOT\", \"text_weight\": 2.0}</td>\n",
       "      <td>/home/datasets/kinetics_100_split/test.txt</td>\n",
       "      <td>20</td>\n",
       "      <td>10</td>\n",
       "      <td>1</td>\n",
       "      <td>1000</td>\n",
       "      <td>0.56320</td>\n",
       "    </tr>\n",
       "    <tr>\n",
       "      <th>212</th>\n",
       "      <td>VTTWINS_SimilarityVLM</td>\n",
       "      <td>{}</td>\n",
       "      <td>WeightedTextFewShotClassifier</td>\n",
       "      <td>{\"metric\": \"DOT\", \"text_weight\": 5.0}</td>\n",
       "      <td>/home/datasets/kinetics_100_split/test.txt</td>\n",
       "      <td>20</td>\n",
       "      <td>10</td>\n",
       "      <td>1</td>\n",
       "      <td>1000</td>\n",
       "      <td>0.54890</td>\n",
       "    </tr>\n",
       "    <tr>\n",
       "      <th>213</th>\n",
       "      <td>VTTWINS_SimilarityVLM</td>\n",
       "      <td>{}</td>\n",
       "      <td>WeightedTextFewShotClassifier</td>\n",
       "      <td>{\"metric\": \"DOT\", \"text_weight\": 10.0}</td>\n",
       "      <td>/home/datasets/kinetics_100_split/test.txt</td>\n",
       "      <td>20</td>\n",
       "      <td>10</td>\n",
       "      <td>1</td>\n",
       "      <td>1000</td>\n",
       "      <td>0.54960</td>\n",
       "    </tr>\n",
       "    <tr>\n",
       "      <th>214</th>\n",
       "      <td>VTTWINS_SimilarityVLM</td>\n",
       "      <td>{}</td>\n",
       "      <td>WeightedTextFewShotClassifier</td>\n",
       "      <td>{\"metric\": \"DOT\", \"text_weight\": 20.0}</td>\n",
       "      <td>/home/datasets/kinetics_100_split/test.txt</td>\n",
       "      <td>20</td>\n",
       "      <td>10</td>\n",
       "      <td>1</td>\n",
       "      <td>1000</td>\n",
       "      <td>0.54555</td>\n",
       "    </tr>\n",
       "  </tbody>\n",
       "</table>\n",
       "</div>"
      ],
      "text/plain": [
       "                 vlm_class vlm_params               classifier_class  \\\n",
       "205  VTTWINS_SimilarityVLM         {}  WeightedTextFewShotClassifier   \n",
       "206  VTTWINS_SimilarityVLM         {}  WeightedTextFewShotClassifier   \n",
       "207  VTTWINS_SimilarityVLM         {}  WeightedTextFewShotClassifier   \n",
       "208  VTTWINS_SimilarityVLM         {}  WeightedTextFewShotClassifier   \n",
       "209  VTTWINS_SimilarityVLM         {}  WeightedTextFewShotClassifier   \n",
       "210  VTTWINS_SimilarityVLM         {}  WeightedTextFewShotClassifier   \n",
       "211  VTTWINS_SimilarityVLM         {}  WeightedTextFewShotClassifier   \n",
       "212  VTTWINS_SimilarityVLM         {}  WeightedTextFewShotClassifier   \n",
       "213  VTTWINS_SimilarityVLM         {}  WeightedTextFewShotClassifier   \n",
       "214  VTTWINS_SimilarityVLM         {}  WeightedTextFewShotClassifier   \n",
       "\n",
       "                          classifier_params  \\\n",
       "205   {\"metric\": \"DOT\", \"text_weight\": 5.0}   \n",
       "206  {\"metric\": \"DOT\", \"text_weight\": 10.0}   \n",
       "207  {\"metric\": \"DOT\", \"text_weight\": 20.0}   \n",
       "208   {\"metric\": \"DOT\", \"text_weight\": 0.1}   \n",
       "209   {\"metric\": \"DOT\", \"text_weight\": 0.5}   \n",
       "210   {\"metric\": \"DOT\", \"text_weight\": 1.0}   \n",
       "211   {\"metric\": \"DOT\", \"text_weight\": 2.0}   \n",
       "212   {\"metric\": \"DOT\", \"text_weight\": 5.0}   \n",
       "213  {\"metric\": \"DOT\", \"text_weight\": 10.0}   \n",
       "214  {\"metric\": \"DOT\", \"text_weight\": 20.0}   \n",
       "\n",
       "                                  dataset_split  n_way  n_support  n_query  \\\n",
       "205  /home/datasets/kinetics_100_split/test.txt     20          5        1   \n",
       "206  /home/datasets/kinetics_100_split/test.txt     20          5        1   \n",
       "207  /home/datasets/kinetics_100_split/test.txt     20          5        1   \n",
       "208  /home/datasets/kinetics_100_split/test.txt     20         10        1   \n",
       "209  /home/datasets/kinetics_100_split/test.txt     20         10        1   \n",
       "210  /home/datasets/kinetics_100_split/test.txt     20         10        1   \n",
       "211  /home/datasets/kinetics_100_split/test.txt     20         10        1   \n",
       "212  /home/datasets/kinetics_100_split/test.txt     20         10        1   \n",
       "213  /home/datasets/kinetics_100_split/test.txt     20         10        1   \n",
       "214  /home/datasets/kinetics_100_split/test.txt     20         10        1   \n",
       "\n",
       "     n_episodes  accuracy  \n",
       "205        1000   0.54705  \n",
       "206        1000   0.54840  \n",
       "207        1000   0.54920  \n",
       "208        1000   0.65050  \n",
       "209        1000   0.58440  \n",
       "210        1000   0.57450  \n",
       "211        1000   0.56320  \n",
       "212        1000   0.54890  \n",
       "213        1000   0.54960  \n",
       "214        1000   0.54555  "
      ]
     },
     "metadata": {},
     "output_type": "display_data"
    },
    {
     "data": {
      "application/vnd.jupyter.widget-view+json": {
       "model_id": "20794d5adf1b401290f91d7e3ddb797e",
       "version_major": 2,
       "version_minor": 0
      },
      "text/plain": [
       "  0%|          | 0/87 [00:00<?, ?it/s]"
      ]
     },
     "metadata": {},
     "output_type": "display_data"
    },
    {
     "data": {
      "application/vnd.jupyter.widget-view+json": {
       "model_id": "4aa7a928c5fa4119a9c119cc88756e71",
       "version_major": 2,
       "version_minor": 0
      },
      "text/plain": [
       "  0%|          | 0/1000 [00:00<?, ?it/s]"
      ]
     },
     "metadata": {},
     "output_type": "display_data"
    },
    {
     "data": {
      "application/vnd.jupyter.widget-view+json": {
       "model_id": "f13aac47d28049df95f71a576f7219f1",
       "version_major": 2,
       "version_minor": 0
      },
      "text/plain": [
       "  0%|          | 0/1000 [00:00<?, ?it/s]"
      ]
     },
     "metadata": {},
     "output_type": "display_data"
    },
    {
     "data": {
      "application/vnd.jupyter.widget-view+json": {
       "model_id": "559f9b24f8d04b3487d13becb5f13f2a",
       "version_major": 2,
       "version_minor": 0
      },
      "text/plain": [
       "  0%|          | 0/1000 [00:00<?, ?it/s]"
      ]
     },
     "metadata": {},
     "output_type": "display_data"
    },
    {
     "data": {
      "application/vnd.jupyter.widget-view+json": {
       "model_id": "4ac3bd487bc6483dbb1d5dc5f898f0ad",
       "version_major": 2,
       "version_minor": 0
      },
      "text/plain": [
       "  0%|          | 0/1000 [00:00<?, ?it/s]"
      ]
     },
     "metadata": {},
     "output_type": "display_data"
    },
    {
     "data": {
      "application/vnd.jupyter.widget-view+json": {
       "model_id": "b76d6508844a48eebfda5a37dc345229",
       "version_major": 2,
       "version_minor": 0
      },
      "text/plain": [
       "  0%|          | 0/1000 [00:00<?, ?it/s]"
      ]
     },
     "metadata": {},
     "output_type": "display_data"
    },
    {
     "data": {
      "application/vnd.jupyter.widget-view+json": {
       "model_id": "a5953ade56004982adac42352f7ca196",
       "version_major": 2,
       "version_minor": 0
      },
      "text/plain": [
       "  0%|          | 0/1000 [00:00<?, ?it/s]"
      ]
     },
     "metadata": {},
     "output_type": "display_data"
    },
    {
     "data": {
      "application/vnd.jupyter.widget-view+json": {
       "model_id": "eed60d29d55c497eaffa2c685571b3cf",
       "version_major": 2,
       "version_minor": 0
      },
      "text/plain": [
       "  0%|          | 0/1000 [00:00<?, ?it/s]"
      ]
     },
     "metadata": {},
     "output_type": "display_data"
    },
    {
     "data": {
      "application/vnd.jupyter.widget-view+json": {
       "model_id": "50f2f826e7fd43c6b962019820877da8",
       "version_major": 2,
       "version_minor": 0
      },
      "text/plain": [
       "  0%|          | 0/1000 [00:00<?, ?it/s]"
      ]
     },
     "metadata": {},
     "output_type": "display_data"
    },
    {
     "data": {
      "application/vnd.jupyter.widget-view+json": {
       "model_id": "d73f7bdcfeef484cbb4939a6ba11a796",
       "version_major": 2,
       "version_minor": 0
      },
      "text/plain": [
       "  0%|          | 0/1000 [00:00<?, ?it/s]"
      ]
     },
     "metadata": {},
     "output_type": "display_data"
    },
    {
     "data": {
      "application/vnd.jupyter.widget-view+json": {
       "model_id": "73127bf0823a4c0c92105b7f7e3535b9",
       "version_major": 2,
       "version_minor": 0
      },
      "text/plain": [
       "  0%|          | 0/1000 [00:00<?, ?it/s]"
      ]
     },
     "metadata": {},
     "output_type": "display_data"
    },
    {
     "data": {
      "application/vnd.jupyter.widget-view+json": {
       "model_id": "ef8c72b92ee54540b4592fedc8ccc74b",
       "version_major": 2,
       "version_minor": 0
      },
      "text/plain": [
       "  0%|          | 0/1000 [00:00<?, ?it/s]"
      ]
     },
     "metadata": {},
     "output_type": "display_data"
    },
    {
     "data": {
      "application/vnd.jupyter.widget-view+json": {
       "model_id": "3201834dfdc2448e9bba6cca30f75dc5",
       "version_major": 2,
       "version_minor": 0
      },
      "text/plain": [
       "  0%|          | 0/1000 [00:00<?, ?it/s]"
      ]
     },
     "metadata": {},
     "output_type": "display_data"
    },
    {
     "data": {
      "application/vnd.jupyter.widget-view+json": {
       "model_id": "17cf3e0a959b46f4b5ee49390d298627",
       "version_major": 2,
       "version_minor": 0
      },
      "text/plain": [
       "  0%|          | 0/1000 [00:00<?, ?it/s]"
      ]
     },
     "metadata": {},
     "output_type": "display_data"
    },
    {
     "data": {
      "application/vnd.jupyter.widget-view+json": {
       "model_id": "0710ece42bf6493b99509ba899c9031b",
       "version_major": 2,
       "version_minor": 0
      },
      "text/plain": [
       "  0%|          | 0/1000 [00:00<?, ?it/s]"
      ]
     },
     "metadata": {},
     "output_type": "display_data"
    },
    {
     "data": {
      "application/vnd.jupyter.widget-view+json": {
       "model_id": "feffc8b83637478d8dddf1cfe1085d90",
       "version_major": 2,
       "version_minor": 0
      },
      "text/plain": [
       "  0%|          | 0/1000 [00:00<?, ?it/s]"
      ]
     },
     "metadata": {},
     "output_type": "display_data"
    },
    {
     "data": {
      "application/vnd.jupyter.widget-view+json": {
       "model_id": "081af8c47b47458687f94ba214a2e6d0",
       "version_major": 2,
       "version_minor": 0
      },
      "text/plain": [
       "  0%|          | 0/1000 [00:00<?, ?it/s]"
      ]
     },
     "metadata": {},
     "output_type": "display_data"
    },
    {
     "data": {
      "application/vnd.jupyter.widget-view+json": {
       "model_id": "cd97c174aa3c4ca68fdecf3e56bf1329",
       "version_major": 2,
       "version_minor": 0
      },
      "text/plain": [
       "  0%|          | 0/1000 [00:00<?, ?it/s]"
      ]
     },
     "metadata": {},
     "output_type": "display_data"
    },
    {
     "data": {
      "application/vnd.jupyter.widget-view+json": {
       "model_id": "7b4151ee002a4f5caef5031b51456c5e",
       "version_major": 2,
       "version_minor": 0
      },
      "text/plain": [
       "  0%|          | 0/1000 [00:00<?, ?it/s]"
      ]
     },
     "metadata": {},
     "output_type": "display_data"
    },
    {
     "data": {
      "application/vnd.jupyter.widget-view+json": {
       "model_id": "26a0580376c746439ce4129043c7a993",
       "version_major": 2,
       "version_minor": 0
      },
      "text/plain": [
       "  0%|          | 0/1000 [00:00<?, ?it/s]"
      ]
     },
     "metadata": {},
     "output_type": "display_data"
    },
    {
     "data": {
      "application/vnd.jupyter.widget-view+json": {
       "model_id": "440d91a7730d49da8f5326b6607f4877",
       "version_major": 2,
       "version_minor": 0
      },
      "text/plain": [
       "  0%|          | 0/1000 [00:00<?, ?it/s]"
      ]
     },
     "metadata": {},
     "output_type": "display_data"
    },
    {
     "data": {
      "application/vnd.jupyter.widget-view+json": {
       "model_id": "623769ad787d4a638aaf9cd796c304c7",
       "version_major": 2,
       "version_minor": 0
      },
      "text/plain": [
       "  0%|          | 0/1000 [00:00<?, ?it/s]"
      ]
     },
     "metadata": {},
     "output_type": "display_data"
    },
    {
     "data": {
      "application/vnd.jupyter.widget-view+json": {
       "model_id": "b42d221570b443139b908d6d93731a39",
       "version_major": 2,
       "version_minor": 0
      },
      "text/plain": [
       "  0%|          | 0/1000 [00:00<?, ?it/s]"
      ]
     },
     "metadata": {},
     "output_type": "display_data"
    },
    {
     "data": {
      "application/vnd.jupyter.widget-view+json": {
       "model_id": "45329dc184c94ea1879fe1f92fdb7808",
       "version_major": 2,
       "version_minor": 0
      },
      "text/plain": [
       "  0%|          | 0/1000 [00:00<?, ?it/s]"
      ]
     },
     "metadata": {},
     "output_type": "display_data"
    },
    {
     "data": {
      "application/vnd.jupyter.widget-view+json": {
       "model_id": "6461a2028d234dcd9d05b4c6ad3f69f9",
       "version_major": 2,
       "version_minor": 0
      },
      "text/plain": [
       "  0%|          | 0/1000 [00:00<?, ?it/s]"
      ]
     },
     "metadata": {},
     "output_type": "display_data"
    },
    {
     "data": {
      "application/vnd.jupyter.widget-view+json": {
       "model_id": "b9eefe1ed813497db778d6235acb0269",
       "version_major": 2,
       "version_minor": 0
      },
      "text/plain": [
       "  0%|          | 0/1000 [00:00<?, ?it/s]"
      ]
     },
     "metadata": {},
     "output_type": "display_data"
    },
    {
     "data": {
      "application/vnd.jupyter.widget-view+json": {
       "model_id": "b84742bbddd04e7eaba74b33a3395e29",
       "version_major": 2,
       "version_minor": 0
      },
      "text/plain": [
       "  0%|          | 0/1000 [00:00<?, ?it/s]"
      ]
     },
     "metadata": {},
     "output_type": "display_data"
    },
    {
     "data": {
      "application/vnd.jupyter.widget-view+json": {
       "model_id": "f1eeb7b2a8e448b293c3ecd84e77f84c",
       "version_major": 2,
       "version_minor": 0
      },
      "text/plain": [
       "  0%|          | 0/1000 [00:00<?, ?it/s]"
      ]
     },
     "metadata": {},
     "output_type": "display_data"
    },
    {
     "data": {
      "application/vnd.jupyter.widget-view+json": {
       "model_id": "280469cae42841c3a0ba43293497c894",
       "version_major": 2,
       "version_minor": 0
      },
      "text/plain": [
       "  0%|          | 0/1000 [00:00<?, ?it/s]"
      ]
     },
     "metadata": {},
     "output_type": "display_data"
    },
    {
     "data": {
      "application/vnd.jupyter.widget-view+json": {
       "model_id": "c30fa5cfdd99436ca76deb6f21c5bcc1",
       "version_major": 2,
       "version_minor": 0
      },
      "text/plain": [
       "  0%|          | 0/1000 [00:00<?, ?it/s]"
      ]
     },
     "metadata": {},
     "output_type": "display_data"
    },
    {
     "data": {
      "application/vnd.jupyter.widget-view+json": {
       "model_id": "8a0dca592dee49ff9e9092a26a9fa302",
       "version_major": 2,
       "version_minor": 0
      },
      "text/plain": [
       "  0%|          | 0/1000 [00:00<?, ?it/s]"
      ]
     },
     "metadata": {},
     "output_type": "display_data"
    },
    {
     "data": {
      "application/vnd.jupyter.widget-view+json": {
       "model_id": "0cd4de8f55f546609189940f6653b8dd",
       "version_major": 2,
       "version_minor": 0
      },
      "text/plain": [
       "  0%|          | 0/1000 [00:00<?, ?it/s]"
      ]
     },
     "metadata": {},
     "output_type": "display_data"
    },
    {
     "data": {
      "application/vnd.jupyter.widget-view+json": {
       "model_id": "ec68cdd6665d4562bca58c7830480a1f",
       "version_major": 2,
       "version_minor": 0
      },
      "text/plain": [
       "  0%|          | 0/1000 [00:00<?, ?it/s]"
      ]
     },
     "metadata": {},
     "output_type": "display_data"
    },
    {
     "data": {
      "application/vnd.jupyter.widget-view+json": {
       "model_id": "3cee77f4a74f4997b302582a5d6034e5",
       "version_major": 2,
       "version_minor": 0
      },
      "text/plain": [
       "  0%|          | 0/1000 [00:00<?, ?it/s]"
      ]
     },
     "metadata": {},
     "output_type": "display_data"
    },
    {
     "data": {
      "application/vnd.jupyter.widget-view+json": {
       "model_id": "7c81695cf1c04e13807bec44a181f7fd",
       "version_major": 2,
       "version_minor": 0
      },
      "text/plain": [
       "  0%|          | 0/1000 [00:00<?, ?it/s]"
      ]
     },
     "metadata": {},
     "output_type": "display_data"
    },
    {
     "data": {
      "application/vnd.jupyter.widget-view+json": {
       "model_id": "217f43fc4fb74274aad1539e07aaad7d",
       "version_major": 2,
       "version_minor": 0
      },
      "text/plain": [
       "  0%|          | 0/1000 [00:00<?, ?it/s]"
      ]
     },
     "metadata": {},
     "output_type": "display_data"
    },
    {
     "data": {
      "application/vnd.jupyter.widget-view+json": {
       "model_id": "042257559bfe4f46a8c168b47ec79aea",
       "version_major": 2,
       "version_minor": 0
      },
      "text/plain": [
       "  0%|          | 0/1000 [00:00<?, ?it/s]"
      ]
     },
     "metadata": {},
     "output_type": "display_data"
    },
    {
     "data": {
      "application/vnd.jupyter.widget-view+json": {
       "model_id": "486eddccb4284a86986643b1dcb4a7e5",
       "version_major": 2,
       "version_minor": 0
      },
      "text/plain": [
       "  0%|          | 0/1000 [00:00<?, ?it/s]"
      ]
     },
     "metadata": {},
     "output_type": "display_data"
    },
    {
     "data": {
      "application/vnd.jupyter.widget-view+json": {
       "model_id": "3a11a1ce6452474bbf65f0021bea9624",
       "version_major": 2,
       "version_minor": 0
      },
      "text/plain": [
       "  0%|          | 0/1000 [00:00<?, ?it/s]"
      ]
     },
     "metadata": {},
     "output_type": "display_data"
    },
    {
     "data": {
      "application/vnd.jupyter.widget-view+json": {
       "model_id": "c291f7f97c5548b0b1678c3ca4efbc32",
       "version_major": 2,
       "version_minor": 0
      },
      "text/plain": [
       "  0%|          | 0/1000 [00:00<?, ?it/s]"
      ]
     },
     "metadata": {},
     "output_type": "display_data"
    },
    {
     "data": {
      "application/vnd.jupyter.widget-view+json": {
       "model_id": "068aa00ddb5f4349b3ba4c22c02de27d",
       "version_major": 2,
       "version_minor": 0
      },
      "text/plain": [
       "  0%|          | 0/1000 [00:00<?, ?it/s]"
      ]
     },
     "metadata": {},
     "output_type": "display_data"
    },
    {
     "data": {
      "application/vnd.jupyter.widget-view+json": {
       "model_id": "8fa5963363d547e09bd477b75e644cd5",
       "version_major": 2,
       "version_minor": 0
      },
      "text/plain": [
       "  0%|          | 0/1000 [00:00<?, ?it/s]"
      ]
     },
     "metadata": {},
     "output_type": "display_data"
    },
    {
     "data": {
      "application/vnd.jupyter.widget-view+json": {
       "model_id": "008777d22a3a4ceda9b159dc91526c69",
       "version_major": 2,
       "version_minor": 0
      },
      "text/plain": [
       "  0%|          | 0/1000 [00:00<?, ?it/s]"
      ]
     },
     "metadata": {},
     "output_type": "display_data"
    },
    {
     "data": {
      "application/vnd.jupyter.widget-view+json": {
       "model_id": "64f712bad02541ab8d40ad7a2d07f562",
       "version_major": 2,
       "version_minor": 0
      },
      "text/plain": [
       "  0%|          | 0/1000 [00:00<?, ?it/s]"
      ]
     },
     "metadata": {},
     "output_type": "display_data"
    },
    {
     "data": {
      "application/vnd.jupyter.widget-view+json": {
       "model_id": "d3fba3e9db154774ba7c468d523800e0",
       "version_major": 2,
       "version_minor": 0
      },
      "text/plain": [
       "  0%|          | 0/1000 [00:00<?, ?it/s]"
      ]
     },
     "metadata": {},
     "output_type": "display_data"
    },
    {
     "data": {
      "application/vnd.jupyter.widget-view+json": {
       "model_id": "7f1af943f0b84ca6b2d4b7ba643e5b65",
       "version_major": 2,
       "version_minor": 0
      },
      "text/plain": [
       "  0%|          | 0/1000 [00:00<?, ?it/s]"
      ]
     },
     "metadata": {},
     "output_type": "display_data"
    },
    {
     "data": {
      "application/vnd.jupyter.widget-view+json": {
       "model_id": "673f947f2888480ea8db3eb18d00ff6a",
       "version_major": 2,
       "version_minor": 0
      },
      "text/plain": [
       "  0%|          | 0/1000 [00:00<?, ?it/s]"
      ]
     },
     "metadata": {},
     "output_type": "display_data"
    },
    {
     "data": {
      "application/vnd.jupyter.widget-view+json": {
       "model_id": "8c15e00c2ed1473da46da45006ff13c4",
       "version_major": 2,
       "version_minor": 0
      },
      "text/plain": [
       "  0%|          | 0/1000 [00:00<?, ?it/s]"
      ]
     },
     "metadata": {},
     "output_type": "display_data"
    },
    {
     "data": {
      "application/vnd.jupyter.widget-view+json": {
       "model_id": "600d8868c3d14e469f5518ace377d376",
       "version_major": 2,
       "version_minor": 0
      },
      "text/plain": [
       "  0%|          | 0/1000 [00:00<?, ?it/s]"
      ]
     },
     "metadata": {},
     "output_type": "display_data"
    },
    {
     "data": {
      "application/vnd.jupyter.widget-view+json": {
       "model_id": "ff87e0e6af6b47d4a410bcf2b298ffa7",
       "version_major": 2,
       "version_minor": 0
      },
      "text/plain": [
       "  0%|          | 0/1000 [00:00<?, ?it/s]"
      ]
     },
     "metadata": {},
     "output_type": "display_data"
    },
    {
     "data": {
      "application/vnd.jupyter.widget-view+json": {
       "model_id": "67829f84b62843818b3ec49b16186038",
       "version_major": 2,
       "version_minor": 0
      },
      "text/plain": [
       "  0%|          | 0/1000 [00:00<?, ?it/s]"
      ]
     },
     "metadata": {},
     "output_type": "display_data"
    },
    {
     "data": {
      "application/vnd.jupyter.widget-view+json": {
       "model_id": "f9a87ddaa09e48c0a62627f0c6dbf0ca",
       "version_major": 2,
       "version_minor": 0
      },
      "text/plain": [
       "  0%|          | 0/1000 [00:00<?, ?it/s]"
      ]
     },
     "metadata": {},
     "output_type": "display_data"
    },
    {
     "data": {
      "application/vnd.jupyter.widget-view+json": {
       "model_id": "095952ef3ddf46028df1818c1c1fb28a",
       "version_major": 2,
       "version_minor": 0
      },
      "text/plain": [
       "  0%|          | 0/1000 [00:00<?, ?it/s]"
      ]
     },
     "metadata": {},
     "output_type": "display_data"
    },
    {
     "data": {
      "application/vnd.jupyter.widget-view+json": {
       "model_id": "9328e451c43a40c59bb03c1a1386ddc1",
       "version_major": 2,
       "version_minor": 0
      },
      "text/plain": [
       "  0%|          | 0/1000 [00:00<?, ?it/s]"
      ]
     },
     "metadata": {},
     "output_type": "display_data"
    },
    {
     "data": {
      "application/vnd.jupyter.widget-view+json": {
       "model_id": "0d1dcc16fbd74783a17467ccbb130831",
       "version_major": 2,
       "version_minor": 0
      },
      "text/plain": [
       "  0%|          | 0/1000 [00:00<?, ?it/s]"
      ]
     },
     "metadata": {},
     "output_type": "display_data"
    },
    {
     "data": {
      "application/vnd.jupyter.widget-view+json": {
       "model_id": "13a3370d9e3c47129ca3a3fede0836a9",
       "version_major": 2,
       "version_minor": 0
      },
      "text/plain": [
       "  0%|          | 0/1000 [00:00<?, ?it/s]"
      ]
     },
     "metadata": {},
     "output_type": "display_data"
    },
    {
     "data": {
      "application/vnd.jupyter.widget-view+json": {
       "model_id": "c8a643a2307d4bff806ef23e49840e15",
       "version_major": 2,
       "version_minor": 0
      },
      "text/plain": [
       "  0%|          | 0/1000 [00:00<?, ?it/s]"
      ]
     },
     "metadata": {},
     "output_type": "display_data"
    },
    {
     "data": {
      "application/vnd.jupyter.widget-view+json": {
       "model_id": "c91aa10724f9495da5e4fc866bf281cd",
       "version_major": 2,
       "version_minor": 0
      },
      "text/plain": [
       "  0%|          | 0/1000 [00:00<?, ?it/s]"
      ]
     },
     "metadata": {},
     "output_type": "display_data"
    },
    {
     "data": {
      "application/vnd.jupyter.widget-view+json": {
       "model_id": "cc4ee67635954691b86f1b46a77b9675",
       "version_major": 2,
       "version_minor": 0
      },
      "text/plain": [
       "  0%|          | 0/1000 [00:00<?, ?it/s]"
      ]
     },
     "metadata": {},
     "output_type": "display_data"
    },
    {
     "data": {
      "application/vnd.jupyter.widget-view+json": {
       "model_id": "f353417bc8fd49de94cf09e7fb9f1a1c",
       "version_major": 2,
       "version_minor": 0
      },
      "text/plain": [
       "  0%|          | 0/1000 [00:00<?, ?it/s]"
      ]
     },
     "metadata": {},
     "output_type": "display_data"
    },
    {
     "data": {
      "application/vnd.jupyter.widget-view+json": {
       "model_id": "6781f43ab6cd48a1ba757e0351c13f97",
       "version_major": 2,
       "version_minor": 0
      },
      "text/plain": [
       "  0%|          | 0/1000 [00:00<?, ?it/s]"
      ]
     },
     "metadata": {},
     "output_type": "display_data"
    },
    {
     "data": {
      "application/vnd.jupyter.widget-view+json": {
       "model_id": "0f92e752009847c49b4c317a5dd7d27e",
       "version_major": 2,
       "version_minor": 0
      },
      "text/plain": [
       "  0%|          | 0/1000 [00:00<?, ?it/s]"
      ]
     },
     "metadata": {},
     "output_type": "display_data"
    },
    {
     "data": {
      "application/vnd.jupyter.widget-view+json": {
       "model_id": "f291f6818a874c0fbbf8f872329aa786",
       "version_major": 2,
       "version_minor": 0
      },
      "text/plain": [
       "  0%|          | 0/1000 [00:00<?, ?it/s]"
      ]
     },
     "metadata": {},
     "output_type": "display_data"
    },
    {
     "data": {
      "application/vnd.jupyter.widget-view+json": {
       "model_id": "51312d6a73f04f4f916d6f60d484372b",
       "version_major": 2,
       "version_minor": 0
      },
      "text/plain": [
       "  0%|          | 0/1000 [00:00<?, ?it/s]"
      ]
     },
     "metadata": {},
     "output_type": "display_data"
    },
    {
     "data": {
      "application/vnd.jupyter.widget-view+json": {
       "model_id": "3f1eb5b5337f49c1bf209efb72995d7f",
       "version_major": 2,
       "version_minor": 0
      },
      "text/plain": [
       "  0%|          | 0/1000 [00:00<?, ?it/s]"
      ]
     },
     "metadata": {},
     "output_type": "display_data"
    },
    {
     "data": {
      "application/vnd.jupyter.widget-view+json": {
       "model_id": "517f43a5a316467ab816826b4636a2f4",
       "version_major": 2,
       "version_minor": 0
      },
      "text/plain": [
       "  0%|          | 0/1000 [00:00<?, ?it/s]"
      ]
     },
     "metadata": {},
     "output_type": "display_data"
    },
    {
     "data": {
      "application/vnd.jupyter.widget-view+json": {
       "model_id": "c5f45ca537174bb0a352eac3a2f1d3c7",
       "version_major": 2,
       "version_minor": 0
      },
      "text/plain": [
       "  0%|          | 0/1000 [00:00<?, ?it/s]"
      ]
     },
     "metadata": {},
     "output_type": "display_data"
    },
    {
     "data": {
      "application/vnd.jupyter.widget-view+json": {
       "model_id": "dc833c56a54d4b1ca3eb74a5e19ab03f",
       "version_major": 2,
       "version_minor": 0
      },
      "text/plain": [
       "  0%|          | 0/1000 [00:00<?, ?it/s]"
      ]
     },
     "metadata": {},
     "output_type": "display_data"
    },
    {
     "data": {
      "application/vnd.jupyter.widget-view+json": {
       "model_id": "4862b7c1a1b24a2893183bb6e762dc03",
       "version_major": 2,
       "version_minor": 0
      },
      "text/plain": [
       "  0%|          | 0/1000 [00:00<?, ?it/s]"
      ]
     },
     "metadata": {},
     "output_type": "display_data"
    },
    {
     "data": {
      "application/vnd.jupyter.widget-view+json": {
       "model_id": "b09272e2340542aa98fd7d266348518f",
       "version_major": 2,
       "version_minor": 0
      },
      "text/plain": [
       "  0%|          | 0/1000 [00:00<?, ?it/s]"
      ]
     },
     "metadata": {},
     "output_type": "display_data"
    },
    {
     "data": {
      "application/vnd.jupyter.widget-view+json": {
       "model_id": "0b7472a988df49e19b7e30b9a2f4c461",
       "version_major": 2,
       "version_minor": 0
      },
      "text/plain": [
       "  0%|          | 0/1000 [00:00<?, ?it/s]"
      ]
     },
     "metadata": {},
     "output_type": "display_data"
    },
    {
     "data": {
      "application/vnd.jupyter.widget-view+json": {
       "model_id": "c8e85a32017f465e967d50d49a8c5cc1",
       "version_major": 2,
       "version_minor": 0
      },
      "text/plain": [
       "  0%|          | 0/1000 [00:00<?, ?it/s]"
      ]
     },
     "metadata": {},
     "output_type": "display_data"
    },
    {
     "data": {
      "application/vnd.jupyter.widget-view+json": {
       "model_id": "a9aa62cdbf5547dd970ab9c326d194b7",
       "version_major": 2,
       "version_minor": 0
      },
      "text/plain": [
       "  0%|          | 0/1000 [00:00<?, ?it/s]"
      ]
     },
     "metadata": {},
     "output_type": "display_data"
    },
    {
     "data": {
      "application/vnd.jupyter.widget-view+json": {
       "model_id": "6d6c011c06394b769d09a8e9e26b444b",
       "version_major": 2,
       "version_minor": 0
      },
      "text/plain": [
       "  0%|          | 0/1000 [00:00<?, ?it/s]"
      ]
     },
     "metadata": {},
     "output_type": "display_data"
    },
    {
     "data": {
      "application/vnd.jupyter.widget-view+json": {
       "model_id": "ddfce9de9ffb4a71b7a819c2144c2045",
       "version_major": 2,
       "version_minor": 0
      },
      "text/plain": [
       "  0%|          | 0/1000 [00:00<?, ?it/s]"
      ]
     },
     "metadata": {},
     "output_type": "display_data"
    },
    {
     "data": {
      "application/vnd.jupyter.widget-view+json": {
       "model_id": "bc55b42087374c75b30369b92fb51686",
       "version_major": 2,
       "version_minor": 0
      },
      "text/plain": [
       "  0%|          | 0/1000 [00:00<?, ?it/s]"
      ]
     },
     "metadata": {},
     "output_type": "display_data"
    },
    {
     "data": {
      "application/vnd.jupyter.widget-view+json": {
       "model_id": "bab2d5ea51ed47a8b5a562b092362a1a",
       "version_major": 2,
       "version_minor": 0
      },
      "text/plain": [
       "  0%|          | 0/1000 [00:00<?, ?it/s]"
      ]
     },
     "metadata": {},
     "output_type": "display_data"
    },
    {
     "data": {
      "application/vnd.jupyter.widget-view+json": {
       "model_id": "cbc248f5d25d47fe80a0dcc566dc888e",
       "version_major": 2,
       "version_minor": 0
      },
      "text/plain": [
       "  0%|          | 0/1000 [00:00<?, ?it/s]"
      ]
     },
     "metadata": {},
     "output_type": "display_data"
    },
    {
     "data": {
      "application/vnd.jupyter.widget-view+json": {
       "model_id": "a404bdaaab084de286b88ee0400c20ae",
       "version_major": 2,
       "version_minor": 0
      },
      "text/plain": [
       "  0%|          | 0/1000 [00:00<?, ?it/s]"
      ]
     },
     "metadata": {},
     "output_type": "display_data"
    },
    {
     "data": {
      "application/vnd.jupyter.widget-view+json": {
       "model_id": "e1f444b555a948ec966d9cd8204ee6a3",
       "version_major": 2,
       "version_minor": 0
      },
      "text/plain": [
       "  0%|          | 0/1000 [00:00<?, ?it/s]"
      ]
     },
     "metadata": {},
     "output_type": "display_data"
    },
    {
     "data": {
      "application/vnd.jupyter.widget-view+json": {
       "model_id": "03708294304140c28bb6423f4aefc84f",
       "version_major": 2,
       "version_minor": 0
      },
      "text/plain": [
       "  0%|          | 0/1000 [00:00<?, ?it/s]"
      ]
     },
     "metadata": {},
     "output_type": "display_data"
    },
    {
     "data": {
      "application/vnd.jupyter.widget-view+json": {
       "model_id": "d34bbb0f36bf48639a11245f3206f529",
       "version_major": 2,
       "version_minor": 0
      },
      "text/plain": [
       "  0%|          | 0/1000 [00:00<?, ?it/s]"
      ]
     },
     "metadata": {},
     "output_type": "display_data"
    },
    {
     "data": {
      "application/vnd.jupyter.widget-view+json": {
       "model_id": "9cd5f1536cb74b7dbd48b66cb8c7abdd",
       "version_major": 2,
       "version_minor": 0
      },
      "text/plain": [
       "  0%|          | 0/1000 [00:00<?, ?it/s]"
      ]
     },
     "metadata": {},
     "output_type": "display_data"
    },
    {
     "data": {
      "application/vnd.jupyter.widget-view+json": {
       "model_id": "90694fb1d1504368b64554bd793d5d29",
       "version_major": 2,
       "version_minor": 0
      },
      "text/plain": [
       "  0%|          | 0/1000 [00:00<?, ?it/s]"
      ]
     },
     "metadata": {},
     "output_type": "display_data"
    },
    {
     "data": {
      "application/vnd.jupyter.widget-view+json": {
       "model_id": "bcd656e787374261ad6522209e5d7ff5",
       "version_major": 2,
       "version_minor": 0
      },
      "text/plain": [
       "  0%|          | 0/1000 [00:00<?, ?it/s]"
      ]
     },
     "metadata": {},
     "output_type": "display_data"
    },
    {
     "data": {
      "application/vnd.jupyter.widget-view+json": {
       "model_id": "9283658e12a04bfa8753c0ccdb6347f0",
       "version_major": 2,
       "version_minor": 0
      },
      "text/plain": [
       "  0%|          | 0/1000 [00:00<?, ?it/s]"
      ]
     },
     "metadata": {},
     "output_type": "display_data"
    },
    {
     "data": {
      "application/vnd.jupyter.widget-view+json": {
       "model_id": "a784c0a794924d7ab4d90a4fc696beb8",
       "version_major": 2,
       "version_minor": 0
      },
      "text/plain": [
       "  0%|          | 0/1000 [00:00<?, ?it/s]"
      ]
     },
     "metadata": {},
     "output_type": "display_data"
    },
    {
     "data": {
      "application/vnd.jupyter.widget-view+json": {
       "model_id": "47b3f76970894b2b930e90c592d08105",
       "version_major": 2,
       "version_minor": 0
      },
      "text/plain": [
       "  0%|          | 0/1000 [00:00<?, ?it/s]"
      ]
     },
     "metadata": {},
     "output_type": "display_data"
    }
   ],
   "source": [
    "from classifier.WeightedTextFewShotClassifier import WeightedTextFewShotClassifier\n",
    "\n",
    "N_WAY_LIST = [5, 10, 20]\n",
    "N_SUPPORT_LIST = [0, 1, 2, 5, 10]\n",
    "TEXT_WEIGHT_LIST = [0.1, 0.5, 1, 2, 5, 10, 20]\n",
    "\n",
    "# Dynamically display most recent test results\n",
    "disp = display(display_id=True)\n",
    "disp.update(test_results.tail(10))\n",
    "\n",
    "param_list = list(itertools.product(N_WAY_LIST, N_SUPPORT_LIST, TEXT_WEIGHT_LIST))\n",
    "param_list = list(filter(lambda x: not (x[1] == 0 and x[2] != 1), param_list)) # Remove repeated zero-shot tests with different text_weights\n",
    "\n",
    "for n_way, n_support, text_weight in tqdm(param_list):\n",
    "    classifier = WeightedTextFewShotClassifier(vlm, metric=None, text_weight=text_weight)\n",
    "    collect_few_shot_test_results(test_results,\n",
    "                                    classifier, DATASET_SPLIT_PATH,\n",
    "                                    n_way=n_way, n_support=n_support, n_query=N_QUERY, n_episodes=N_EPISODES)\n",
    "    test_results.to_csv(TEST_RESULTS_PATH, index=False)\n",
    "    disp.update(test_results.tail(10))"
   ]
  }
 ],
 "metadata": {
  "kernelspec": {
   "display_name": "Python 3.9.13 ('VLM_VTTWINS')",
   "language": "python",
   "name": "python3"
  },
  "language_info": {
   "codemirror_mode": {
    "name": "ipython",
    "version": 3
   },
   "file_extension": ".py",
   "mimetype": "text/x-python",
   "name": "python",
   "nbconvert_exporter": "python",
   "pygments_lexer": "ipython3",
   "version": "3.9.13"
  },
  "orig_nbformat": 4,
  "vscode": {
   "interpreter": {
    "hash": "531e74653c30fadb69f06333bfe9aca829cdb42de2b584f8d92e169bb9dc6b92"
   }
  }
 },
 "nbformat": 4,
 "nbformat_minor": 2
}
