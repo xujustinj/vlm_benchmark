{
 "cells": [
  {
   "cell_type": "code",
   "execution_count": 1,
   "metadata": {},
   "outputs": [],
   "source": [
    "import numpy as np\n",
    "import os, sys\n",
    "import importlib\n",
    "from tqdm.notebook import tqdm, trange\n",
    "import pandas as pd\n",
    "import json\n",
    "import itertools\n",
    "from IPython.display import display\n",
    "\n",
    "# Import test handler\n",
    "from FewShotTestHandler import FewShotTestHandler\n",
    "\n",
    "# Dataset Handler\n",
    "from dataset import DatasetHandler\n",
    "\n",
    "# Most common classifier\n",
    "from classifier.WeightedTextFewShotClassifier import WeightedTextFewShotClassifier"
   ]
  },
  {
   "cell_type": "markdown",
   "metadata": {},
   "source": [
    "### Load VLM\n",
    "\n",
    "Note: This notebook must be run using the corresponding conda environment"
   ]
  },
  {
   "cell_type": "code",
   "execution_count": 2,
   "metadata": {},
   "outputs": [
    {
     "name": "stderr",
     "output_type": "stream",
     "text": [
      "ftfy or spacy is not installed using BERT BasicTokenizer instead of ftfy.\n",
      "ftfy or spacy is not installed using BERT BasicTokenizer instead of ftfy.\n"
     ]
    }
   ],
   "source": [
    "if False:\n",
    "    from VTTWINS.wrapper import VTTWINS_SimilarityVLM\n",
    "    vlm = VTTWINS_SimilarityVLM(reset_cache=False)\n",
    "    \n",
    "if True:\n",
    "    from CLIP.CLIPVLM import ClipVLM\n",
    "    vlm = ClipVLM(reset_cache=False)\n",
    "    \n",
    "if False:\n",
    "    from UNIVL.wrapper import UniVL_SimilarityVLM\n",
    "    vlm = UniVL_SimilarityVLM(reset_cache=False)"
   ]
  },
  {
   "cell_type": "markdown",
   "metadata": {},
   "source": [
    "### Test Handler\n",
    "\n",
    "Runs few-shot testing and permanently saves results"
   ]
  },
  {
   "cell_type": "code",
   "execution_count": 3,
   "metadata": {},
   "outputs": [],
   "source": [
    "test_handler = FewShotTestHandler()"
   ]
  },
  {
   "cell_type": "markdown",
   "metadata": {},
   "source": [
    "### Run Repeated Tests"
   ]
  },
  {
   "cell_type": "code",
   "execution_count": 4,
   "metadata": {},
   "outputs": [
    {
     "name": "stdout",
     "output_type": "stream",
     "text": [
      "momaapi.lookup._read_anns() took 1.101231336593628 sec\n",
      "momaapi.statistics._read_statistics() took 0.0006158351898193359 sec\n",
      "Dataset:\tmoma_act.val\n",
      "Categories:\t20\n",
      "Videos:\t\t226\n"
     ]
    }
   ],
   "source": [
    "DATASET = DatasetHandler(\"moma_act\", split=\"val\")\n",
    "print(f\"Dataset:\\t{DATASET.id()}\")\n",
    "print(f\"Categories:\\t{DATASET.category_count()}\")\n",
    "print(f\"Videos:\\t\\t{DATASET.video_count()}\")"
   ]
  },
  {
   "cell_type": "code",
   "execution_count": 5,
   "metadata": {},
   "outputs": [],
   "source": [
    "N_WAY_LIST = [5, 10]\n",
    "N_SUPPORT_LIST = [0, 1, 2, 5, 10]\n",
    "TEXT_WEIGHT_LIST = [0.1, 0.5, 1, 2, 5, 10, 20]\n",
    "N_QUERY = 1\n",
    "N_EPISODES = 1000"
   ]
  },
  {
   "cell_type": "code",
   "execution_count": 6,
   "metadata": {},
   "outputs": [
    {
     "data": {
      "application/vnd.jupyter.widget-view+json": {
       "model_id": "033fc2e33e84465e929f410fcd356aa1",
       "version_major": 2,
       "version_minor": 0
      },
      "text/plain": [
       "  0%|          | 0/226 [00:00<?, ?it/s]"
      ]
     },
     "metadata": {},
     "output_type": "display_data"
    }
   ],
   "source": [
    "# Fill VLM Cache for chosen dataset\n",
    "test_handler.fill_cache(vlm, DATASET)"
   ]
  },
  {
   "cell_type": "code",
   "execution_count": 7,
   "metadata": {},
   "outputs": [
    {
     "data": {
      "text/html": [
       "<div>\n",
       "<style scoped>\n",
       "    .dataframe tbody tr th:only-of-type {\n",
       "        vertical-align: middle;\n",
       "    }\n",
       "\n",
       "    .dataframe tbody tr th {\n",
       "        vertical-align: top;\n",
       "    }\n",
       "\n",
       "    .dataframe thead th {\n",
       "        text-align: right;\n",
       "    }\n",
       "</style>\n",
       "<table border=\"1\" class=\"dataframe\">\n",
       "  <thead>\n",
       "    <tr style=\"text-align: right;\">\n",
       "      <th></th>\n",
       "      <th>vlm_class</th>\n",
       "      <th>vlm.num_frames</th>\n",
       "      <th>vlm.path</th>\n",
       "      <th>vlm.sample_strat</th>\n",
       "      <th>classifier_class</th>\n",
       "      <th>classifier.metric</th>\n",
       "      <th>classifier.text_weight</th>\n",
       "      <th>dataset</th>\n",
       "      <th>n_way</th>\n",
       "      <th>n_support</th>\n",
       "      <th>n_query</th>\n",
       "      <th>n_episodes</th>\n",
       "      <th>accuracy</th>\n",
       "    </tr>\n",
       "  </thead>\n",
       "  <tbody>\n",
       "    <tr>\n",
       "      <th>392</th>\n",
       "      <td>ClipVLM</td>\n",
       "      <td>1.0</td>\n",
       "      <td>openai/clip-vit-base-patch32</td>\n",
       "      <td>uniform</td>\n",
       "      <td>WeightedTextFewShotClassifier</td>\n",
       "      <td>COSINE</td>\n",
       "      <td>0.1</td>\n",
       "      <td>moma_act.val</td>\n",
       "      <td>5</td>\n",
       "      <td>1</td>\n",
       "      <td>1</td>\n",
       "      <td>1000</td>\n",
       "      <td>0.6602</td>\n",
       "    </tr>\n",
       "    <tr>\n",
       "      <th>393</th>\n",
       "      <td>ClipVLM</td>\n",
       "      <td>1.0</td>\n",
       "      <td>openai/clip-vit-base-patch32</td>\n",
       "      <td>uniform</td>\n",
       "      <td>WeightedTextFewShotClassifier</td>\n",
       "      <td>COSINE</td>\n",
       "      <td>0.5</td>\n",
       "      <td>moma_act.val</td>\n",
       "      <td>5</td>\n",
       "      <td>1</td>\n",
       "      <td>1</td>\n",
       "      <td>1000</td>\n",
       "      <td>0.6886</td>\n",
       "    </tr>\n",
       "    <tr>\n",
       "      <th>394</th>\n",
       "      <td>ClipVLM</td>\n",
       "      <td>1.0</td>\n",
       "      <td>openai/clip-vit-base-patch32</td>\n",
       "      <td>uniform</td>\n",
       "      <td>WeightedTextFewShotClassifier</td>\n",
       "      <td>COSINE</td>\n",
       "      <td>1.0</td>\n",
       "      <td>moma_act.val</td>\n",
       "      <td>5</td>\n",
       "      <td>1</td>\n",
       "      <td>1</td>\n",
       "      <td>1000</td>\n",
       "      <td>0.7134</td>\n",
       "    </tr>\n",
       "    <tr>\n",
       "      <th>395</th>\n",
       "      <td>ClipVLM</td>\n",
       "      <td>1.0</td>\n",
       "      <td>openai/clip-vit-base-patch32</td>\n",
       "      <td>uniform</td>\n",
       "      <td>WeightedTextFewShotClassifier</td>\n",
       "      <td>COSINE</td>\n",
       "      <td>2.0</td>\n",
       "      <td>moma_act.val</td>\n",
       "      <td>5</td>\n",
       "      <td>1</td>\n",
       "      <td>1</td>\n",
       "      <td>1000</td>\n",
       "      <td>0.7424</td>\n",
       "    </tr>\n",
       "    <tr>\n",
       "      <th>396</th>\n",
       "      <td>ClipVLM</td>\n",
       "      <td>1.0</td>\n",
       "      <td>openai/clip-vit-base-patch32</td>\n",
       "      <td>uniform</td>\n",
       "      <td>WeightedTextFewShotClassifier</td>\n",
       "      <td>COSINE</td>\n",
       "      <td>5.0</td>\n",
       "      <td>moma_act.val</td>\n",
       "      <td>5</td>\n",
       "      <td>1</td>\n",
       "      <td>1</td>\n",
       "      <td>1000</td>\n",
       "      <td>0.7684</td>\n",
       "    </tr>\n",
       "  </tbody>\n",
       "</table>\n",
       "</div>"
      ],
      "text/plain": [
       "    vlm_class  vlm.num_frames                      vlm.path vlm.sample_strat  \\\n",
       "392   ClipVLM             1.0  openai/clip-vit-base-patch32          uniform   \n",
       "393   ClipVLM             1.0  openai/clip-vit-base-patch32          uniform   \n",
       "394   ClipVLM             1.0  openai/clip-vit-base-patch32          uniform   \n",
       "395   ClipVLM             1.0  openai/clip-vit-base-patch32          uniform   \n",
       "396   ClipVLM             1.0  openai/clip-vit-base-patch32          uniform   \n",
       "\n",
       "                  classifier_class classifier.metric  classifier.text_weight  \\\n",
       "392  WeightedTextFewShotClassifier            COSINE                     0.1   \n",
       "393  WeightedTextFewShotClassifier            COSINE                     0.5   \n",
       "394  WeightedTextFewShotClassifier            COSINE                     1.0   \n",
       "395  WeightedTextFewShotClassifier            COSINE                     2.0   \n",
       "396  WeightedTextFewShotClassifier            COSINE                     5.0   \n",
       "\n",
       "          dataset  n_way  n_support  n_query  n_episodes  accuracy  \n",
       "392  moma_act.val      5          1        1        1000    0.6602  \n",
       "393  moma_act.val      5          1        1        1000    0.6886  \n",
       "394  moma_act.val      5          1        1        1000    0.7134  \n",
       "395  moma_act.val      5          1        1        1000    0.7424  \n",
       "396  moma_act.val      5          1        1        1000    0.7684  "
      ]
     },
     "metadata": {},
     "output_type": "display_data"
    },
    {
     "data": {
      "application/vnd.jupyter.widget-view+json": {
       "model_id": "8b2569bc9ba3431691a3df19f36b2183",
       "version_major": 2,
       "version_minor": 0
      },
      "text/plain": [
       "  0%|          | 0/58 [00:00<?, ?it/s]"
      ]
     },
     "metadata": {},
     "output_type": "display_data"
    },
    {
     "data": {
      "application/vnd.jupyter.widget-view+json": {
       "model_id": "43eedc5954974ec89a2e688f82f139eb",
       "version_major": 2,
       "version_minor": 0
      },
      "text/plain": [
       "  0%|          | 0/1000 [00:00<?, ?it/s]"
      ]
     },
     "metadata": {},
     "output_type": "display_data"
    },
    {
     "data": {
      "application/vnd.jupyter.widget-view+json": {
       "model_id": "0d146ecf15b144bf860c9b173443ac1b",
       "version_major": 2,
       "version_minor": 0
      },
      "text/plain": [
       "  0%|          | 0/1000 [00:00<?, ?it/s]"
      ]
     },
     "metadata": {},
     "output_type": "display_data"
    }
   ],
   "source": [
    "# Dynamically display most recent test results\n",
    "disp = display(display_id=True)\n",
    "disp.update(test_handler.results.tail(5))\n",
    "\n",
    "param_list = list(itertools.product(N_WAY_LIST, N_SUPPORT_LIST, TEXT_WEIGHT_LIST))\n",
    "param_list = list(filter(lambda x: not (x[1] == 0 and x[2] != 1), param_list)) # Remove repeated zero-shot tests with different text_weights\n",
    "\n",
    "for n_way, n_support, text_weight in tqdm(param_list):\n",
    "    classifier = WeightedTextFewShotClassifier(vlm, metric=None, text_weight=text_weight)\n",
    "    \n",
    "    test_handler.run_few_shot_test(classifier, DATASET,\n",
    "                                   n_way=n_way, n_support=n_support, n_query=N_QUERY, n_episodes=N_EPISODES)\n",
    "    disp.update(test_handler.results.tail(5))"
   ]
  },
  {
   "cell_type": "code",
   "execution_count": null,
   "metadata": {},
   "outputs": [],
   "source": []
  }
 ],
 "metadata": {
  "kernelspec": {
   "display_name": "Python 3.9.12 ('VLM_CLIP')",
   "language": "python",
   "name": "python3"
  },
  "language_info": {
   "codemirror_mode": {
    "name": "ipython",
    "version": 3
   },
   "file_extension": ".py",
   "mimetype": "text/x-python",
   "name": "python",
   "nbconvert_exporter": "python",
   "pygments_lexer": "ipython3",
   "version": "3.9.12"
  },
  "orig_nbformat": 4,
  "vscode": {
   "interpreter": {
    "hash": "1cbb6134549cef05a22a5d2598d5d4563ecf4a78ae5860ae5dc90e185bb69e19"
   }
  }
 },
 "nbformat": 4,
 "nbformat_minor": 2
}
