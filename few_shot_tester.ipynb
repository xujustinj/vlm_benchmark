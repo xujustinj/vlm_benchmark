{
 "cells": [
  {
   "cell_type": "code",
   "execution_count": 1,
   "metadata": {},
   "outputs": [],
   "source": [
    "import numpy as np\n",
    "import os, sys\n",
    "import importlib\n",
    "from tqdm.notebook import tqdm, trange\n",
    "\n",
    "import torch\n",
    "DEVICE = \"cuda\" if torch.cuda.is_available() else \"cpu\"\n",
    "\n",
    "from SimilarityVLM import SimilarityVLM\n",
    "from dataset.dataset import FewShotTaskDataset\n",
    "from FewShotClassifier import FewShotClassifier"
   ]
  },
  {
   "cell_type": "markdown",
   "metadata": {},
   "source": [
    "### Choose VLM to Test\n",
    "\n",
    "Note, this notebook must be run using the corresponding conda environment"
   ]
  },
  {
   "cell_type": "code",
   "execution_count": 2,
   "metadata": {},
   "outputs": [],
   "source": [
    "VLM = importlib.import_module(\"VT-TWINS.wrapper\").VTTWINS_SimilarityVLM"
   ]
  },
  {
   "cell_type": "markdown",
   "metadata": {},
   "source": [
    "### Choose Dataset to Test"
   ]
  },
  {
   "cell_type": "code",
   "execution_count": 3,
   "metadata": {},
   "outputs": [],
   "source": [
    "DATASET_SPLIT_PATH = \"D:/datasets/PAC/few_shot_act_reg/kinetics_100_split/test.txt\""
   ]
  },
  {
   "cell_type": "markdown",
   "metadata": {},
   "source": [
    "### Testing Function"
   ]
  },
  {
   "cell_type": "code",
   "execution_count": 4,
   "metadata": {},
   "outputs": [],
   "source": [
    "def few_shot_accuracy(classifier: FewShotClassifier, dataset_split_path: str, n_way: int, n_support: int, n_query: int = 1, n_episodes: int = 1000) -> float:\n",
    "    \n",
    "    # Load dataset to generate tasks with the desired params\n",
    "    dataset = FewShotTaskDataset(dataset_split_path, n_episodes, n_way, n_support, n_query)\n",
    "    \n",
    "    correct_predictions = 0\n",
    "    total_queries = 0\n",
    "    for vid_paths, category_names in tqdm(dataset):\n",
    "        \n",
    "        query_vid_paths = vid_paths[:, n_support:]\n",
    "        if n_support > 0:\n",
    "            support_vid_paths = vid_paths[:, :n_support]\n",
    "        else:\n",
    "            support_vid_paths = None\n",
    "            \n",
    "        query_predictions = classifier.predict(category_names, support_vid_paths, query_vid_paths)\n",
    "        \n",
    "        correct_predictions += np.sum(query_predictions == np.arange(n_way)[:, None])\n",
    "        total_queries += n_way * n_query\n",
    "        \n",
    "    return correct_predictions / total_queries"
   ]
  },
  {
   "cell_type": "markdown",
   "metadata": {},
   "source": [
    "### Run the Test"
   ]
  },
  {
   "cell_type": "code",
   "execution_count": 5,
   "metadata": {},
   "outputs": [],
   "source": [
    "vlm = VLM()\n",
    "classifier = FewShotClassifier(vlm, metric=None)"
   ]
  },
  {
   "cell_type": "code",
   "execution_count": 6,
   "metadata": {},
   "outputs": [
    {
     "data": {
      "application/vnd.jupyter.widget-view+json": {
       "model_id": "13e0f52e8ed04a30af13af19ef30b5ed",
       "version_major": 2,
       "version_minor": 0
      },
      "text/plain": [
       "  0%|          | 0/20 [00:00<?, ?it/s]"
      ]
     },
     "metadata": {},
     "output_type": "display_data"
    },
    {
     "name": "stderr",
     "output_type": "stream",
     "text": [
      "d:\\OneDrive\\code\\Stanford\\PAC\\vlm_benchmark\\VT-TWINS\\VT-TWINS\\loader\\msrvtt_loader.py:88: UserWarning: The given NumPy array is not writable, and PyTorch does not support non-writable tensors. This means writing to this tensor will result in undefined behavior. You may want to copy the array to protect its data or make it writable before converting it to a tensor. This type of warning will be suppressed for the rest of this program. (Triggered internally at  C:\\cb\\pytorch_1000000000000\\work\\torch\\csrc\\utils\\tensor_numpy.cpp:178.)\n",
      "  video = th.from_numpy(video)\n"
     ]
    }
   ],
   "source": [
    "few_shot_accuracy(classifier, DATASET_SPLIT_PATH, 5, 5, 2, 20)"
   ]
  },
  {
   "cell_type": "code",
   "execution_count": null,
   "metadata": {},
   "outputs": [],
   "source": []
  }
 ],
 "metadata": {
  "kernelspec": {
   "display_name": "Python 3.9.12 ('VLM_VTTWINS')",
   "language": "python",
   "name": "python3"
  },
  "language_info": {
   "codemirror_mode": {
    "name": "ipython",
    "version": 3
   },
   "file_extension": ".py",
   "mimetype": "text/x-python",
   "name": "python",
   "nbconvert_exporter": "python",
   "pygments_lexer": "ipython3",
   "version": "3.9.12"
  },
  "orig_nbformat": 4,
  "vscode": {
   "interpreter": {
    "hash": "ce333791ad73b32a57895fa799818f026d1fc386ee02d76869b294f2fe4689a9"
   }
  }
 },
 "nbformat": 4,
 "nbformat_minor": 2
}
