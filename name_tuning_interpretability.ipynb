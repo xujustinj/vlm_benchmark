{
 "cells": [
  {
   "cell_type": "code",
   "execution_count": 43,
   "metadata": {},
   "outputs": [
    {
     "name": "stdout",
     "output_type": "stream",
     "text": [
      "The autoreload extension is already loaded. To reload it, use:\n",
      "  %reload_ext autoreload\n"
     ]
    }
   ],
   "source": [
    "import numpy as np\n",
    "import torch\n",
    "import torch.nn.functional as F\n",
    "import matplotlib.pyplot as plt\n",
    "import matplotlib.lines as mlines\n",
    "\n",
    "%load_ext autoreload\n",
    "%autoreload 2"
   ]
  },
  {
   "cell_type": "code",
   "execution_count": 122,
   "metadata": {},
   "outputs": [
    {
     "name": "stderr",
     "output_type": "stream",
     "text": [
      "Some weights of the model checkpoint at distilbert-base-uncased were not used when initializing DistilBertModel: ['vocab_transform.bias', 'vocab_projector.bias', 'vocab_projector.weight', 'vocab_transform.weight', 'vocab_layer_norm.weight', 'vocab_layer_norm.bias']\n",
      "- This IS expected if you are initializing DistilBertModel from the checkpoint of a model trained on another task or with another architecture (e.g. initializing a BertForSequenceClassification model from a BertForPreTraining model).\n",
      "- This IS NOT expected if you are initializing DistilBertModel from the checkpoint of a model that you expect to be exactly identical (initializing a BertForSequenceClassification model from a BertForSequenceClassification model).\n"
     ]
    },
    {
     "name": "stdout",
     "output_type": "stream",
     "text": [
      "######USING ATTENTION STYLE:  frozen-in-time\n"
     ]
    }
   ],
   "source": [
    "vlm = \"miles\"\n",
    "\n",
    "if vlm == \"clip\":\n",
    "    from CLIP.CLIPVLM import ClipVLM as VLM\n",
    "    vlm = VLM(num_frames=10)\n",
    "elif vlm == \"miles\":\n",
    "    from MILES.wrapper import MILES_SimilarityVLM as VLM\n",
    "    vlm = VLM()"
   ]
  },
  {
   "cell_type": "code",
   "execution_count": 230,
   "metadata": {},
   "outputs": [
    {
     "name": "stdout",
     "output_type": "stream",
     "text": [
      "dataset.moma.momaapi.lookup._read_anns() took 8.403647184371948 sec\n",
      "dataset.moma.momaapi.statistics._read_statistics() took 0.022177696228027344 sec\n",
      "dataset.moma.momaapi.lookup._read_anns() took 1.121511697769165 sec\n",
      "dataset.moma.momaapi.statistics._read_statistics() took 0.0010061264038085938 sec\n",
      "dataset.moma.momaapi.lookup._read_anns() took 1.1289994716644287 sec\n",
      "dataset.moma.momaapi.statistics._read_statistics() took 0.0009944438934326172 sec\n",
      "dataset.moma.momaapi.lookup._read_anns() took 1.115957260131836 sec\n",
      "dataset.moma.momaapi.statistics._read_statistics() took 0.0 sec\n",
      "dataset.moma.momaapi.lookup._read_anns() took 1.1237092018127441 sec\n",
      "dataset.moma.momaapi.statistics._read_statistics() took 0.0 sec\n"
     ]
    }
   ],
   "source": [
    "from dataset import DatasetHandler\n",
    "dataset = \"moma_sact\"\n",
    "train_data = DatasetHandler(dataset, split=\"train\")\n",
    "val_data = DatasetHandler(dataset, split=\"val\")\n",
    "test_data = DatasetHandler(dataset, split=\"test\")"
   ]
  },
  {
   "cell_type": "code",
   "execution_count": 231,
   "metadata": {},
   "outputs": [
    {
     "name": "stdout",
     "output_type": "stream",
     "text": [
      "one person is on their knees while proposing\n",
      "one person is putting a ring on their partner\n",
      "players are trying to catch a frisbee\n",
      "the adult is chasing after the child on the bike\n",
      "the adult is comforting the child\n",
      "the adult is explaining to the child how to ride a bike\n",
      "the adult is feeding the child\n",
      "the adult is holding the child on the bike\n",
      "the adult is playing with the child\n",
      "the adult is pushing the stroller\n",
      "the adult is wrapping the child or changing the child's diaper or clothes\n",
      "the audience and host are cheering the award recipient on stage\n",
      "the award winner is delivering a speech on stage\n",
      "the barber is applying shampoo\n",
      "the barber is combing hair\n",
      "the barber is cutting hair with a razor\n",
      "the barber is cutting hair with scissors\n",
      "the barber is drying hair\n",
      "the barber is massaging the customer's face or applying products\n",
      "the barber is shaving a beard with a razor\n",
      "the barber is shaving a beard with scissors\n",
      "the barber is washing the customer's hair\n",
      "the basketball player is dribbling or shooting a basket\n",
      "the basketball player is shooting a free throw\n",
      "the basketball players are in a timeout\n",
      "the caregiver is helping the patient out of the bed or chair\n",
      "the caregiver is helping the patient walk down the stairs\n",
      "the child falls off the bike\n",
      "the customers are raising their glasses\n",
      "the driver is being asked to look in a specific direction\n",
      "the driver is receiving food and drink\n",
      "the driver is speaking with the police officer\n",
      "the firefighters are doing other work\n",
      "the firefighters are exiting the firetruck towards the scene\n",
      "the firefighters are extinguishing fire\n",
      "the firefighters are talking\n",
      "the goalkeeper is saving a shot\n",
      "the guests are walking to the front desk\n",
      "the health worker is injecting the patient with the syringe\n",
      "the health worker is stopping the patient's bleeding\n",
      "the health worker is using an alcohol swab on the patient's skin before the injection\n",
      "the host is giving the award winner an award\n",
      "the host is introducing the award winner\n",
      "the massage therapist is applying nail polish to the customer's nails\n",
      "the massage therapist is cleaning the customer's nails\n",
      "the massage therapist is filing the customer's nails\n",
      "the massage therapist is massaging or applying oils or creams to the customer's hands or feet\n",
      "the passengers are walking through the security gate\n",
      "the patient is walking with physical therapy parallel bars\n",
      "the person is being asked to blow into an alcohol tester\n",
      "the person is being asked to walk straight by the police\n",
      "the player is throwing a frisbee\n",
      "the players are passing the basketball\n",
      "the players are passing the soccer ball\n",
      "the receptionist is exchanging items with the guests\n",
      "the receptionist is talking to guests\n",
      "the repairmen are fixing the car's tires\n",
      "the repairmen are leaving while the car is departing\n",
      "the repairmen are watching the car driving towards the repair station\n",
      "the security officer is inspecting a bag\n",
      "the security officer is inspecting a passenger\n",
      "the soccer player is dribbling towards the goal\n",
      "the soccer players are celebrating\n",
      "the student is playing the piano while the teacher watches\n",
      "the table tennis player is hitting the ball into the net which ends the point\n",
      "the table tennis player is serving the ball\n",
      "the table tennis players are not playing the game right now\n",
      "the table tennis players are rallying with each other\n",
      "the teacher and student are playing the piano together\n",
      "the teacher is playing the piano\n",
      "the teacher is verbally instructing the student\n",
      "the tennis table player is failing to return the ball\n",
      "the waiter is cleaning the table\n",
      "the waiter is is talking to the customer or helping them into their seat\n",
      "the waiter is placing utensils on the table\n",
      "the waiters are placing food on the table\n",
      "the waiters are pouring or presenting drinks for the customers\n",
      "two people are hugging\n",
      "two people are kissing\n",
      "two people are talking\n"
     ]
    }
   ],
   "source": [
    "print(\"\\n\".join(train_data.data_dict.keys()))"
   ]
  },
  {
   "cell_type": "code",
   "execution_count": 284,
   "metadata": {},
   "outputs": [],
   "source": [
    "# Filter classes\n",
    "CLASS_SETS = {\n",
    "    \"moma_sact\": [\n",
    "        [\n",
    "            \"the barber is combing hair\",\n",
    "            \"the barber is cutting hair with a razor\",\n",
    "            \"the barber is cutting hair with scissors\",\n",
    "            \"the barber is drying hair\",\n",
    "            \"the barber is washing the customer's hair\"\n",
    "        ],\n",
    "        [\n",
    "            \"two people are hugging\",\n",
    "            \"two people are kissing\",\n",
    "            \"two people are talking\"\n",
    "        ],\n",
    "        [\n",
    "            \"the security officer is inspecting a bag\",\n",
    "            \"the security officer is inspecting a passenger\"\n",
    "        ],\n",
    "        [\n",
    "            \"the firefighters are doing other work\",\n",
    "            \"the firefighters are exiting the firetruck towards the scene\",\n",
    "            \"the firefighters are extinguishing fire\",\n",
    "            \"the firefighters are talking\"\n",
    "        ],\n",
    "        list(val_data.data_dict.keys())\n",
    "    ],\n",
    "    \"smsm\": [\n",
    "        [\n",
    "            \"putting something into something\",\n",
    "            \"dropping something into something\"\n",
    "        ]\n",
    "    ],\n",
    "    \"kinetics_100\": [\n",
    "        [\n",
    "            \"dancing ballet\",\n",
    "            \"dancing charleston\",\n",
    "            \"dancing macarena\"\n",
    "        ]\n",
    "    ]\n",
    "}\n",
    "ALLOWED_CLASSES = CLASS_SETS[dataset][-1]"
   ]
  },
  {
   "cell_type": "code",
   "execution_count": 285,
   "metadata": {},
   "outputs": [],
   "source": [
    "n_way = len(ALLOWED_CLASSES)\n",
    "n_support = 5\n",
    "\n",
    "class_names = np.array(ALLOWED_CLASSES)\n",
    "support_videos = np.vstack([\n",
    "    np.random.choice(train_data.data_dict[name], size=n_support, replace=False)\n",
    "    for name in ALLOWED_CLASSES\n",
    "])\n",
    "query_videos = np.array([\n",
    "    np.random.choice(test_data.data_dict[name])\n",
    "    for name in ALLOWED_CLASSES\n",
    "])\n",
    "\n",
    "use_val_tuning = False\n",
    "if use_val_tuning:\n",
    "    val_videos = np.concatenate([\n",
    "        val_data.data_dict[name]\n",
    "        for name in ALLOWED_CLASSES\n",
    "    ])\n",
    "    val_labels = np.concatenate([\n",
    "        [i] * len(val_data.data_dict[name])\n",
    "        for i, name in enumerate(ALLOWED_CLASSES)\n",
    "    ])\n",
    "else:\n",
    "    val_videos = None\n",
    "    val_labels = None"
   ]
  },
  {
   "cell_type": "code",
   "execution_count": 286,
   "metadata": {},
   "outputs": [],
   "source": [
    "classifiers = {}\n",
    "\n",
    "from classifier.name_tuning import NameTuningFewShotClassifier\n",
    "classifiers[\"clip\"] = NameTuningFewShotClassifier(vlm) # Any of these classifiers can do zero-shot classification\n",
    "classifiers[\"na\"] = NameTuningFewShotClassifier(\n",
    "    vlm,\n",
    "    #prompt_ensemble_id=\"simple_photo\",\n",
    "    lr=5e-3,\n",
    "    name_regularization=0.01,\n",
    "    epochs=20,\n",
    "    batch_size=8\n",
    ")\n",
    "from classifier.coop import CoopFewShotClassifier\n",
    "classifiers[\"coop\"] = CoopFewShotClassifier(\n",
    "    vlm,\n",
    "    lr=5e-3,\n",
    "    epochs=20,\n",
    "    batch_size=8\n",
    ")\n",
    "if False:\n",
    "    from classifier.cona import CoNaFewShotClassifier\n",
    "    classifiers[\"cona\"] = CoNaFewShotClassifier(\n",
    "        vlm,\n",
    "        lr=1e-3,\n",
    "        name_regularization=1,\n",
    "        epochs=20,\n",
    "        batch_size=8\n",
    "    )"
   ]
  },
  {
   "cell_type": "code",
   "execution_count": 287,
   "metadata": {},
   "outputs": [
    {
     "name": "stdout",
     "output_type": "stream",
     "text": [
      "------ clip ------\n",
      "------ na ------\n"
     ]
    },
    {
     "name": "stderr",
     "output_type": "stream",
     "text": [
      "d:\\ProgramData\\Anaconda3\\envs\\vlm_env\\lib\\site-packages\\torch\\optim\\lr_scheduler.py:163: UserWarning: The epoch parameter in `scheduler.step()` was not necessary and is being deprecated where possible. Please use `scheduler.step()` to step the scheduler. During the deprecation, if epoch is different from None, the closed form is used instead of the new chainable form, where available. Please open an issue if you are unable to replicate your use case: https://github.com/pytorch/pytorch/issues/new/choose.\n",
      "  warnings.warn(EPOCH_DEPRECATION_WARNING, UserWarning)\n"
     ]
    },
    {
     "name": "stdout",
     "output_type": "stream",
     "text": [
      "Epoch     0: Support Acc = 0.315, Loss = 2.380E+00, Reg Loss = 1.641E-09, Combined Loss = 2.380E+00\n",
      "Epoch     1: Support Acc = 0.332, Loss = 2.174E+00, Reg Loss = 2.935E-04, Combined Loss = 2.174E+00\n",
      "Epoch     2: Support Acc = 0.387, Loss = 1.826E+00, Reg Loss = 1.166E-03, Combined Loss = 1.828E+00\n",
      "Epoch     3: Support Acc = 0.405, Loss = 1.733E+00, Reg Loss = 2.008E-03, Combined Loss = 1.735E+00\n",
      "Epoch     4: Support Acc = 0.442, Loss = 1.583E+00, Reg Loss = 2.940E-03, Combined Loss = 1.586E+00\n",
      "Epoch     5: Support Acc = 0.460, Loss = 1.516E+00, Reg Loss = 3.903E-03, Combined Loss = 1.520E+00\n",
      "Epoch     6: Support Acc = 0.502, Loss = 1.419E+00, Reg Loss = 4.761E-03, Combined Loss = 1.424E+00\n",
      "Epoch     7: Support Acc = 0.492, Loss = 1.403E+00, Reg Loss = 5.581E-03, Combined Loss = 1.409E+00\n",
      "Epoch     8: Support Acc = 0.548, Loss = 1.312E+00, Reg Loss = 6.363E-03, Combined Loss = 1.318E+00\n",
      "Epoch     9: Support Acc = 0.553, Loss = 1.304E+00, Reg Loss = 6.982E-03, Combined Loss = 1.311E+00\n",
      "Epoch    10: Support Acc = 0.548, Loss = 1.309E+00, Reg Loss = 7.580E-03, Combined Loss = 1.317E+00\n",
      "Epoch    11: Support Acc = 0.577, Loss = 1.261E+00, Reg Loss = 8.063E-03, Combined Loss = 1.269E+00\n",
      "Epoch    12: Support Acc = 0.567, Loss = 1.227E+00, Reg Loss = 8.452E-03, Combined Loss = 1.236E+00\n",
      "Epoch    13: Support Acc = 0.575, Loss = 1.219E+00, Reg Loss = 8.750E-03, Combined Loss = 1.228E+00\n"
     ]
    },
    {
     "ename": "KeyboardInterrupt",
     "evalue": "",
     "output_type": "error",
     "traceback": [
      "\u001b[1;31m---------------------------------------------------------------------------\u001b[0m",
      "\u001b[1;31mKeyboardInterrupt\u001b[0m                         Traceback (most recent call last)",
      "Cell \u001b[1;32mIn[287], line 6\u001b[0m\n\u001b[0;32m      4\u001b[0m     classifier\u001b[39m.\u001b[39mpredict(class_names, \u001b[39mNone\u001b[39;00m, query_videos, val_videos, val_labels) \u001b[39m# zero-shot classifier (i.e. default CLIP)\u001b[39;00m\n\u001b[0;32m      5\u001b[0m \u001b[39melse\u001b[39;00m:\n\u001b[1;32m----> 6\u001b[0m     classifier\u001b[39m.\u001b[39;49mpredict(class_names, support_videos, query_videos, val_videos, val_labels)\n",
      "File \u001b[1;32md:\\non_onedrive_code\\vlm_benchmark\\classifier\\name_tuning.py:192\u001b[0m, in \u001b[0;36mNameTuningFewShotClassifier.predict\u001b[1;34m(self, category_names, support_video_paths, query_video_paths, val_tuning_video_paths, val_tuning_video_labels)\u001b[0m\n\u001b[0;32m    190\u001b[0m \u001b[39mfor\u001b[39;00m batch_idx, (vid_paths, vid_labels) \u001b[39min\u001b[39;00m \u001b[39menumerate\u001b[39m(train_dataloader):\n\u001b[0;32m    191\u001b[0m     \u001b[39mif\u001b[39;00m \u001b[39mself\u001b[39m\u001b[39m.\u001b[39mrandom_augment:\n\u001b[1;32m--> 192\u001b[0m         vid_embeds \u001b[39m=\u001b[39m torch\u001b[39m.\u001b[39mcat([\n\u001b[0;32m    193\u001b[0m             torch\u001b[39m.\u001b[39mfrom_numpy(\u001b[39mself\u001b[39m\u001b[39m.\u001b[39mvlm\u001b[39m.\u001b[39mvideo_encoder(vid_path, random_augment\u001b[39m=\u001b[39m\u001b[39mTrue\u001b[39;00m))\u001b[39m.\u001b[39munsqueeze(\u001b[39m0\u001b[39m)\u001b[39m.\u001b[39mto(DEVICE)\n\u001b[0;32m    194\u001b[0m             \u001b[39mfor\u001b[39;00m vid_path \u001b[39min\u001b[39;00m vid_paths\n\u001b[0;32m    195\u001b[0m         ], dim\u001b[39m=\u001b[39m\u001b[39m0\u001b[39m)\n\u001b[0;32m    196\u001b[0m     \u001b[39melse\u001b[39;00m: \u001b[39m# Use version of video encoder which can cache results for fast lookup\u001b[39;00m\n\u001b[0;32m    197\u001b[0m         vid_embeds \u001b[39m=\u001b[39m torch\u001b[39m.\u001b[39mcat([\n\u001b[0;32m    198\u001b[0m             torch\u001b[39m.\u001b[39mfrom_numpy(\u001b[39mself\u001b[39m\u001b[39m.\u001b[39mvlm\u001b[39m.\u001b[39mget_video_embeds(vid_path))\u001b[39m.\u001b[39munsqueeze(\u001b[39m0\u001b[39m)\u001b[39m.\u001b[39mto(DEVICE)\n\u001b[0;32m    199\u001b[0m             \u001b[39mfor\u001b[39;00m vid_path \u001b[39min\u001b[39;00m vid_paths\n\u001b[0;32m    200\u001b[0m         ], dim\u001b[39m=\u001b[39m\u001b[39m0\u001b[39m)\n",
      "File \u001b[1;32md:\\non_onedrive_code\\vlm_benchmark\\classifier\\name_tuning.py:193\u001b[0m, in \u001b[0;36m<listcomp>\u001b[1;34m(.0)\u001b[0m\n\u001b[0;32m    190\u001b[0m \u001b[39mfor\u001b[39;00m batch_idx, (vid_paths, vid_labels) \u001b[39min\u001b[39;00m \u001b[39menumerate\u001b[39m(train_dataloader):\n\u001b[0;32m    191\u001b[0m     \u001b[39mif\u001b[39;00m \u001b[39mself\u001b[39m\u001b[39m.\u001b[39mrandom_augment:\n\u001b[0;32m    192\u001b[0m         vid_embeds \u001b[39m=\u001b[39m torch\u001b[39m.\u001b[39mcat([\n\u001b[1;32m--> 193\u001b[0m             torch\u001b[39m.\u001b[39mfrom_numpy(\u001b[39mself\u001b[39;49m\u001b[39m.\u001b[39;49mvlm\u001b[39m.\u001b[39;49mvideo_encoder(vid_path, random_augment\u001b[39m=\u001b[39;49m\u001b[39mTrue\u001b[39;49;00m))\u001b[39m.\u001b[39munsqueeze(\u001b[39m0\u001b[39m)\u001b[39m.\u001b[39mto(DEVICE)\n\u001b[0;32m    194\u001b[0m             \u001b[39mfor\u001b[39;00m vid_path \u001b[39min\u001b[39;00m vid_paths\n\u001b[0;32m    195\u001b[0m         ], dim\u001b[39m=\u001b[39m\u001b[39m0\u001b[39m)\n\u001b[0;32m    196\u001b[0m     \u001b[39melse\u001b[39;00m: \u001b[39m# Use version of video encoder which can cache results for fast lookup\u001b[39;00m\n\u001b[0;32m    197\u001b[0m         vid_embeds \u001b[39m=\u001b[39m torch\u001b[39m.\u001b[39mcat([\n\u001b[0;32m    198\u001b[0m             torch\u001b[39m.\u001b[39mfrom_numpy(\u001b[39mself\u001b[39m\u001b[39m.\u001b[39mvlm\u001b[39m.\u001b[39mget_video_embeds(vid_path))\u001b[39m.\u001b[39munsqueeze(\u001b[39m0\u001b[39m)\u001b[39m.\u001b[39mto(DEVICE)\n\u001b[0;32m    199\u001b[0m             \u001b[39mfor\u001b[39;00m vid_path \u001b[39min\u001b[39;00m vid_paths\n\u001b[0;32m    200\u001b[0m         ], dim\u001b[39m=\u001b[39m\u001b[39m0\u001b[39m)\n",
      "File \u001b[1;32md:\\non_onedrive_code\\vlm_benchmark\\MILES\\wrapper.py:161\u001b[0m, in \u001b[0;36mMILES_SimilarityVLM.video_encoder\u001b[1;34m(self, video_path, subvideo_start_frame, subvideo_end_frame, random_augment)\u001b[0m\n\u001b[0;32m    159\u001b[0m video_len \u001b[39m=\u001b[39m \u001b[39mlen\u001b[39m(video_reader)\n\u001b[0;32m    160\u001b[0m frame_indices \u001b[39m=\u001b[39m \u001b[39mself\u001b[39m\u001b[39m.\u001b[39msample_frame_indices(video_len, subvideo_start_frame, subvideo_end_frame, random_augment)\n\u001b[1;32m--> 161\u001b[0m frames \u001b[39m=\u001b[39m video_reader\u001b[39m.\u001b[39;49mget_batch(frame_indices)\u001b[39m.\u001b[39mnumpy()\n\u001b[0;32m    163\u001b[0m \u001b[39m# Transform\u001b[39;00m\n\u001b[0;32m    164\u001b[0m frames \u001b[39m=\u001b[39m torch\u001b[39m.\u001b[39mfrom_numpy(frames)\u001b[39m.\u001b[39mfloat() \u001b[39m/\u001b[39m \u001b[39m255\u001b[39m\n",
      "File \u001b[1;32md:\\ProgramData\\Anaconda3\\envs\\vlm_env\\lib\\site-packages\\decord\\video_reader.py:175\u001b[0m, in \u001b[0;36mVideoReader.get_batch\u001b[1;34m(self, indices)\u001b[0m\n\u001b[0;32m    173\u001b[0m \u001b[39massert\u001b[39;00m \u001b[39mself\u001b[39m\u001b[39m.\u001b[39m_handle \u001b[39mis\u001b[39;00m \u001b[39mnot\u001b[39;00m \u001b[39mNone\u001b[39;00m\n\u001b[0;32m    174\u001b[0m indices \u001b[39m=\u001b[39m _nd\u001b[39m.\u001b[39marray(\u001b[39mself\u001b[39m\u001b[39m.\u001b[39m_validate_indices(indices))\n\u001b[1;32m--> 175\u001b[0m arr \u001b[39m=\u001b[39m _CAPI_VideoReaderGetBatch(\u001b[39mself\u001b[39;49m\u001b[39m.\u001b[39;49m_handle, indices)\n\u001b[0;32m    176\u001b[0m \u001b[39mreturn\u001b[39;00m bridge_out(arr)\n",
      "File \u001b[1;32md:\\ProgramData\\Anaconda3\\envs\\vlm_env\\lib\\site-packages\\decord\\_ffi\\_ctypes\\function.py:173\u001b[0m, in \u001b[0;36mFunctionBase.__call__\u001b[1;34m(self, *args)\u001b[0m\n\u001b[0;32m    171\u001b[0m ret_val \u001b[39m=\u001b[39m DECORDValue()\n\u001b[0;32m    172\u001b[0m ret_tcode \u001b[39m=\u001b[39m ctypes\u001b[39m.\u001b[39mc_int()\n\u001b[1;32m--> 173\u001b[0m check_call(_LIB\u001b[39m.\u001b[39;49mDECORDFuncCall(\n\u001b[0;32m    174\u001b[0m     \u001b[39mself\u001b[39;49m\u001b[39m.\u001b[39;49mhandle, values, tcodes, ctypes\u001b[39m.\u001b[39;49mc_int(num_args),\n\u001b[0;32m    175\u001b[0m     ctypes\u001b[39m.\u001b[39;49mbyref(ret_val), ctypes\u001b[39m.\u001b[39;49mbyref(ret_tcode)))\n\u001b[0;32m    176\u001b[0m _ \u001b[39m=\u001b[39m temp_args\n\u001b[0;32m    177\u001b[0m _ \u001b[39m=\u001b[39m args\n",
      "\u001b[1;31mKeyboardInterrupt\u001b[0m: "
     ]
    }
   ],
   "source": [
    "for name, classifier in classifiers.items():\n",
    "    print(f\"------ {name} ------\")\n",
    "    if name == \"clip\":\n",
    "        classifier.predict(class_names, None, query_videos, val_videos, val_labels) # zero-shot classifier (i.e. default CLIP)\n",
    "    else:\n",
    "        classifier.predict(class_names, support_videos, query_videos, val_videos, val_labels)"
   ]
  },
  {
   "attachments": {},
   "cell_type": "markdown",
   "metadata": {},
   "source": [
    "### Classifier accuracy and tuned class tokens"
   ]
  },
  {
   "cell_type": "code",
   "execution_count": 36,
   "metadata": {},
   "outputs": [
    {
     "name": "stdout",
     "output_type": "stream",
     "text": [
      "------ clip Class Probs ------\n",
      "Accuracy: 0.4\n",
      "Average correct-class prob: 0.397\n",
      "[[0.074 0.11  0.078 0.059 0.679]\n",
      " [0.13  0.583 0.233 0.024 0.03 ]\n",
      " [0.117 0.45  0.373 0.022 0.038]\n",
      " [0.168 0.166 0.144 0.144 0.378]\n",
      " [0.049 0.075 0.029 0.032 0.814]]\n",
      "------ na Class Probs ------\n",
      "Accuracy: 0.6\n",
      "Average correct-class prob: 0.430\n",
      "[[0.016 0.011 0.013 0.114 0.846]\n",
      " [0.148 0.552 0.144 0.099 0.057]\n",
      " [0.117 0.247 0.442 0.073 0.121]\n",
      " [0.535 0.04  0.041 0.307 0.076]\n",
      " [0.026 0.045 0.018 0.079 0.832]]\n",
      "------ coop Class Probs ------\n",
      "Accuracy: 0.6\n",
      "Average correct-class prob: 0.423\n",
      "[[0.042 0.055 0.051 0.112 0.739]\n",
      " [0.077 0.605 0.197 0.034 0.086]\n",
      " [0.072 0.327 0.372 0.075 0.155]\n",
      " [0.246 0.102 0.109 0.265 0.278]\n",
      " [0.034 0.053 0.032 0.051 0.831]]\n"
     ]
    }
   ],
   "source": [
    "for name, classifier in classifiers.items():\n",
    "    print(f\"------ {name} Class Probs ------\")\n",
    "    print(\"Accuracy:\", (classifier.query_class_probabilities.argmax(axis=-1) == np.arange(len(class_names))).mean())\n",
    "    print(f\"Average correct-class prob: {classifier.query_class_probabilities[np.arange(len(class_names)), np.arange(len(class_names))].mean():.3f}\")\n",
    "    print(classifier.query_class_probabilities.round(3))"
   ]
  },
  {
   "cell_type": "code",
   "execution_count": 37,
   "metadata": {},
   "outputs": [
    {
     "name": "stdout",
     "output_type": "stream",
     "text": [
      "the  (0.008) barber  (0.024) is  (0.012) comb (0.032) ing  (0.019) hair  (0.013)\n",
      "the  (0.008) barber  (0.026) is  (0.012) cutting  (0.015) hair  (0.013) with  (0.008) a  (0.006) razor  (0.018)\n",
      "the  (0.007) barber  (0.022) is  (0.008) cutting  (0.014) hair  (0.012) with  (0.008) scissors  (0.022)\n",
      "the  (0.012) barber  (0.029) is  (0.011) drying  (0.026) hair  (0.015)\n",
      "the  (0.012) barber  (0.046) is  (0.018) washing  (0.029) the  (0.012) customer  (0.020) 's  (0.009) hair  (0.018)\n",
      "0 (0.471) 0 (0.453) sundaywithmarsha  (0.441) flyeagles (0.438) instaweather (0.463) 0 (0.463) 0 (0.444) 0 (0.462) 0 (0.449) 0 (0.464) 0 (0.452) 0 (0.454) flyeagles (0.456) 0 (0.459) flyeagles (0.441) 0 (0.432) the  (0.000) barber  (0.000) is  (0.000) comb (0.000) ing  (0.000) hair  (0.000)\n",
      "0 (0.471) 0 (0.453) sundaywithmarsha  (0.441) flyeagles (0.438) instaweather (0.463) 0 (0.463) 0 (0.444) 0 (0.462) 0 (0.449) 0 (0.464) 0 (0.452) 0 (0.454) flyeagles (0.456) 0 (0.459) flyeagles (0.441) 0 (0.432) the  (0.000) barber  (0.000) is  (0.000) cutting  (0.000) hair  (0.000) with  (0.000) a  (0.000) razor  (0.000)\n",
      "0 (0.471) 0 (0.453) sundaywithmarsha  (0.441) flyeagles (0.438) instaweather (0.463) 0 (0.463) 0 (0.444) 0 (0.462) 0 (0.449) 0 (0.464) 0 (0.452) 0 (0.454) flyeagles (0.456) 0 (0.459) flyeagles (0.441) 0 (0.432) the  (0.000) barber  (0.000) is  (0.000) cutting  (0.000) hair  (0.000) with  (0.000) scissors  (0.000)\n",
      "0 (0.471) 0 (0.453) sundaywithmarsha  (0.441) flyeagles (0.438) instaweather (0.463) 0 (0.463) 0 (0.444) 0 (0.462) 0 (0.449) 0 (0.464) 0 (0.452) 0 (0.454) flyeagles (0.456) 0 (0.459) flyeagles (0.441) 0 (0.432) the  (0.000) barber  (0.000) is  (0.000) drying  (0.000) hair  (0.000)\n",
      "0 (0.471) 0 (0.453) sundaywithmarsha  (0.441) flyeagles (0.438) instaweather (0.463) 0 (0.463) 0 (0.444) 0 (0.462) 0 (0.449) 0 (0.464) 0 (0.452) 0 (0.454) flyeagles (0.456) 0 (0.459) flyeagles (0.441) 0 (0.432) the  (0.000) barber  (0.000) is  (0.000) washing  (0.000) the  (0.000) customer  (0.000) 's  (0.000) hair  (0.000)\n"
     ]
    }
   ],
   "source": [
    "def most_similar_words(word_embedding: torch.Tensor, k=1):\n",
    "    token_embeds = vlm.model.text_model.embeddings.token_embedding.weight\n",
    "    token_embeds = F.normalize(token_embeds, dim=1)\n",
    "    word_embedding = F.normalize(word_embedding, dim=0)\n",
    "    similarities = token_embeds @ word_embedding\n",
    "    \n",
    "    best = torch.topk(similarities, k, largest=True)\n",
    "    similarities = best.values.cpu().tolist()\n",
    "    tokens = best.indices\n",
    "    words = [vlm.tokenizer.decode(t) for t in tokens]\n",
    "    \n",
    "    return words, similarities\n",
    "\n",
    "def closest_words(word_embedding: torch.Tensor, k=1):\n",
    "    distances = torch.norm(vlm.model.text_model.embeddings.token_embedding.weight - word_embedding.unsqueeze(0), dim=1)\n",
    "    \n",
    "    best = torch.topk(distances, k, largest=False)\n",
    "    distances = best.values.cpu().tolist()\n",
    "    tokens = best.indices\n",
    "    words = [vlm.tokenizer.decode(t) for t in tokens]\n",
    "    \n",
    "    return words, distances\n",
    "\n",
    "def print_tuned_names(classifier, k=1):\n",
    "    tuned_name_embeds, attn_mask = classifier.tuned_input_embeds\n",
    "    for category_ind in range(n_way):\n",
    "        n_tokens = attn_mask[category_ind].sum().type(torch.long)\n",
    "        start_token_ind = vlm.text_start_special_token_count()\n",
    "        end_token_ind = n_tokens - vlm.text_end_special_token_count()\n",
    "        \n",
    "        # Print a line for most similar replacements, then next most similar, etc\n",
    "        lines = [[] for _ in range(k)]\n",
    "        for token_ind in range(start_token_ind, end_token_ind):\n",
    "            # words, values = most_similar_words(tuned_name_embeds[category_ind, token_ind], k)\n",
    "            words, values = closest_words(tuned_name_embeds[category_ind, token_ind], k)\n",
    "            for i in range(k):\n",
    "                lines[i] += [f\"{words[i]} ({values[i]:.3f})\"]\n",
    "                #lines[i] += [words[i]]\n",
    "        for line in lines:\n",
    "            print(\" \".join(line))\n",
    "\n",
    "for name, classifier in classifiers.items():\n",
    "    if name == \"clip\":\n",
    "        continue\n",
    "    print_tuned_names(classifier)"
   ]
  },
  {
   "attachments": {},
   "cell_type": "markdown",
   "metadata": {},
   "source": [
    "### Output Text Embedding Comparison Diagram"
   ]
  },
  {
   "cell_type": "code",
   "execution_count": null,
   "metadata": {},
   "outputs": [],
   "source": [
    "use_vids_in_sne = True\n",
    "perplexity = 30\n",
    "\n",
    "\n",
    "# Record saved as {class name -> [orig text embed, tuned text embed epoch 0, epoch 1, ...]}\n",
    "orig_text_embeds_per_category = np.array([vlm.get_text_embeds(name) for name in class_names])\n",
    "na_text_embeds_per_category = np.array([classifiers[\"na\"].text_embed_training_record[name][-1] for name in class_names])\n",
    "coop_text_embeds_per_category = np.array([classifiers[\"coop\"].text_embed_training_record[name][-1] for name in class_names])\n",
    "\n",
    "support_video_embeds = np.array([\n",
    "    [\n",
    "        vlm.get_video_embeds(path)\n",
    "        for path in paths\n",
    "    ]\n",
    "    for paths in support_videos\n",
    "])\n",
    "\n",
    "# TSNE transform\n",
    "from sklearn.decomposition import PCA\n",
    "from sklearn.manifold import TSNE\n",
    "sklearn_metric = \"cosine\"\n",
    "\n",
    "stacked_embeddings = []\n",
    "stacked_embeddings.append(orig_text_embeds_per_category)\n",
    "stacked_embeddings.append(na_text_embeds_per_category)\n",
    "stacked_embeddings.append(coop_text_embeds_per_category)\n",
    "if use_vids_in_sne:\n",
    "    stacked_embeddings.append(support_video_embeds.reshape(n_way * n_support, -1))\n",
    "stacked_embeddings = np.concatenate(stacked_embeddings, axis=0)\n",
    "sne_embeddings = TSNE(n_components=2, metric=sklearn_metric, perplexity=perplexity).fit_transform(stacked_embeddings)\n",
    "\n",
    "next_ind = 0\n",
    "orig_text_sne = sne_embeddings[next_ind : next_ind + n_way]\n",
    "next_ind += n_way\n",
    "na_text_sne = sne_embeddings[next_ind : next_ind + n_way]\n",
    "next_ind += n_way\n",
    "coop_text_sne = sne_embeddings[next_ind : next_ind + n_way]\n",
    "next_ind += n_way\n",
    "if use_vids_in_sne:\n",
    "    support_video_sne = sne_embeddings[next_ind : next_ind + n_way * n_support].reshape(n_way, n_support, 2)\n",
    "    next_ind += n_way * n_support"
   ]
  },
  {
   "cell_type": "code",
   "execution_count": null,
   "metadata": {},
   "outputs": [
    {
     "data": {
      "image/png": "[encoded data removed]",
      "text/plain": [
       "<Figure size 600x400 with 1 Axes>"
      ]
     },
     "metadata": {},
     "output_type": "display_data"
    }
   ],
   "source": [
    "show_vids = True\n",
    "\n",
    "method_names = [\"Original\", \"CoOp\", \"Name Tuning\"]\n",
    "method_markers = [\"o\", \"s\", \"^\"]\n",
    "method_text_embeds = [orig_text_sne, coop_text_sne, na_text_sne]\n",
    "\n",
    "color_cycler = iter(plt.cycler(\"color\", plt.cm.tab10.colors))\n",
    "class_colors = [next(color_cycler)[\"color\"] for _ in class_names]\n",
    "\n",
    "fig = plt.figure(figsize=(6, 4))\n",
    "\n",
    "# Plot videos\n",
    "if use_vids_in_sne and show_vids:\n",
    "    for color, video_embeds in zip(class_colors, support_video_sne):\n",
    "        plt.scatter(video_embeds[:, 0], video_embeds[:, 1], s=10, color=color, alpha=0.7)\n",
    "\n",
    "# Plot text for each method\n",
    "for name, marker, text_embeds in zip(method_names, method_markers, method_text_embeds):\n",
    "    for color, class_text_embed in zip(class_colors, text_embeds):\n",
    "        plt.scatter([class_text_embed[0]], [class_text_embed[1]], color=color, marker=marker, s=60)\n",
    "\n",
    "# Create legend\n",
    "legend_entries = [\n",
    "    mlines.Line2D([], [], marker=marker, label=name, color=\"black\", linestyle=\"None\")\n",
    "    for name, marker in zip(method_names, method_markers)\n",
    "]\n",
    "if use_vids_in_sne and show_vids:\n",
    "    legend_entries.append(mlines.Line2D([], [], label=\"Training Videos\", marker=\".\", color=\"black\", linestyle=\"None\"))\n",
    "plt.legend(handles=legend_entries)\n",
    "\n",
    "plt.axis(\"equal\")\n",
    "\n",
    "plt.title(\"Class Name Text Embeddings After Training\")\n",
    "plt.xticks([])\n",
    "plt.yticks([])\n",
    "plt.savefig(f\"text_embed_separation.method_markers.vids_{use_vids_in_sne and show_vids}.pdf\")\n",
    "plt.show()"
   ]
  },
  {
   "cell_type": "code",
   "execution_count": null,
   "metadata": {},
   "outputs": [
    {
     "data": {
      "image/png": "[encoded data removed]",
      "text/plain": [
       "<Figure size 600x800 with 2 Axes>"
      ]
     },
     "metadata": {},
     "output_type": "display_data"
    }
   ],
   "source": [
    "show_vids = True\n",
    "\n",
    "method_names = [\"CoOp\", \"Name Tuning\"]\n",
    "method_text_embeds = [coop_text_sne, na_text_sne]\n",
    "\n",
    "color_cycler = iter(plt.cycler(\"color\", plt.cm.tab10.colors))\n",
    "class_colors = [next(color_cycler)[\"color\"] for _ in class_names]\n",
    "\n",
    "fig,axs = plt.subplots(2, 1, figsize=(6, 8), sharex=True, sharey=True)\n",
    "\n",
    "\n",
    "# Plot text for each method\n",
    "for i, (name, text_embeds) in enumerate(zip(method_names, method_text_embeds)):\n",
    "    ax = axs[i]\n",
    "    \n",
    "    if use_vids_in_sne and show_vids:\n",
    "        for color, video_embeds, class_text_embed in zip(class_colors, support_video_sne, text_embeds):\n",
    "            ax.scatter(video_embeds[:, 0], video_embeds[:, 1], s=10, color=color, marker=\".\", alpha=0.7)\n",
    "            ax.scatter([class_text_embed[0]], [class_text_embed[1]], color=color, marker=\"o\")\n",
    "    else:\n",
    "        for color, class_text_embed in zip(class_colors, text_embeds):\n",
    "            ax.scatter([class_text_embed[0]], [class_text_embed[1]], color=color, marker=\"o\")\n",
    "            \n",
    "    ax.set_title(name)\n",
    "    ax.set_xticks([])\n",
    "    ax.set_yticks([])\n",
    "\n",
    "#plt.axis(\"equal\")\n",
    "\n",
    "plt.xticks([])\n",
    "plt.yticks([])\n",
    "plt.savefig(f\"text_embed_separation.method_markers.vids_{use_vids_in_sne and show_vids}.pdf\")\n",
    "plt.show()"
   ]
  },
  {
   "attachments": {},
   "cell_type": "markdown",
   "metadata": {},
   "source": [
    "# Average Similarity between Class Embeds"
   ]
  },
  {
   "cell_type": "code",
   "execution_count": 278,
   "metadata": {},
   "outputs": [
    {
     "name": "stdout",
     "output_type": "stream",
     "text": [
      "Original: 1.000\n",
      "CoOp: 1.000\n",
      "Name Tuning: 1.000\n",
      "Original: 0.329\n",
      "CoOp: 0.363\n",
      "Name Tuning: 0.434\n"
     ]
    }
   ],
   "source": [
    "for name, text_embeds in zip(method_names, method_text_embeds):\n",
    "    text_embeds = torch.from_numpy(text_embeds)\n",
    "    similarities = F.cosine_similarity(text_embeds.unsqueeze(0).expand(n_way, n_way, -1), text_embeds.unsqueeze(1).expand(n_way, n_way, -1), dim=-1)\n",
    "    similarities *= (1 - torch.eye(n_way))\n",
    "    mean_class_similarity = similarities.sum(dim=(0,1)) / (n_way * (n_way - 1))\n",
    "    print(f\"{name}: {mean_class_similarity:.3f}\")\n",
    "    \n",
    "for name, text_embeds in zip(method_names, method_text_embeds):\n",
    "    text_embeds = torch.from_numpy(text_embeds)\n",
    "    distances = torch.norm(text_embeds.unsqueeze(0) - text_embeds.unsqueeze(1), dim=-1)\n",
    "    distances *= (1 - torch.eye(n_way))\n",
    "    mean_class_distance = distances.sum(dim=(0,1)) / (n_way * (n_way - 1))\n",
    "    print(f\"{name}: {mean_class_distance:.3f}\")"
   ]
  },
  {
   "cell_type": "code",
   "execution_count": null,
   "metadata": {},
   "outputs": [],
   "source": []
  },
  {
   "cell_type": "code",
   "execution_count": null,
   "metadata": {},
   "outputs": [],
   "source": []
  },
  {
   "cell_type": "code",
   "execution_count": null,
   "metadata": {},
   "outputs": [],
   "source": []
  },
  {
   "cell_type": "code",
   "execution_count": null,
   "metadata": {},
   "outputs": [],
   "source": []
  },
  {
   "cell_type": "code",
   "execution_count": null,
   "metadata": {},
   "outputs": [],
   "source": []
  },
  {
   "cell_type": "code",
   "execution_count": null,
   "metadata": {},
   "outputs": [],
   "source": []
  },
  {
   "cell_type": "code",
   "execution_count": null,
   "metadata": {},
   "outputs": [],
   "source": []
  },
  {
   "cell_type": "code",
   "execution_count": null,
   "metadata": {},
   "outputs": [],
   "source": []
  },
  {
   "cell_type": "code",
   "execution_count": null,
   "metadata": {},
   "outputs": [],
   "source": []
  },
  {
   "cell_type": "code",
   "execution_count": null,
   "metadata": {},
   "outputs": [],
   "source": []
  },
  {
   "cell_type": "code",
   "execution_count": null,
   "metadata": {},
   "outputs": [],
   "source": []
  },
  {
   "cell_type": "code",
   "execution_count": null,
   "metadata": {},
   "outputs": [],
   "source": []
  },
  {
   "cell_type": "code",
   "execution_count": null,
   "metadata": {},
   "outputs": [],
   "source": []
  },
  {
   "cell_type": "code",
   "execution_count": 42,
   "metadata": {},
   "outputs": [
    {
     "ename": "NameError",
     "evalue": "name 'classifier' is not defined",
     "output_type": "error",
     "traceback": [
      "\u001b[1;31m---------------------------------------------------------------------------\u001b[0m",
      "\u001b[1;31mNameError\u001b[0m                                 Traceback (most recent call last)",
      "Cell \u001b[1;32mIn[42], line 3\u001b[0m\n\u001b[0;32m      1\u001b[0m \u001b[39m# Get tuned class name embeddings\u001b[39;00m\n\u001b[0;32m      2\u001b[0m orig_name_embeds, _ \u001b[39m=\u001b[39m vlm\u001b[39m.\u001b[39mget_input_word_embeddings(ALLOWED_CLASSES)\n\u001b[1;32m----> 3\u001b[0m tuned_name_embeds, attn_mask \u001b[39m=\u001b[39m classifier\u001b[39m.\u001b[39mtuned_input_embeds[\u001b[39m0\u001b[39m]\n\u001b[0;32m      4\u001b[0m tuned_name_offset \u001b[39m=\u001b[39m tuned_name_embeds \u001b[39m-\u001b[39m orig_name_embeds\n",
      "\u001b[1;31mNameError\u001b[0m: name 'classifier' is not defined"
     ]
    }
   ],
   "source": [
    "# Get tuned class name embeddings\n",
    "orig_name_embeds, _ = vlm.get_input_word_embeddings(ALLOWED_CLASSES)\n",
    "tuned_name_embeds, attn_mask = classifier.tuned_input_embeds[0]\n",
    "tuned_name_offset = tuned_name_embeds - orig_name_embeds"
   ]
  },
  {
   "cell_type": "code",
   "execution_count": null,
   "metadata": {},
   "outputs": [
    {
     "name": "stdout",
     "output_type": "stream",
     "text": [
      "Original name embed norms: 0.3848233222961426\n",
      "Tuned name embed norms: 0.8528121709823608\n",
      "Tuned name offset norms: 0.5832348465919495\n",
      "\n",
      "Offset norms per class:\n",
      " -  dancing ballet\n",
      "    0.84 1.00\n",
      " -  dancing charleston\n",
      "    1.23 1.55\n",
      " -  dancing macarena\n",
      "    1.18 1.94 1.00\n"
     ]
    }
   ],
   "source": [
    "print(\"Original name embed norms:\", torch.norm(orig_name_embeds, dim=-1).mean().item())\n",
    "print(\"Tuned name embed norms:\", torch.norm(tuned_name_embeds, dim=-1).mean().item())\n",
    "print(\"Tuned name offset norms:\", torch.norm(tuned_name_offset, dim=-1).mean().item())\n",
    "\n",
    "print(\"\\nOffset norms per class:\")\n",
    "offset_norms = torch.norm(tuned_name_offset, dim=-1)\n",
    "for category_ind in range(n_way):\n",
    "    start_token_ind = vlm.text_start_special_token_count()\n",
    "    end_token_ind = attn_mask[category_ind].sum() - vlm.text_end_special_token_count()\n",
    "    print(\" - \", class_names[category_ind])\n",
    "    print(\"   \", \" \".join([f\"{norm:.2f}\" for norm in offset_norms[category_ind, start_token_ind:end_token_ind]]))"
   ]
  },
  {
   "cell_type": "code",
   "execution_count": null,
   "metadata": {},
   "outputs": [
    {
     "name": "stdout",
     "output_type": "stream",
     "text": [
      "\n",
      "Original name token similarity:\n",
      " -  1.00 0.01 0.31\n",
      "\n",
      "Tuned name token similarity:\n",
      " -  0.05 -0.05 0.32\n",
      "\n",
      "Tuned name offset token similarity:\n",
      " -  -0.02 -0.06 0.00\n"
     ]
    }
   ],
   "source": [
    "def print_similarity_per_token(embed):\n",
    "    similarity = F.cosine_similarity(\n",
    "        embed.unsqueeze(0).expand(n_way, n_way, *embed.shape[1:]),\n",
    "        embed.unsqueeze(1).expand(n_way, n_way, *embed.shape[1:]),\n",
    "        dim=-1\n",
    "    ).cpu()\n",
    "    similarity *= (1 - torch.eye(n_way).unsqueeze(2))\n",
    "    similarity = similarity.sum(dim=(0, 1)) / (n_way * (n_way - 1))\n",
    "    similarity = similarity[1:-1]\n",
    "    print(\" - \", \" \".join([f\"{s.item():.2f}\" for s in similarity]))\n",
    "\n",
    "print(\"\\nOriginal name token similarity:\")\n",
    "print_similarity_per_token(orig_name_embeds)\n",
    "\n",
    "print(\"\\nTuned name token similarity:\")\n",
    "print_similarity_per_token(tuned_name_embeds)\n",
    "\n",
    "print(\"\\nTuned name offset token similarity:\")\n",
    "print_similarity_per_token(tuned_name_offset)"
   ]
  },
  {
   "cell_type": "code",
   "execution_count": null,
   "metadata": {},
   "outputs": [
    {
     "name": "stdout",
     "output_type": "stream",
     "text": [
      "dancing  ballet \n",
      "dance  recital \n",
      "belle erts \n",
      "legacy  bly\n",
      "\n",
      "\n",
      "dancing  charleston \n",
      "madhuridixit  tooting \n",
      "sleet  memph\n",
      "poles  telford \n",
      "\n",
      "\n",
      "punjab <|startoftext|> arena \n",
      "luxury >  pier \n",
      "tamil  that  stadium \n",
      "dancing  for  fountain \n",
      "\n",
      "\n"
     ]
    }
   ],
   "source": [
    "def closest_words(word_embedding: torch.Tensor, k=1):\n",
    "    distances = torch.norm(vlm.model.text_model.embeddings.token_embedding.weight - word_embedding.unsqueeze(0), dim=1)\n",
    "    \n",
    "    best = torch.topk(distances, k, largest=False)\n",
    "    distances = best.values.cpu().tolist()\n",
    "    tokens = best.indices\n",
    "    words = [vlm.tokenizer.decode(t) for t in tokens]\n",
    "    \n",
    "    return words, distances\n",
    "\n",
    "k = 4\n",
    "for category_ind in range(n_way):\n",
    "    n_tokens = attn_mask[category_ind].sum()\n",
    "    start_token_ind = vlm.text_start_special_token_count()\n",
    "    end_token_ind = n_tokens - vlm.text_end_special_token_count()\n",
    "    \n",
    "    # Print a line for most similar replacements, then next most similar, etc\n",
    "    lines = [[] for _ in range(k)]\n",
    "    for token_ind in range(start_token_ind, end_token_ind):\n",
    "        words, distances = closest_words(tuned_name_embeds[category_ind, token_ind], k)\n",
    "        for i in range(k):\n",
    "            #lines[i] += [f\"{words[i]} ({distances[i]:.3f})\"]\n",
    "            lines[i] += [words[i]]\n",
    "    for line in lines:\n",
    "        print(\" \".join(line))\n",
    "    print(\"\\n\")"
   ]
  },
  {
   "cell_type": "code",
   "execution_count": null,
   "metadata": {},
   "outputs": [
    {
     "name": "stdout",
     "output_type": "stream",
     "text": [
      "dancing  (0.000, 0.000) ballet  (0.000, 0.000)\n",
      "dance  (0.259, 0.019) 2 (0.298, -0.041)\n",
      "coscino  (0.290, -0.002) 0 (0.298, -0.041)\n",
      "0 (0.291, -0.002) 1 (0.298, -0.041)\n",
      "\n",
      "\n",
      "dancing  (0.000, 0.000) charleston  (0.000, 0.000)\n",
      "dance  (0.259, -0.008) 2 (0.301, -0.007)\n",
      "coscino  (0.290, -0.011) 0 (0.301, -0.007)\n",
      "0 (0.290, -0.011) 1 (0.301, -0.007)\n",
      "\n",
      "\n",
      "dancing  (0.000, 0.000) mac (0.000, 0.000) arena  (0.000, 0.000)\n",
      "dance  (0.260, 0.005) 2 (0.272, 0.005) 2 (0.291, -0.018)\n",
      "coscino  (0.290, 0.015) 0 (0.272, 0.005) 0 (0.291, -0.018)\n",
      "0 (0.290, 0.013) 1 (0.272, 0.005) 1 (0.291, -0.018)\n",
      "\n",
      "\n"
     ]
    }
   ],
   "source": [
    "def closest_words_along_line(base_embed: torch.Tensor, direction_embed: torch.Tensor, k=1):\n",
    "    token_embeds = vlm.model.text_model.embeddings.token_embedding.weight\n",
    "    rel_token_embeds = token_embeds - base_embed\n",
    "    rel_token_embeds_parallel_component = rel_token_embeds @ F.normalize(direction_embed, dim=0)\n",
    "    rel_token_embeds_along_dir = F.normalize(direction_embed, dim=0).unsqueeze(0) * rel_token_embeds_parallel_component.unsqueeze(1)\n",
    "    rel_token_embeds_perpendicular = rel_token_embeds - rel_token_embeds_along_dir\n",
    "    \n",
    "    distances = torch.norm(rel_token_embeds_perpendicular, dim=1)\n",
    "    \n",
    "    # Rule out matches that are in opposite direction to direction_embed\n",
    "    # Also rule out matches that are very close to base_embed\n",
    "    #distances[rel_token_embeds_parallel_component <= 0.5] += 1000\n",
    "    \n",
    "    best = torch.topk(distances, k, largest=False)\n",
    "    distances = best.values.cpu().tolist()\n",
    "    tokens = best.indices\n",
    "    words = [vlm.tokenizer.decode(t) for t in tokens]\n",
    "    \n",
    "    parallel_multiplier = (rel_token_embeds_parallel_component[tokens] / torch.norm(direction_embed, dim=0)).tolist()\n",
    "    \n",
    "    return words, distances, parallel_multiplier\n",
    "\n",
    "k = 4\n",
    "for category_ind in range(n_way):\n",
    "    n_tokens = attn_mask[category_ind].sum()\n",
    "    start_token_ind = vlm.text_start_special_token_count()\n",
    "    end_token_ind = n_tokens - vlm.text_end_special_token_count()\n",
    "    \n",
    "    # Print a line for most similar replacements, then next most similar, etc\n",
    "    lines = [[] for _ in range(k)]\n",
    "    for token_ind in range(start_token_ind, end_token_ind):\n",
    "        words, distances, parallel_multiplier = closest_words_along_line(orig_name_embeds[category_ind, token_ind], tuned_name_offset[category_ind, token_ind], k)\n",
    "        for i in range(k):\n",
    "            lines[i] += [f\"{words[i]} ({distances[i]:.3f}, {parallel_multiplier[i]:.3f})\"]\n",
    "    for line in lines:\n",
    "        print(\" \".join(line))\n",
    "    print(\"\\n\")"
   ]
  },
  {
   "cell_type": "code",
   "execution_count": null,
   "metadata": {},
   "outputs": [],
   "source": []
  }
 ],
 "metadata": {
  "kernelspec": {
   "display_name": "vlm_env",
   "language": "python",
   "name": "python3"
  },
  "language_info": {
   "codemirror_mode": {
    "name": "ipython",
    "version": 3
   },
   "file_extension": ".py",
   "mimetype": "text/x-python",
   "name": "python",
   "nbconvert_exporter": "python",
   "pygments_lexer": "ipython3",
   "version": "3.8.16"
  },
  "orig_nbformat": 4
 },
 "nbformat": 4,
 "nbformat_minor": 2
}
